{
 "cells": [
  {
   "cell_type": "markdown",
   "id": "3c994641",
   "metadata": {},
   "source": [
    "# Continous Assessment - 2\n",
    "\n",
    "### Transportation Sector\n",
    "##### Aviation\n",
    "\n",
    "It is critical that Irish aviation practices and procedures comply with best international standards; promoting the development of a vibrant, competitive and progressively regulated aviation sector and the provision of adequate airport infrastructure and competitive airport services.\n",
    "\n",
    "##### Ireland's aviation policy is centred around three main aims:\n",
    "\n",
    "- To enhance Ireland’s connectivity by ensuring safe, secure and competitive access responsive to the needs of business, tourism and consumers.\n",
    "- To foster the growth of aviation enterprise in Ireland to support job creation and position Ireland as a recognised global leader in aviation.\n",
    "- To maximise the contribution of the aviation sector to Ireland’s economic growth and development"
   ]
  },
  {
   "cell_type": "code",
   "execution_count": 48,
   "id": "230824bb",
   "metadata": {},
   "outputs": [
    {
     "name": "stderr",
     "output_type": "stream",
     "text": [
      "WARNING:root:Requests made without an app_token will be subject to strict throttling limits.\n"
     ]
    }
   ],
   "source": [
    "import pandas as pd\n",
    "import numpy as np\n",
    "from sodapy import Socrata\n",
    "import matplotlib.pyplot as plt\n",
    "import seaborn as sns\n",
    "from scipy import stats\n",
    "from scipy.stats import chi2_contingency\n",
    "import statsmodels.api as sm\n",
    "from statsmodels.formula.api import ols\n",
    "import plotly.express as px\n",
    "from sklearn.model_selection import train_test_split\n",
    "from sklearn.linear_model import LinearRegression\n",
    "from sklearn.ensemble import RandomForestRegressor, GradientBoostingRegressor\n",
    "from sklearn.svm import SVR\n",
    "from sklearn.metrics import mean_squared_error, mean_absolute_error\n",
    "from sklearn.neural_network import MLPRegressor\n",
    "from sklearn.preprocessing import MinMaxScaler\n",
    "from scipy.stats import randint\n",
    "from bokeh.plotting import figure, show, output_notebook\n",
    "from bokeh.models import ColumnDataSource\n",
    "from bokeh.transform import dodge\n",
    "\n",
    "# Define filenames\n",
    "ireland_dataset_filename1 = 'TAA02.20240102175208.csv'\n",
    "ireland_dataset_filename2 = 'TAA03.20240102175407.csv'\n",
    "\n",
    "# Load Ireland datasets efficiently with specified data types and necessary columns\n",
    "dtypes_ireland = { 'C02191V03548': 'category', 'C02191V04000': 'category', 'STATISTIC': 'category', 'Statistic Label': 'category', 'TLIST(A1)': 'category', 'C02935V03550': 'category', 'C02354V02832': 'category', 'C02936V03551': 'category' }\n",
    "columns_to_use_ireland = ['YEAR', 'MONTH', 'VALUE']  # Include only relevant columns\n",
    "\n",
    "ireland_dataset_1 = pd.read_csv(ireland_dataset_filename1, dtype=dtypes_ireland, usecols=columns_to_use_ireland)\n",
    "ireland_dataset_2 = pd.read_csv(ireland_dataset_filename2, dtype=dtypes_ireland, usecols=columns_to_use_ireland)\n",
    "\n",
    "# Combine Ireland datasets\n",
    "combined_ireland_dataset = pd.concat([ireland_dataset_1, ireland_dataset_2], ignore_index=True)\n",
    "\n",
    "# Load LA dataset using Socrata client\n",
    "client = Socrata(\"data.lacity.org\", None)\n",
    "results = client.get(\"d3a2-7j6v\", limit=2000)\n",
    "la_flights_dataset = pd.DataFrame.from_records(results)\n",
    "\n",
    "# Optimize data types for LA dataset\n",
    "dtypes_la = { 'reportperiod': 'str', 'passenger_count': 'int32' }\n",
    "la_flights_dataset = la_flights_dataset.astype(dtypes_la)\n",
    "\n",
    "# Convert 'reportperiod' to datetime and extract month and year\n",
    "la_flights_dataset['reportperiod'] = pd.to_datetime(la_flights_dataset['reportperiod'])\n",
    "la_flights_dataset['month'] = la_flights_dataset['reportperiod'].dt.month.astype('int8')\n",
    "la_flights_dataset['year'] = la_flights_dataset['reportperiod'].dt.year.astype('int16')\n",
    "\n",
    "# Data Engineering for Ireland Dataset\n",
    "combined_ireland_dataset['value'] = combined_ireland_dataset['value'].astype('float32')\n",
    "combined_ireland_dataset['passenger_millions'] = combined_ireland_dataset['value'] / 1000\n",
    "\n",
    "# Min-Max Normalization\n",
    "scaler = MinMaxScaler()\n",
    "ireland_passenger_values = combined_ireland_dataset['passenger_millions'].values.reshape(-1, 1)\n",
    "la_passenger_values = la_flights_dataset['passenger_count'].values.reshape(-1, 1)\n",
    "\n",
    "scaler.fit(ireland_passenger_values)\n",
    "combined_ireland_dataset['scaled_passenger_millions'] = scaler.transform(ireland_passenger_values)\n",
    "la_flights_dataset['scaled_passenger_count'] = scaler.transform(la_passenger_values) / 1_000_000\n",
    "\n",
    "# Clean up to free memory\n",
    "del ireland_dataset_1, ireland_dataset_2, ireland_passenger_values, la_passenger_values"
   ]
  },
  {
   "cell_type": "code",
   "execution_count": 50,
   "id": "29650ebb",
   "metadata": {
    "scrolled": false
   },
   "outputs": [
    {
     "name": "stdout",
     "output_type": "stream",
     "text": [
      "LA Flights Dataset Info:\n",
      "<class 'pandas.core.frame.DataFrame'>\n",
      "RangeIndex: 2011 entries, 0 to 2010\n",
      "Data columns (total 9 columns):\n",
      " #   Column                  Non-Null Count  Dtype         \n",
      "---  ------                  --------------  -----         \n",
      " 0   DataExtractDate         2011 non-null   object        \n",
      " 1   ReportPeriod            2011 non-null   datetime64[ns]\n",
      " 2   Arrival_Departure       2011 non-null   object        \n",
      " 3   Domestic_International  2011 non-null   object        \n",
      " 4   FlightType              2011 non-null   object        \n",
      " 5   Passenger_Count         2011 non-null   int32         \n",
      " 6   Month                   2011 non-null   int8          \n",
      " 7   Year                    2011 non-null   int16         \n",
      " 8   Scaled Passenger Count  2011 non-null   float64       \n",
      "dtypes: datetime64[ns](1), float64(1), int16(1), int32(1), int8(1), object(4)\n",
      "memory usage: 108.1+ KB\n",
      "\n",
      "LA Flights Dataset Describe:\n",
      "       Passenger_Count        Month         Year  Scaled Passenger Count\n",
      "count     2.011000e+03  2011.000000  2011.000000             2011.000000\n",
      "mean      5.884423e+05     6.356042  2013.636997                0.015464\n",
      "std       8.125686e+05     3.438665     5.077950                0.021353\n",
      "min       0.000000e+00     1.000000  2006.000000                0.000000\n",
      "25%       5.250000e+02     3.000000  2009.000000                0.000014\n",
      "50%       4.553900e+04     6.000000  2013.000000                0.001197\n",
      "75%       9.349135e+05     9.000000  2018.000000                0.024568\n",
      "max       2.984321e+06    12.000000  2023.000000                0.078425\n",
      "\n",
      "Ireland Dataset Info:\n",
      "<class 'pandas.core.frame.DataFrame'>\n",
      "RangeIndex: 184788 entries, 0 to 184787\n",
      "Data columns (total 9 columns):\n",
      " #   Column                     Non-Null Count   Dtype  \n",
      "---  ------                     --------------   -----  \n",
      " 0   Year                       184788 non-null  int64  \n",
      " 1   Airports in Ireland        184788 non-null  object \n",
      " 2   Country                    184788 non-null  object \n",
      " 3   Direction                  184788 non-null  object \n",
      " 4   Flight Type                184788 non-null  object \n",
      " 5   UNIT                       184788 non-null  object \n",
      " 6   VALUE                      184788 non-null  float32\n",
      " 7   Passenger Millions         184788 non-null  float32\n",
      " 8   Scaled Passenger Millions  184788 non-null  float32\n",
      "dtypes: float32(3), int64(1), object(5)\n",
      "memory usage: 10.6+ MB\n",
      "\n",
      "Ireland Dataset Describe:\n",
      "                Year          VALUE  Passenger Millions  \\\n",
      "count  184788.000000  184788.000000       184788.000000   \n",
      "mean     2013.155172      89.303139            0.089303   \n",
      "std         5.198826    1003.061157            1.005844   \n",
      "min      2005.000000       0.000000            0.000000   \n",
      "25%      2009.000000       0.000000            0.000000   \n",
      "50%      2013.000000       0.000000            0.000000   \n",
      "75%      2018.000000       0.200000            0.000200   \n",
      "max      2022.000000   38053.398438           38.053398   \n",
      "\n",
      "       Scaled Passenger Millions  \n",
      "count              184788.000000  \n",
      "mean                    0.002347  \n",
      "std                     0.026355  \n",
      "min                     0.000000  \n",
      "25%                     0.000000  \n",
      "50%                     0.000000  \n",
      "75%                     0.000005  \n",
      "max                     1.000000  \n"
     ]
    },
    {
     "data": {
      "image/png": "[encoded data removed]",
      "text/plain": [
       "<Figure size 1200x600 with 2 Axes>"
      ]
     },
     "metadata": {},
     "output_type": "display_data"
    },
    {
     "data": {
      "image/png": "[encoded data removed]",
      "text/plain": [
       "<Figure size 1200x600 with 2 Axes>"
      ]
     },
     "metadata": {},
     "output_type": "display_data"
    },
    {
     "data": {
      "application/vnd.plotly.v1+json": {
       "config": {
        "plotlyServerURL": "https://plot.ly"
       },
       "data": [
        {
         "hovertemplate": "Location=Passengers_Ireland<br>year=%{x}<br>Total Passengers=%{y}<extra></extra>",
         "legendgroup": "Passengers_Ireland",
         "line": {
          "color": "#636efa",
          "dash": "solid"
         },
         "marker": {
          "symbol": "circle"
         },
         "mode": "lines",
         "name": "Passengers_Ireland",
         "orientation": "v",
         "showlegend": true,
         "type": "scatter",
         "x": [
          2005,
          2006,
          2007,
          2008,
          2009,
          2010,
          2011,
          2012,
          2013,
          2014,
          2015,
          2016,
          2017,
          2018,
          2019,
          2020,
          2021,
          2022
         ],
         "xaxis": "x",
         "y": [
          0.0020432567689567804,
          0.0023044974077492952,
          0.002460577292367816,
          0.0024530221708118916,
          0.0021461243741214275,
          0.0018826468149200082,
          0.00190143589861691,
          0.0019112398149445653,
          0.002333702053874731,
          0.0024933088570833206,
          0.0027949076611548662,
          0.0030854293145239353,
          0.003220608923584223,
          0.0033883079886436462,
          0.003526434302330017,
          0.0007213481585495174,
          0.0008574167732149363,
          0.0029964419081807137
         ],
         "yaxis": "y"
        },
        {
         "hovertemplate": "Location=Passengers_LA<br>year=%{x}<br>Total Passengers=%{y}<extra></extra>",
         "legendgroup": "Passengers_LA",
         "line": {
          "color": "#EF553B",
          "dash": "solid"
         },
         "marker": {
          "symbol": "circle"
         },
         "mode": "lines",
         "name": "Passengers_LA",
         "orientation": "v",
         "showlegend": true,
         "type": "scatter",
         "x": [
          2005,
          2006,
          2007,
          2008,
          2009,
          2010,
          2011,
          2012,
          2013,
          2014,
          2015,
          2016,
          2017,
          2018,
          2019,
          2020,
          2021,
          2022
         ],
         "xaxis": "x",
         "y": [
          0.011623764441829365,
          0.012064815821264856,
          0.01147460786595492,
          0.011513980422962413,
          0.013044502175269678,
          0.013661045148601865,
          0.014183486349741738,
          0.012165968488386808,
          0.013456209534756016,
          0.018071251833194253,
          0.02064591221832186,
          0.024418774363657112,
          0.026747352821799842,
          0.02515573070110512,
          0.008220578689758605,
          0.01342161435195023,
          0.01927265134147594,
          0.02169915749504383
         ],
         "yaxis": "y"
        }
       ],
       "layout": {
        "legend": {
         "title": {
          "text": "Location"
         },
         "tracegroupgap": 0
        },
        "template": {
         "data": {
          "bar": [
           {
            "error_x": {
             "color": "#2a3f5f"
            },
            "error_y": {
             "color": "#2a3f5f"
            },
            "marker": {
             "line": {
              "color": "#E5ECF6",
              "width": 0.5
             },
             "pattern": {
              "fillmode": "overlay",
              "size": 10,
              "solidity": 0.2
             }
            },
            "type": "bar"
           }
          ],
          "barpolar": [
           {
            "marker": {
             "line": {
              "color": "#E5ECF6",
              "width": 0.5
             },
             "pattern": {
              "fillmode": "overlay",
              "size": 10,
              "solidity": 0.2
             }
            },
            "type": "barpolar"
           }
          ],
          "carpet": [
           {
            "aaxis": {
             "endlinecolor": "#2a3f5f",
             "gridcolor": "white",
             "linecolor": "white",
             "minorgridcolor": "white",
             "startlinecolor": "#2a3f5f"
            },
            "baxis": {
             "endlinecolor": "#2a3f5f",
             "gridcolor": "white",
             "linecolor": "white",
             "minorgridcolor": "white",
             "startlinecolor": "#2a3f5f"
            },
            "type": "carpet"
           }
          ],
          "choropleth": [
           {
            "colorbar": {
             "outlinewidth": 0,
             "ticks": ""
            },
            "type": "choropleth"
           }
          ],
          "contour": [
           {
            "colorbar": {
             "outlinewidth": 0,
             "ticks": ""
            },
            "colorscale": [
             [
              0,
              "#0d0887"
             ],
             [
              0.1111111111111111,
              "#46039f"
             ],
             [
              0.2222222222222222,
              "#7201a8"
             ],
             [
              0.3333333333333333,
              "#9c179e"
             ],
             [
              0.4444444444444444,
              "#bd3786"
             ],
             [
              0.5555555555555556,
              "#d8576b"
             ],
             [
              0.6666666666666666,
              "#ed7953"
             ],
             [
              0.7777777777777778,
              "#fb9f3a"
             ],
             [
              0.8888888888888888,
              "#fdca26"
             ],
             [
              1,
              "#f0f921"
             ]
            ],
            "type": "contour"
           }
          ],
          "contourcarpet": [
           {
            "colorbar": {
             "outlinewidth": 0,
             "ticks": ""
            },
            "type": "contourcarpet"
           }
          ],
          "heatmap": [
           {
            "colorbar": {
             "outlinewidth": 0,
             "ticks": ""
            },
            "colorscale": [
             [
              0,
              "#0d0887"
             ],
             [
              0.1111111111111111,
              "#46039f"
             ],
             [
              0.2222222222222222,
              "#7201a8"
             ],
             [
              0.3333333333333333,
              "#9c179e"
             ],
             [
              0.4444444444444444,
              "#bd3786"
             ],
             [
              0.5555555555555556,
              "#d8576b"
             ],
             [
              0.6666666666666666,
              "#ed7953"
             ],
             [
              0.7777777777777778,
              "#fb9f3a"
             ],
             [
              0.8888888888888888,
              "#fdca26"
             ],
             [
              1,
              "#f0f921"
             ]
            ],
            "type": "heatmap"
           }
          ],
          "heatmapgl": [
           {
            "colorbar": {
             "outlinewidth": 0,
             "ticks": ""
            },
            "colorscale": [
             [
              0,
              "#0d0887"
             ],
             [
              0.1111111111111111,
              "#46039f"
             ],
             [
              0.2222222222222222,
              "#7201a8"
             ],
             [
              0.3333333333333333,
              "#9c179e"
             ],
             [
              0.4444444444444444,
              "#bd3786"
             ],
             [
              0.5555555555555556,
              "#d8576b"
             ],
             [
              0.6666666666666666,
              "#ed7953"
             ],
             [
              0.7777777777777778,
              "#fb9f3a"
             ],
             [
              0.8888888888888888,
              "#fdca26"
             ],
             [
              1,
              "#f0f921"
             ]
            ],
            "type": "heatmapgl"
           }
          ],
          "histogram": [
           {
            "marker": {
             "pattern": {
              "fillmode": "overlay",
              "size": 10,
              "solidity": 0.2
             }
            },
            "type": "histogram"
           }
          ],
          "histogram2d": [
           {
            "colorbar": {
             "outlinewidth": 0,
             "ticks": ""
            },
            "colorscale": [
             [
              0,
              "#0d0887"
             ],
             [
              0.1111111111111111,
              "#46039f"
             ],
             [
              0.2222222222222222,
              "#7201a8"
             ],
             [
              0.3333333333333333,
              "#9c179e"
             ],
             [
              0.4444444444444444,
              "#bd3786"
             ],
             [
              0.5555555555555556,
              "#d8576b"
             ],
             [
              0.6666666666666666,
              "#ed7953"
             ],
             [
              0.7777777777777778,
              "#fb9f3a"
             ],
             [
              0.8888888888888888,
              "#fdca26"
             ],
             [
              1,
              "#f0f921"
             ]
            ],
            "type": "histogram2d"
           }
          ],
          "histogram2dcontour": [
           {
            "colorbar": {
             "outlinewidth": 0,
             "ticks": ""
            },
            "colorscale": [
             [
              0,
              "#0d0887"
             ],
             [
              0.1111111111111111,
              "#46039f"
             ],
             [
              0.2222222222222222,
              "#7201a8"
             ],
             [
              0.3333333333333333,
              "#9c179e"
             ],
             [
              0.4444444444444444,
              "#bd3786"
             ],
             [
              0.5555555555555556,
              "#d8576b"
             ],
             [
              0.6666666666666666,
              "#ed7953"
             ],
             [
              0.7777777777777778,
              "#fb9f3a"
             ],
             [
              0.8888888888888888,
              "#fdca26"
             ],
             [
              1,
              "#f0f921"
             ]
            ],
            "type": "histogram2dcontour"
           }
          ],
          "mesh3d": [
           {
            "colorbar": {
             "outlinewidth": 0,
             "ticks": ""
            },
            "type": "mesh3d"
           }
          ],
          "parcoords": [
           {
            "line": {
             "colorbar": {
              "outlinewidth": 0,
              "ticks": ""
             }
            },
            "type": "parcoords"
           }
          ],
          "pie": [
           {
            "automargin": true,
            "type": "pie"
           }
          ],
          "scatter": [
           {
            "fillpattern": {
             "fillmode": "overlay",
             "size": 10,
             "solidity": 0.2
            },
            "type": "scatter"
           }
          ],
          "scatter3d": [
           {
            "line": {
             "colorbar": {
              "outlinewidth": 0,
              "ticks": ""
             }
            },
            "marker": {
             "colorbar": {
              "outlinewidth": 0,
              "ticks": ""
             }
            },
            "type": "scatter3d"
           }
          ],
          "scattercarpet": [
           {
            "marker": {
             "colorbar": {
              "outlinewidth": 0,
              "ticks": ""
             }
            },
            "type": "scattercarpet"
           }
          ],
          "scattergeo": [
           {
            "marker": {
             "colorbar": {
              "outlinewidth": 0,
              "ticks": ""
             }
            },
            "type": "scattergeo"
           }
          ],
          "scattergl": [
           {
            "marker": {
             "colorbar": {
              "outlinewidth": 0,
              "ticks": ""
             }
            },
            "type": "scattergl"
           }
          ],
          "scattermapbox": [
           {
            "marker": {
             "colorbar": {
              "outlinewidth": 0,
              "ticks": ""
             }
            },
            "type": "scattermapbox"
           }
          ],
          "scatterpolar": [
           {
            "marker": {
             "colorbar": {
              "outlinewidth": 0,
              "ticks": ""
             }
            },
            "type": "scatterpolar"
           }
          ],
          "scatterpolargl": [
           {
            "marker": {
             "colorbar": {
              "outlinewidth": 0,
              "ticks": ""
             }
            },
            "type": "scatterpolargl"
           }
          ],
          "scatterternary": [
           {
            "marker": {
             "colorbar": {
              "outlinewidth": 0,
              "ticks": ""
             }
            },
            "type": "scatterternary"
           }
          ],
          "surface": [
           {
            "colorbar": {
             "outlinewidth": 0,
             "ticks": ""
            },
            "colorscale": [
             [
              0,
              "#0d0887"
             ],
             [
              0.1111111111111111,
              "#46039f"
             ],
             [
              0.2222222222222222,
              "#7201a8"
             ],
             [
              0.3333333333333333,
              "#9c179e"
             ],
             [
              0.4444444444444444,
              "#bd3786"
             ],
             [
              0.5555555555555556,
              "#d8576b"
             ],
             [
              0.6666666666666666,
              "#ed7953"
             ],
             [
              0.7777777777777778,
              "#fb9f3a"
             ],
             [
              0.8888888888888888,
              "#fdca26"
             ],
             [
              1,
              "#f0f921"
             ]
            ],
            "type": "surface"
           }
          ],
          "table": [
           {
            "cells": {
             "fill": {
              "color": "#EBF0F8"
             },
             "line": {
              "color": "white"
             }
            },
            "header": {
             "fill": {
              "color": "#C8D4E3"
             },
             "line": {
              "color": "white"
             }
            },
            "type": "table"
           }
          ]
         },
         "layout": {
          "annotationdefaults": {
           "arrowcolor": "#2a3f5f",
           "arrowhead": 0,
           "arrowwidth": 1
          },
          "autotypenumbers": "strict",
          "coloraxis": {
           "colorbar": {
            "outlinewidth": 0,
            "ticks": ""
           }
          },
          "colorscale": {
           "diverging": [
            [
             0,
             "#8e0152"
            ],
            [
             0.1,
             "#c51b7d"
            ],
            [
             0.2,
             "#de77ae"
            ],
            [
             0.3,
             "#f1b6da"
            ],
            [
             0.4,
             "#fde0ef"
            ],
            [
             0.5,
             "#f7f7f7"
            ],
            [
             0.6,
             "#e6f5d0"
            ],
            [
             0.7,
             "#b8e186"
            ],
            [
             0.8,
             "#7fbc41"
            ],
            [
             0.9,
             "#4d9221"
            ],
            [
             1,
             "#276419"
            ]
           ],
           "sequential": [
            [
             0,
             "#0d0887"
            ],
            [
             0.1111111111111111,
             "#46039f"
            ],
            [
             0.2222222222222222,
             "#7201a8"
            ],
            [
             0.3333333333333333,
             "#9c179e"
            ],
            [
             0.4444444444444444,
             "#bd3786"
            ],
            [
             0.5555555555555556,
             "#d8576b"
            ],
            [
             0.6666666666666666,
             "#ed7953"
            ],
            [
             0.7777777777777778,
             "#fb9f3a"
            ],
            [
             0.8888888888888888,
             "#fdca26"
            ],
            [
             1,
             "#f0f921"
            ]
           ],
           "sequentialminus": [
            [
             0,
             "#0d0887"
            ],
            [
             0.1111111111111111,
             "#46039f"
            ],
            [
             0.2222222222222222,
             "#7201a8"
            ],
            [
             0.3333333333333333,
             "#9c179e"
            ],
            [
             0.4444444444444444,
             "#bd3786"
            ],
            [
             0.5555555555555556,
             "#d8576b"
            ],
            [
             0.6666666666666666,
             "#ed7953"
            ],
            [
             0.7777777777777778,
             "#fb9f3a"
            ],
            [
             0.8888888888888888,
             "#fdca26"
            ],
            [
             1,
             "#f0f921"
            ]
           ]
          },
          "colorway": [
           "#636efa",
           "#EF553B",
           "#00cc96",
           "#ab63fa",
           "#FFA15A",
           "#19d3f3",
           "#FF6692",
           "#B6E880",
           "#FF97FF",
           "#FECB52"
          ],
          "font": {
           "color": "#2a3f5f"
          },
          "geo": {
           "bgcolor": "white",
           "lakecolor": "white",
           "landcolor": "#E5ECF6",
           "showlakes": true,
           "showland": true,
           "subunitcolor": "white"
          },
          "hoverlabel": {
           "align": "left"
          },
          "hovermode": "closest",
          "mapbox": {
           "style": "light"
          },
          "paper_bgcolor": "white",
          "plot_bgcolor": "#E5ECF6",
          "polar": {
           "angularaxis": {
            "gridcolor": "white",
            "linecolor": "white",
            "ticks": ""
           },
           "bgcolor": "#E5ECF6",
           "radialaxis": {
            "gridcolor": "white",
            "linecolor": "white",
            "ticks": ""
           }
          },
          "scene": {
           "xaxis": {
            "backgroundcolor": "#E5ECF6",
            "gridcolor": "white",
            "gridwidth": 2,
            "linecolor": "white",
            "showbackground": true,
            "ticks": "",
            "zerolinecolor": "white"
           },
           "yaxis": {
            "backgroundcolor": "#E5ECF6",
            "gridcolor": "white",
            "gridwidth": 2,
            "linecolor": "white",
            "showbackground": true,
            "ticks": "",
            "zerolinecolor": "white"
           },
           "zaxis": {
            "backgroundcolor": "#E5ECF6",
            "gridcolor": "white",
            "gridwidth": 2,
            "linecolor": "white",
            "showbackground": true,
            "ticks": "",
            "zerolinecolor": "white"
           }
          },
          "shapedefaults": {
           "line": {
            "color": "#2a3f5f"
           }
          },
          "ternary": {
           "aaxis": {
            "gridcolor": "white",
            "linecolor": "white",
            "ticks": ""
           },
           "baxis": {
            "gridcolor": "white",
            "linecolor": "white",
            "ticks": ""
           },
           "bgcolor": "#E5ECF6",
           "caxis": {
            "gridcolor": "white",
            "linecolor": "white",
            "ticks": ""
           }
          },
          "title": {
           "x": 0.05
          },
          "xaxis": {
           "automargin": true,
           "gridcolor": "white",
           "linecolor": "white",
           "ticks": "",
           "title": {
            "standoff": 15
           },
           "zerolinecolor": "white",
           "zerolinewidth": 2
          },
          "yaxis": {
           "automargin": true,
           "gridcolor": "white",
           "linecolor": "white",
           "ticks": "",
           "title": {
            "standoff": 15
           },
           "zerolinecolor": "white",
           "zerolinewidth": 2
          }
         }
        },
        "title": {
         "text": "Yearly Passenger Trends Comparison: Ireland vs LA (Scaled)"
        },
        "xaxis": {
         "anchor": "y",
         "domain": [
          0,
          1
         ],
         "title": {
          "text": "year"
         }
        },
        "yaxis": {
         "anchor": "x",
         "domain": [
          0,
          1
         ],
         "title": {
          "text": "Total Passengers"
         }
        }
       }
      },
      "text/html": [
       "<div>                            <div id=\"5c8725be-6076-44a9-9b69-9edfeecc88f2\" class=\"plotly-graph-div\" style=\"height:525px; width:100%;\"></div>            <script type=\"text/javascript\">                require([\"plotly\"], function(Plotly) {                    window.PLOTLYENV=window.PLOTLYENV || {};                                    if (document.getElementById(\"5c8725be-6076-44a9-9b69-9edfeecc88f2\")) {                    Plotly.newPlot(                        \"5c8725be-6076-44a9-9b69-9edfeecc88f2\",                        [{\"hovertemplate\":\"Location=Passengers_Ireland<br>year=%{x}<br>Total Passengers=%{y}<extra></extra>\",\"legendgroup\":\"Passengers_Ireland\",\"line\":{\"color\":\"#636efa\",\"dash\":\"solid\"},\"marker\":{\"symbol\":\"circle\"},\"mode\":\"lines\",\"name\":\"Passengers_Ireland\",\"orientation\":\"v\",\"showlegend\":true,\"x\":[2005,2006,2007,2008,2009,2010,2011,2012,2013,2014,2015,2016,2017,2018,2019,2020,2021,2022],\"xaxis\":\"x\",\"y\":[0.0020432567689567804,0.0023044974077492952,0.002460577292367816,0.0024530221708118916,0.0021461243741214275,0.0018826468149200082,0.00190143589861691,0.0019112398149445653,0.002333702053874731,0.0024933088570833206,0.0027949076611548662,0.0030854293145239353,0.003220608923584223,0.0033883079886436462,0.003526434302330017,0.0007213481585495174,0.0008574167732149363,0.0029964419081807137],\"yaxis\":\"y\",\"type\":\"scatter\"},{\"hovertemplate\":\"Location=Passengers_LA<br>year=%{x}<br>Total Passengers=%{y}<extra></extra>\",\"legendgroup\":\"Passengers_LA\",\"line\":{\"color\":\"#EF553B\",\"dash\":\"solid\"},\"marker\":{\"symbol\":\"circle\"},\"mode\":\"lines\",\"name\":\"Passengers_LA\",\"orientation\":\"v\",\"showlegend\":true,\"x\":[2005,2006,2007,2008,2009,2010,2011,2012,2013,2014,2015,2016,2017,2018,2019,2020,2021,2022],\"xaxis\":\"x\",\"y\":[0.011623764441829365,0.012064815821264856,0.01147460786595492,0.011513980422962413,0.013044502175269678,0.013661045148601865,0.014183486349741738,0.012165968488386808,0.013456209534756016,0.018071251833194253,0.02064591221832186,0.024418774363657112,0.026747352821799842,0.02515573070110512,0.008220578689758605,0.01342161435195023,0.01927265134147594,0.02169915749504383],\"yaxis\":\"y\",\"type\":\"scatter\"}],                        {\"template\":{\"data\":{\"histogram2dcontour\":[{\"type\":\"histogram2dcontour\",\"colorbar\":{\"outlinewidth\":0,\"ticks\":\"\"},\"colorscale\":[[0.0,\"#0d0887\"],[0.1111111111111111,\"#46039f\"],[0.2222222222222222,\"#7201a8\"],[0.3333333333333333,\"#9c179e\"],[0.4444444444444444,\"#bd3786\"],[0.5555555555555556,\"#d8576b\"],[0.6666666666666666,\"#ed7953\"],[0.7777777777777778,\"#fb9f3a\"],[0.8888888888888888,\"#fdca26\"],[1.0,\"#f0f921\"]]}],\"choropleth\":[{\"type\":\"choropleth\",\"colorbar\":{\"outlinewidth\":0,\"ticks\":\"\"}}],\"histogram2d\":[{\"type\":\"histogram2d\",\"colorbar\":{\"outlinewidth\":0,\"ticks\":\"\"},\"colorscale\":[[0.0,\"#0d0887\"],[0.1111111111111111,\"#46039f\"],[0.2222222222222222,\"#7201a8\"],[0.3333333333333333,\"#9c179e\"],[0.4444444444444444,\"#bd3786\"],[0.5555555555555556,\"#d8576b\"],[0.6666666666666666,\"#ed7953\"],[0.7777777777777778,\"#fb9f3a\"],[0.8888888888888888,\"#fdca26\"],[1.0,\"#f0f921\"]]}],\"heatmap\":[{\"type\":\"heatmap\",\"colorbar\":{\"outlinewidth\":0,\"ticks\":\"\"},\"colorscale\":[[0.0,\"#0d0887\"],[0.1111111111111111,\"#46039f\"],[0.2222222222222222,\"#7201a8\"],[0.3333333333333333,\"#9c179e\"],[0.4444444444444444,\"#bd3786\"],[0.5555555555555556,\"#d8576b\"],[0.6666666666666666,\"#ed7953\"],[0.7777777777777778,\"#fb9f3a\"],[0.8888888888888888,\"#fdca26\"],[1.0,\"#f0f921\"]]}],\"heatmapgl\":[{\"type\":\"heatmapgl\",\"colorbar\":{\"outlinewidth\":0,\"ticks\":\"\"},\"colorscale\":[[0.0,\"#0d0887\"],[0.1111111111111111,\"#46039f\"],[0.2222222222222222,\"#7201a8\"],[0.3333333333333333,\"#9c179e\"],[0.4444444444444444,\"#bd3786\"],[0.5555555555555556,\"#d8576b\"],[0.6666666666666666,\"#ed7953\"],[0.7777777777777778,\"#fb9f3a\"],[0.8888888888888888,\"#fdca26\"],[1.0,\"#f0f921\"]]}],\"contourcarpet\":[{\"type\":\"contourcarpet\",\"colorbar\":{\"outlinewidth\":0,\"ticks\":\"\"}}],\"contour\":[{\"type\":\"contour\",\"colorbar\":{\"outlinewidth\":0,\"ticks\":\"\"},\"colorscale\":[[0.0,\"#0d0887\"],[0.1111111111111111,\"#46039f\"],[0.2222222222222222,\"#7201a8\"],[0.3333333333333333,\"#9c179e\"],[0.4444444444444444,\"#bd3786\"],[0.5555555555555556,\"#d8576b\"],[0.6666666666666666,\"#ed7953\"],[0.7777777777777778,\"#fb9f3a\"],[0.8888888888888888,\"#fdca26\"],[1.0,\"#f0f921\"]]}],\"surface\":[{\"type\":\"surface\",\"colorbar\":{\"outlinewidth\":0,\"ticks\":\"\"},\"colorscale\":[[0.0,\"#0d0887\"],[0.1111111111111111,\"#46039f\"],[0.2222222222222222,\"#7201a8\"],[0.3333333333333333,\"#9c179e\"],[0.4444444444444444,\"#bd3786\"],[0.5555555555555556,\"#d8576b\"],[0.6666666666666666,\"#ed7953\"],[0.7777777777777778,\"#fb9f3a\"],[0.8888888888888888,\"#fdca26\"],[1.0,\"#f0f921\"]]}],\"mesh3d\":[{\"type\":\"mesh3d\",\"colorbar\":{\"outlinewidth\":0,\"ticks\":\"\"}}],\"scatter\":[{\"fillpattern\":{\"fillmode\":\"overlay\",\"size\":10,\"solidity\":0.2},\"type\":\"scatter\"}],\"parcoords\":[{\"type\":\"parcoords\",\"line\":{\"colorbar\":{\"outlinewidth\":0,\"ticks\":\"\"}}}],\"scatterpolargl\":[{\"type\":\"scatterpolargl\",\"marker\":{\"colorbar\":{\"outlinewidth\":0,\"ticks\":\"\"}}}],\"bar\":[{\"error_x\":{\"color\":\"#2a3f5f\"},\"error_y\":{\"color\":\"#2a3f5f\"},\"marker\":{\"line\":{\"color\":\"#E5ECF6\",\"width\":0.5},\"pattern\":{\"fillmode\":\"overlay\",\"size\":10,\"solidity\":0.2}},\"type\":\"bar\"}],\"scattergeo\":[{\"type\":\"scattergeo\",\"marker\":{\"colorbar\":{\"outlinewidth\":0,\"ticks\":\"\"}}}],\"scatterpolar\":[{\"type\":\"scatterpolar\",\"marker\":{\"colorbar\":{\"outlinewidth\":0,\"ticks\":\"\"}}}],\"histogram\":[{\"marker\":{\"pattern\":{\"fillmode\":\"overlay\",\"size\":10,\"solidity\":0.2}},\"type\":\"histogram\"}],\"scattergl\":[{\"type\":\"scattergl\",\"marker\":{\"colorbar\":{\"outlinewidth\":0,\"ticks\":\"\"}}}],\"scatter3d\":[{\"type\":\"scatter3d\",\"line\":{\"colorbar\":{\"outlinewidth\":0,\"ticks\":\"\"}},\"marker\":{\"colorbar\":{\"outlinewidth\":0,\"ticks\":\"\"}}}],\"scattermapbox\":[{\"type\":\"scattermapbox\",\"marker\":{\"colorbar\":{\"outlinewidth\":0,\"ticks\":\"\"}}}],\"scatterternary\":[{\"type\":\"scatterternary\",\"marker\":{\"colorbar\":{\"outlinewidth\":0,\"ticks\":\"\"}}}],\"scattercarpet\":[{\"type\":\"scattercarpet\",\"marker\":{\"colorbar\":{\"outlinewidth\":0,\"ticks\":\"\"}}}],\"carpet\":[{\"aaxis\":{\"endlinecolor\":\"#2a3f5f\",\"gridcolor\":\"white\",\"linecolor\":\"white\",\"minorgridcolor\":\"white\",\"startlinecolor\":\"#2a3f5f\"},\"baxis\":{\"endlinecolor\":\"#2a3f5f\",\"gridcolor\":\"white\",\"linecolor\":\"white\",\"minorgridcolor\":\"white\",\"startlinecolor\":\"#2a3f5f\"},\"type\":\"carpet\"}],\"table\":[{\"cells\":{\"fill\":{\"color\":\"#EBF0F8\"},\"line\":{\"color\":\"white\"}},\"header\":{\"fill\":{\"color\":\"#C8D4E3\"},\"line\":{\"color\":\"white\"}},\"type\":\"table\"}],\"barpolar\":[{\"marker\":{\"line\":{\"color\":\"#E5ECF6\",\"width\":0.5},\"pattern\":{\"fillmode\":\"overlay\",\"size\":10,\"solidity\":0.2}},\"type\":\"barpolar\"}],\"pie\":[{\"automargin\":true,\"type\":\"pie\"}]},\"layout\":{\"autotypenumbers\":\"strict\",\"colorway\":[\"#636efa\",\"#EF553B\",\"#00cc96\",\"#ab63fa\",\"#FFA15A\",\"#19d3f3\",\"#FF6692\",\"#B6E880\",\"#FF97FF\",\"#FECB52\"],\"font\":{\"color\":\"#2a3f5f\"},\"hovermode\":\"closest\",\"hoverlabel\":{\"align\":\"left\"},\"paper_bgcolor\":\"white\",\"plot_bgcolor\":\"#E5ECF6\",\"polar\":{\"bgcolor\":\"#E5ECF6\",\"angularaxis\":{\"gridcolor\":\"white\",\"linecolor\":\"white\",\"ticks\":\"\"},\"radialaxis\":{\"gridcolor\":\"white\",\"linecolor\":\"white\",\"ticks\":\"\"}},\"ternary\":{\"bgcolor\":\"#E5ECF6\",\"aaxis\":{\"gridcolor\":\"white\",\"linecolor\":\"white\",\"ticks\":\"\"},\"baxis\":{\"gridcolor\":\"white\",\"linecolor\":\"white\",\"ticks\":\"\"},\"caxis\":{\"gridcolor\":\"white\",\"linecolor\":\"white\",\"ticks\":\"\"}},\"coloraxis\":{\"colorbar\":{\"outlinewidth\":0,\"ticks\":\"\"}},\"colorscale\":{\"sequential\":[[0.0,\"#0d0887\"],[0.1111111111111111,\"#46039f\"],[0.2222222222222222,\"#7201a8\"],[0.3333333333333333,\"#9c179e\"],[0.4444444444444444,\"#bd3786\"],[0.5555555555555556,\"#d8576b\"],[0.6666666666666666,\"#ed7953\"],[0.7777777777777778,\"#fb9f3a\"],[0.8888888888888888,\"#fdca26\"],[1.0,\"#f0f921\"]],\"sequentialminus\":[[0.0,\"#0d0887\"],[0.1111111111111111,\"#46039f\"],[0.2222222222222222,\"#7201a8\"],[0.3333333333333333,\"#9c179e\"],[0.4444444444444444,\"#bd3786\"],[0.5555555555555556,\"#d8576b\"],[0.6666666666666666,\"#ed7953\"],[0.7777777777777778,\"#fb9f3a\"],[0.8888888888888888,\"#fdca26\"],[1.0,\"#f0f921\"]],\"diverging\":[[0,\"#8e0152\"],[0.1,\"#c51b7d\"],[0.2,\"#de77ae\"],[0.3,\"#f1b6da\"],[0.4,\"#fde0ef\"],[0.5,\"#f7f7f7\"],[0.6,\"#e6f5d0\"],[0.7,\"#b8e186\"],[0.8,\"#7fbc41\"],[0.9,\"#4d9221\"],[1,\"#276419\"]]},\"xaxis\":{\"gridcolor\":\"white\",\"linecolor\":\"white\",\"ticks\":\"\",\"title\":{\"standoff\":15},\"zerolinecolor\":\"white\",\"automargin\":true,\"zerolinewidth\":2},\"yaxis\":{\"gridcolor\":\"white\",\"linecolor\":\"white\",\"ticks\":\"\",\"title\":{\"standoff\":15},\"zerolinecolor\":\"white\",\"automargin\":true,\"zerolinewidth\":2},\"scene\":{\"xaxis\":{\"backgroundcolor\":\"#E5ECF6\",\"gridcolor\":\"white\",\"linecolor\":\"white\",\"showbackground\":true,\"ticks\":\"\",\"zerolinecolor\":\"white\",\"gridwidth\":2},\"yaxis\":{\"backgroundcolor\":\"#E5ECF6\",\"gridcolor\":\"white\",\"linecolor\":\"white\",\"showbackground\":true,\"ticks\":\"\",\"zerolinecolor\":\"white\",\"gridwidth\":2},\"zaxis\":{\"backgroundcolor\":\"#E5ECF6\",\"gridcolor\":\"white\",\"linecolor\":\"white\",\"showbackground\":true,\"ticks\":\"\",\"zerolinecolor\":\"white\",\"gridwidth\":2}},\"shapedefaults\":{\"line\":{\"color\":\"#2a3f5f\"}},\"annotationdefaults\":{\"arrowcolor\":\"#2a3f5f\",\"arrowhead\":0,\"arrowwidth\":1},\"geo\":{\"bgcolor\":\"white\",\"landcolor\":\"#E5ECF6\",\"subunitcolor\":\"white\",\"showland\":true,\"showlakes\":true,\"lakecolor\":\"white\"},\"title\":{\"x\":0.05},\"mapbox\":{\"style\":\"light\"}}},\"xaxis\":{\"anchor\":\"y\",\"domain\":[0.0,1.0],\"title\":{\"text\":\"year\"}},\"yaxis\":{\"anchor\":\"x\",\"domain\":[0.0,1.0],\"title\":{\"text\":\"Total Passengers\"}},\"legend\":{\"title\":{\"text\":\"Location\"},\"tracegroupgap\":0},\"title\":{\"text\":\"Yearly Passenger Trends Comparison: Ireland vs LA (Scaled)\"}},                        {\"responsive\": true}                    ).then(function(){\n",
       "                            \n",
       "var gd = document.getElementById('5c8725be-6076-44a9-9b69-9edfeecc88f2');\n",
       "var x = new MutationObserver(function (mutations, observer) {{\n",
       "        var display = window.getComputedStyle(gd).display;\n",
       "        if (!display || display === 'none') {{\n",
       "            console.log([gd, 'removed!']);\n",
       "            Plotly.purge(gd);\n",
       "            observer.disconnect();\n",
       "        }}\n",
       "}});\n",
       "\n",
       "// Listen for the removal of the full notebook cells\n",
       "var notebookContainer = gd.closest('#notebook-container');\n",
       "if (notebookContainer) {{\n",
       "    x.observe(notebookContainer, {childList: true});\n",
       "}}\n",
       "\n",
       "// Listen for the clearing of the current output cell\n",
       "var outputEl = gd.closest('.output');\n",
       "if (outputEl) {{\n",
       "    x.observe(outputEl, {childList: true});\n",
       "}}\n",
       "\n",
       "                        })                };                });            </script>        </div>"
      ]
     },
     "metadata": {},
     "output_type": "display_data"
    },
    {
     "data": {
      "image/png": "[encoded data removed]",
      "text/plain": [
       "<Figure size 800x400 with 2 Axes>"
      ]
     },
     "metadata": {},
     "output_type": "display_data"
    },
    {
     "data": {
      "image/png": "[encoded data removed]",
      "text/plain": [
       "<Figure size 1000x500 with 2 Axes>"
      ]
     },
     "metadata": {},
     "output_type": "display_data"
    },
    {
     "data": {
      "application/vnd.plotly.v1+json": {
       "config": {
        "plotlyServerURL": "https://plot.ly"
       },
       "data": [
        {
         "alignmentgroup": "True",
         "hovertemplate": "variable=Flight Type<br>index=%{x}<br>value=%{y}<extra></extra>",
         "legendgroup": "Flight Type",
         "marker": {
          "color": "#636efa",
          "pattern": {
           "shape": ""
          }
         },
         "name": "Flight Type",
         "offsetgroup": "Flight Type",
         "orientation": "v",
         "showlegend": true,
         "textposition": "auto",
         "type": "bar",
         "x": [
          "All flights",
          "Scheduled",
          "Unscheduled"
         ],
         "xaxis": "x",
         "y": [
          61596,
          61596,
          61596
         ],
         "yaxis": "y"
        }
       ],
       "layout": {
        "barmode": "relative",
        "legend": {
         "title": {
          "text": "variable"
         },
         "tracegroupgap": 0
        },
        "template": {
         "data": {
          "bar": [
           {
            "error_x": {
             "color": "#2a3f5f"
            },
            "error_y": {
             "color": "#2a3f5f"
            },
            "marker": {
             "line": {
              "color": "#E5ECF6",
              "width": 0.5
             },
             "pattern": {
              "fillmode": "overlay",
              "size": 10,
              "solidity": 0.2
             }
            },
            "type": "bar"
           }
          ],
          "barpolar": [
           {
            "marker": {
             "line": {
              "color": "#E5ECF6",
              "width": 0.5
             },
             "pattern": {
              "fillmode": "overlay",
              "size": 10,
              "solidity": 0.2
             }
            },
            "type": "barpolar"
           }
          ],
          "carpet": [
           {
            "aaxis": {
             "endlinecolor": "#2a3f5f",
             "gridcolor": "white",
             "linecolor": "white",
             "minorgridcolor": "white",
             "startlinecolor": "#2a3f5f"
            },
            "baxis": {
             "endlinecolor": "#2a3f5f",
             "gridcolor": "white",
             "linecolor": "white",
             "minorgridcolor": "white",
             "startlinecolor": "#2a3f5f"
            },
            "type": "carpet"
           }
          ],
          "choropleth": [
           {
            "colorbar": {
             "outlinewidth": 0,
             "ticks": ""
            },
            "type": "choropleth"
           }
          ],
          "contour": [
           {
            "colorbar": {
             "outlinewidth": 0,
             "ticks": ""
            },
            "colorscale": [
             [
              0,
              "#0d0887"
             ],
             [
              0.1111111111111111,
              "#46039f"
             ],
             [
              0.2222222222222222,
              "#7201a8"
             ],
             [
              0.3333333333333333,
              "#9c179e"
             ],
             [
              0.4444444444444444,
              "#bd3786"
             ],
             [
              0.5555555555555556,
              "#d8576b"
             ],
             [
              0.6666666666666666,
              "#ed7953"
             ],
             [
              0.7777777777777778,
              "#fb9f3a"
             ],
             [
              0.8888888888888888,
              "#fdca26"
             ],
             [
              1,
              "#f0f921"
             ]
            ],
            "type": "contour"
           }
          ],
          "contourcarpet": [
           {
            "colorbar": {
             "outlinewidth": 0,
             "ticks": ""
            },
            "type": "contourcarpet"
           }
          ],
          "heatmap": [
           {
            "colorbar": {
             "outlinewidth": 0,
             "ticks": ""
            },
            "colorscale": [
             [
              0,
              "#0d0887"
             ],
             [
              0.1111111111111111,
              "#46039f"
             ],
             [
              0.2222222222222222,
              "#7201a8"
             ],
             [
              0.3333333333333333,
              "#9c179e"
             ],
             [
              0.4444444444444444,
              "#bd3786"
             ],
             [
              0.5555555555555556,
              "#d8576b"
             ],
             [
              0.6666666666666666,
              "#ed7953"
             ],
             [
              0.7777777777777778,
              "#fb9f3a"
             ],
             [
              0.8888888888888888,
              "#fdca26"
             ],
             [
              1,
              "#f0f921"
             ]
            ],
            "type": "heatmap"
           }
          ],
          "heatmapgl": [
           {
            "colorbar": {
             "outlinewidth": 0,
             "ticks": ""
            },
            "colorscale": [
             [
              0,
              "#0d0887"
             ],
             [
              0.1111111111111111,
              "#46039f"
             ],
             [
              0.2222222222222222,
              "#7201a8"
             ],
             [
              0.3333333333333333,
              "#9c179e"
             ],
             [
              0.4444444444444444,
              "#bd3786"
             ],
             [
              0.5555555555555556,
              "#d8576b"
             ],
             [
              0.6666666666666666,
              "#ed7953"
             ],
             [
              0.7777777777777778,
              "#fb9f3a"
             ],
             [
              0.8888888888888888,
              "#fdca26"
             ],
             [
              1,
              "#f0f921"
             ]
            ],
            "type": "heatmapgl"
           }
          ],
          "histogram": [
           {
            "marker": {
             "pattern": {
              "fillmode": "overlay",
              "size": 10,
              "solidity": 0.2
             }
            },
            "type": "histogram"
           }
          ],
          "histogram2d": [
           {
            "colorbar": {
             "outlinewidth": 0,
             "ticks": ""
            },
            "colorscale": [
             [
              0,
              "#0d0887"
             ],
             [
              0.1111111111111111,
              "#46039f"
             ],
             [
              0.2222222222222222,
              "#7201a8"
             ],
             [
              0.3333333333333333,
              "#9c179e"
             ],
             [
              0.4444444444444444,
              "#bd3786"
             ],
             [
              0.5555555555555556,
              "#d8576b"
             ],
             [
              0.6666666666666666,
              "#ed7953"
             ],
             [
              0.7777777777777778,
              "#fb9f3a"
             ],
             [
              0.8888888888888888,
              "#fdca26"
             ],
             [
              1,
              "#f0f921"
             ]
            ],
            "type": "histogram2d"
           }
          ],
          "histogram2dcontour": [
           {
            "colorbar": {
             "outlinewidth": 0,
             "ticks": ""
            },
            "colorscale": [
             [
              0,
              "#0d0887"
             ],
             [
              0.1111111111111111,
              "#46039f"
             ],
             [
              0.2222222222222222,
              "#7201a8"
             ],
             [
              0.3333333333333333,
              "#9c179e"
             ],
             [
              0.4444444444444444,
              "#bd3786"
             ],
             [
              0.5555555555555556,
              "#d8576b"
             ],
             [
              0.6666666666666666,
              "#ed7953"
             ],
             [
              0.7777777777777778,
              "#fb9f3a"
             ],
             [
              0.8888888888888888,
              "#fdca26"
             ],
             [
              1,
              "#f0f921"
             ]
            ],
            "type": "histogram2dcontour"
           }
          ],
          "mesh3d": [
           {
            "colorbar": {
             "outlinewidth": 0,
             "ticks": ""
            },
            "type": "mesh3d"
           }
          ],
          "parcoords": [
           {
            "line": {
             "colorbar": {
              "outlinewidth": 0,
              "ticks": ""
             }
            },
            "type": "parcoords"
           }
          ],
          "pie": [
           {
            "automargin": true,
            "type": "pie"
           }
          ],
          "scatter": [
           {
            "fillpattern": {
             "fillmode": "overlay",
             "size": 10,
             "solidity": 0.2
            },
            "type": "scatter"
           }
          ],
          "scatter3d": [
           {
            "line": {
             "colorbar": {
              "outlinewidth": 0,
              "ticks": ""
             }
            },
            "marker": {
             "colorbar": {
              "outlinewidth": 0,
              "ticks": ""
             }
            },
            "type": "scatter3d"
           }
          ],
          "scattercarpet": [
           {
            "marker": {
             "colorbar": {
              "outlinewidth": 0,
              "ticks": ""
             }
            },
            "type": "scattercarpet"
           }
          ],
          "scattergeo": [
           {
            "marker": {
             "colorbar": {
              "outlinewidth": 0,
              "ticks": ""
             }
            },
            "type": "scattergeo"
           }
          ],
          "scattergl": [
           {
            "marker": {
             "colorbar": {
              "outlinewidth": 0,
              "ticks": ""
             }
            },
            "type": "scattergl"
           }
          ],
          "scattermapbox": [
           {
            "marker": {
             "colorbar": {
              "outlinewidth": 0,
              "ticks": ""
             }
            },
            "type": "scattermapbox"
           }
          ],
          "scatterpolar": [
           {
            "marker": {
             "colorbar": {
              "outlinewidth": 0,
              "ticks": ""
             }
            },
            "type": "scatterpolar"
           }
          ],
          "scatterpolargl": [
           {
            "marker": {
             "colorbar": {
              "outlinewidth": 0,
              "ticks": ""
             }
            },
            "type": "scatterpolargl"
           }
          ],
          "scatterternary": [
           {
            "marker": {
             "colorbar": {
              "outlinewidth": 0,
              "ticks": ""
             }
            },
            "type": "scatterternary"
           }
          ],
          "surface": [
           {
            "colorbar": {
             "outlinewidth": 0,
             "ticks": ""
            },
            "colorscale": [
             [
              0,
              "#0d0887"
             ],
             [
              0.1111111111111111,
              "#46039f"
             ],
             [
              0.2222222222222222,
              "#7201a8"
             ],
             [
              0.3333333333333333,
              "#9c179e"
             ],
             [
              0.4444444444444444,
              "#bd3786"
             ],
             [
              0.5555555555555556,
              "#d8576b"
             ],
             [
              0.6666666666666666,
              "#ed7953"
             ],
             [
              0.7777777777777778,
              "#fb9f3a"
             ],
             [
              0.8888888888888888,
              "#fdca26"
             ],
             [
              1,
              "#f0f921"
             ]
            ],
            "type": "surface"
           }
          ],
          "table": [
           {
            "cells": {
             "fill": {
              "color": "#EBF0F8"
             },
             "line": {
              "color": "white"
             }
            },
            "header": {
             "fill": {
              "color": "#C8D4E3"
             },
             "line": {
              "color": "white"
             }
            },
            "type": "table"
           }
          ]
         },
         "layout": {
          "annotationdefaults": {
           "arrowcolor": "#2a3f5f",
           "arrowhead": 0,
           "arrowwidth": 1
          },
          "autotypenumbers": "strict",
          "coloraxis": {
           "colorbar": {
            "outlinewidth": 0,
            "ticks": ""
           }
          },
          "colorscale": {
           "diverging": [
            [
             0,
             "#8e0152"
            ],
            [
             0.1,
             "#c51b7d"
            ],
            [
             0.2,
             "#de77ae"
            ],
            [
             0.3,
             "#f1b6da"
            ],
            [
             0.4,
             "#fde0ef"
            ],
            [
             0.5,
             "#f7f7f7"
            ],
            [
             0.6,
             "#e6f5d0"
            ],
            [
             0.7,
             "#b8e186"
            ],
            [
             0.8,
             "#7fbc41"
            ],
            [
             0.9,
             "#4d9221"
            ],
            [
             1,
             "#276419"
            ]
           ],
           "sequential": [
            [
             0,
             "#0d0887"
            ],
            [
             0.1111111111111111,
             "#46039f"
            ],
            [
             0.2222222222222222,
             "#7201a8"
            ],
            [
             0.3333333333333333,
             "#9c179e"
            ],
            [
             0.4444444444444444,
             "#bd3786"
            ],
            [
             0.5555555555555556,
             "#d8576b"
            ],
            [
             0.6666666666666666,
             "#ed7953"
            ],
            [
             0.7777777777777778,
             "#fb9f3a"
            ],
            [
             0.8888888888888888,
             "#fdca26"
            ],
            [
             1,
             "#f0f921"
            ]
           ],
           "sequentialminus": [
            [
             0,
             "#0d0887"
            ],
            [
             0.1111111111111111,
             "#46039f"
            ],
            [
             0.2222222222222222,
             "#7201a8"
            ],
            [
             0.3333333333333333,
             "#9c179e"
            ],
            [
             0.4444444444444444,
             "#bd3786"
            ],
            [
             0.5555555555555556,
             "#d8576b"
            ],
            [
             0.6666666666666666,
             "#ed7953"
            ],
            [
             0.7777777777777778,
             "#fb9f3a"
            ],
            [
             0.8888888888888888,
             "#fdca26"
            ],
            [
             1,
             "#f0f921"
            ]
           ]
          },
          "colorway": [
           "#636efa",
           "#EF553B",
           "#00cc96",
           "#ab63fa",
           "#FFA15A",
           "#19d3f3",
           "#FF6692",
           "#B6E880",
           "#FF97FF",
           "#FECB52"
          ],
          "font": {
           "color": "#2a3f5f"
          },
          "geo": {
           "bgcolor": "white",
           "lakecolor": "white",
           "landcolor": "#E5ECF6",
           "showlakes": true,
           "showland": true,
           "subunitcolor": "white"
          },
          "hoverlabel": {
           "align": "left"
          },
          "hovermode": "closest",
          "mapbox": {
           "style": "light"
          },
          "paper_bgcolor": "white",
          "plot_bgcolor": "#E5ECF6",
          "polar": {
           "angularaxis": {
            "gridcolor": "white",
            "linecolor": "white",
            "ticks": ""
           },
           "bgcolor": "#E5ECF6",
           "radialaxis": {
            "gridcolor": "white",
            "linecolor": "white",
            "ticks": ""
           }
          },
          "scene": {
           "xaxis": {
            "backgroundcolor": "#E5ECF6",
            "gridcolor": "white",
            "gridwidth": 2,
            "linecolor": "white",
            "showbackground": true,
            "ticks": "",
            "zerolinecolor": "white"
           },
           "yaxis": {
            "backgroundcolor": "#E5ECF6",
            "gridcolor": "white",
            "gridwidth": 2,
            "linecolor": "white",
            "showbackground": true,
            "ticks": "",
            "zerolinecolor": "white"
           },
           "zaxis": {
            "backgroundcolor": "#E5ECF6",
            "gridcolor": "white",
            "gridwidth": 2,
            "linecolor": "white",
            "showbackground": true,
            "ticks": "",
            "zerolinecolor": "white"
           }
          },
          "shapedefaults": {
           "line": {
            "color": "#2a3f5f"
           }
          },
          "ternary": {
           "aaxis": {
            "gridcolor": "white",
            "linecolor": "white",
            "ticks": ""
           },
           "baxis": {
            "gridcolor": "white",
            "linecolor": "white",
            "ticks": ""
           },
           "bgcolor": "#E5ECF6",
           "caxis": {
            "gridcolor": "white",
            "linecolor": "white",
            "ticks": ""
           }
          },
          "title": {
           "x": 0.05
          },
          "xaxis": {
           "automargin": true,
           "gridcolor": "white",
           "linecolor": "white",
           "ticks": "",
           "title": {
            "standoff": 15
           },
           "zerolinecolor": "white",
           "zerolinewidth": 2
          },
          "yaxis": {
           "automargin": true,
           "gridcolor": "white",
           "linecolor": "white",
           "ticks": "",
           "title": {
            "standoff": 15
           },
           "zerolinecolor": "white",
           "zerolinewidth": 2
          }
         }
        },
        "title": {
         "text": "Flight Type Distribution in Ireland"
        },
        "xaxis": {
         "anchor": "y",
         "domain": [
          0,
          1
         ],
         "title": {
          "text": "index"
         }
        },
        "yaxis": {
         "anchor": "x",
         "domain": [
          0,
          1
         ],
         "title": {
          "text": "value"
         }
        }
       }
      },
      "text/html": [
       "<div>                            <div id=\"d2cc7aa5-093c-40ec-8a8f-e6efbd549df8\" class=\"plotly-graph-div\" style=\"height:525px; width:100%;\"></div>            <script type=\"text/javascript\">                require([\"plotly\"], function(Plotly) {                    window.PLOTLYENV=window.PLOTLYENV || {};                                    if (document.getElementById(\"d2cc7aa5-093c-40ec-8a8f-e6efbd549df8\")) {                    Plotly.newPlot(                        \"d2cc7aa5-093c-40ec-8a8f-e6efbd549df8\",                        [{\"alignmentgroup\":\"True\",\"hovertemplate\":\"variable=Flight Type<br>index=%{x}<br>value=%{y}<extra></extra>\",\"legendgroup\":\"Flight Type\",\"marker\":{\"color\":\"#636efa\",\"pattern\":{\"shape\":\"\"}},\"name\":\"Flight Type\",\"offsetgroup\":\"Flight Type\",\"orientation\":\"v\",\"showlegend\":true,\"textposition\":\"auto\",\"x\":[\"All flights\",\"Scheduled\",\"Unscheduled\"],\"xaxis\":\"x\",\"y\":[61596,61596,61596],\"yaxis\":\"y\",\"type\":\"bar\"}],                        {\"template\":{\"data\":{\"histogram2dcontour\":[{\"type\":\"histogram2dcontour\",\"colorbar\":{\"outlinewidth\":0,\"ticks\":\"\"},\"colorscale\":[[0.0,\"#0d0887\"],[0.1111111111111111,\"#46039f\"],[0.2222222222222222,\"#7201a8\"],[0.3333333333333333,\"#9c179e\"],[0.4444444444444444,\"#bd3786\"],[0.5555555555555556,\"#d8576b\"],[0.6666666666666666,\"#ed7953\"],[0.7777777777777778,\"#fb9f3a\"],[0.8888888888888888,\"#fdca26\"],[1.0,\"#f0f921\"]]}],\"choropleth\":[{\"type\":\"choropleth\",\"colorbar\":{\"outlinewidth\":0,\"ticks\":\"\"}}],\"histogram2d\":[{\"type\":\"histogram2d\",\"colorbar\":{\"outlinewidth\":0,\"ticks\":\"\"},\"colorscale\":[[0.0,\"#0d0887\"],[0.1111111111111111,\"#46039f\"],[0.2222222222222222,\"#7201a8\"],[0.3333333333333333,\"#9c179e\"],[0.4444444444444444,\"#bd3786\"],[0.5555555555555556,\"#d8576b\"],[0.6666666666666666,\"#ed7953\"],[0.7777777777777778,\"#fb9f3a\"],[0.8888888888888888,\"#fdca26\"],[1.0,\"#f0f921\"]]}],\"heatmap\":[{\"type\":\"heatmap\",\"colorbar\":{\"outlinewidth\":0,\"ticks\":\"\"},\"colorscale\":[[0.0,\"#0d0887\"],[0.1111111111111111,\"#46039f\"],[0.2222222222222222,\"#7201a8\"],[0.3333333333333333,\"#9c179e\"],[0.4444444444444444,\"#bd3786\"],[0.5555555555555556,\"#d8576b\"],[0.6666666666666666,\"#ed7953\"],[0.7777777777777778,\"#fb9f3a\"],[0.8888888888888888,\"#fdca26\"],[1.0,\"#f0f921\"]]}],\"heatmapgl\":[{\"type\":\"heatmapgl\",\"colorbar\":{\"outlinewidth\":0,\"ticks\":\"\"},\"colorscale\":[[0.0,\"#0d0887\"],[0.1111111111111111,\"#46039f\"],[0.2222222222222222,\"#7201a8\"],[0.3333333333333333,\"#9c179e\"],[0.4444444444444444,\"#bd3786\"],[0.5555555555555556,\"#d8576b\"],[0.6666666666666666,\"#ed7953\"],[0.7777777777777778,\"#fb9f3a\"],[0.8888888888888888,\"#fdca26\"],[1.0,\"#f0f921\"]]}],\"contourcarpet\":[{\"type\":\"contourcarpet\",\"colorbar\":{\"outlinewidth\":0,\"ticks\":\"\"}}],\"contour\":[{\"type\":\"contour\",\"colorbar\":{\"outlinewidth\":0,\"ticks\":\"\"},\"colorscale\":[[0.0,\"#0d0887\"],[0.1111111111111111,\"#46039f\"],[0.2222222222222222,\"#7201a8\"],[0.3333333333333333,\"#9c179e\"],[0.4444444444444444,\"#bd3786\"],[0.5555555555555556,\"#d8576b\"],[0.6666666666666666,\"#ed7953\"],[0.7777777777777778,\"#fb9f3a\"],[0.8888888888888888,\"#fdca26\"],[1.0,\"#f0f921\"]]}],\"surface\":[{\"type\":\"surface\",\"colorbar\":{\"outlinewidth\":0,\"ticks\":\"\"},\"colorscale\":[[0.0,\"#0d0887\"],[0.1111111111111111,\"#46039f\"],[0.2222222222222222,\"#7201a8\"],[0.3333333333333333,\"#9c179e\"],[0.4444444444444444,\"#bd3786\"],[0.5555555555555556,\"#d8576b\"],[0.6666666666666666,\"#ed7953\"],[0.7777777777777778,\"#fb9f3a\"],[0.8888888888888888,\"#fdca26\"],[1.0,\"#f0f921\"]]}],\"mesh3d\":[{\"type\":\"mesh3d\",\"colorbar\":{\"outlinewidth\":0,\"ticks\":\"\"}}],\"scatter\":[{\"fillpattern\":{\"fillmode\":\"overlay\",\"size\":10,\"solidity\":0.2},\"type\":\"scatter\"}],\"parcoords\":[{\"type\":\"parcoords\",\"line\":{\"colorbar\":{\"outlinewidth\":0,\"ticks\":\"\"}}}],\"scatterpolargl\":[{\"type\":\"scatterpolargl\",\"marker\":{\"colorbar\":{\"outlinewidth\":0,\"ticks\":\"\"}}}],\"bar\":[{\"error_x\":{\"color\":\"#2a3f5f\"},\"error_y\":{\"color\":\"#2a3f5f\"},\"marker\":{\"line\":{\"color\":\"#E5ECF6\",\"width\":0.5},\"pattern\":{\"fillmode\":\"overlay\",\"size\":10,\"solidity\":0.2}},\"type\":\"bar\"}],\"scattergeo\":[{\"type\":\"scattergeo\",\"marker\":{\"colorbar\":{\"outlinewidth\":0,\"ticks\":\"\"}}}],\"scatterpolar\":[{\"type\":\"scatterpolar\",\"marker\":{\"colorbar\":{\"outlinewidth\":0,\"ticks\":\"\"}}}],\"histogram\":[{\"marker\":{\"pattern\":{\"fillmode\":\"overlay\",\"size\":10,\"solidity\":0.2}},\"type\":\"histogram\"}],\"scattergl\":[{\"type\":\"scattergl\",\"marker\":{\"colorbar\":{\"outlinewidth\":0,\"ticks\":\"\"}}}],\"scatter3d\":[{\"type\":\"scatter3d\",\"line\":{\"colorbar\":{\"outlinewidth\":0,\"ticks\":\"\"}},\"marker\":{\"colorbar\":{\"outlinewidth\":0,\"ticks\":\"\"}}}],\"scattermapbox\":[{\"type\":\"scattermapbox\",\"marker\":{\"colorbar\":{\"outlinewidth\":0,\"ticks\":\"\"}}}],\"scatterternary\":[{\"type\":\"scatterternary\",\"marker\":{\"colorbar\":{\"outlinewidth\":0,\"ticks\":\"\"}}}],\"scattercarpet\":[{\"type\":\"scattercarpet\",\"marker\":{\"colorbar\":{\"outlinewidth\":0,\"ticks\":\"\"}}}],\"carpet\":[{\"aaxis\":{\"endlinecolor\":\"#2a3f5f\",\"gridcolor\":\"white\",\"linecolor\":\"white\",\"minorgridcolor\":\"white\",\"startlinecolor\":\"#2a3f5f\"},\"baxis\":{\"endlinecolor\":\"#2a3f5f\",\"gridcolor\":\"white\",\"linecolor\":\"white\",\"minorgridcolor\":\"white\",\"startlinecolor\":\"#2a3f5f\"},\"type\":\"carpet\"}],\"table\":[{\"cells\":{\"fill\":{\"color\":\"#EBF0F8\"},\"line\":{\"color\":\"white\"}},\"header\":{\"fill\":{\"color\":\"#C8D4E3\"},\"line\":{\"color\":\"white\"}},\"type\":\"table\"}],\"barpolar\":[{\"marker\":{\"line\":{\"color\":\"#E5ECF6\",\"width\":0.5},\"pattern\":{\"fillmode\":\"overlay\",\"size\":10,\"solidity\":0.2}},\"type\":\"barpolar\"}],\"pie\":[{\"automargin\":true,\"type\":\"pie\"}]},\"layout\":{\"autotypenumbers\":\"strict\",\"colorway\":[\"#636efa\",\"#EF553B\",\"#00cc96\",\"#ab63fa\",\"#FFA15A\",\"#19d3f3\",\"#FF6692\",\"#B6E880\",\"#FF97FF\",\"#FECB52\"],\"font\":{\"color\":\"#2a3f5f\"},\"hovermode\":\"closest\",\"hoverlabel\":{\"align\":\"left\"},\"paper_bgcolor\":\"white\",\"plot_bgcolor\":\"#E5ECF6\",\"polar\":{\"bgcolor\":\"#E5ECF6\",\"angularaxis\":{\"gridcolor\":\"white\",\"linecolor\":\"white\",\"ticks\":\"\"},\"radialaxis\":{\"gridcolor\":\"white\",\"linecolor\":\"white\",\"ticks\":\"\"}},\"ternary\":{\"bgcolor\":\"#E5ECF6\",\"aaxis\":{\"gridcolor\":\"white\",\"linecolor\":\"white\",\"ticks\":\"\"},\"baxis\":{\"gridcolor\":\"white\",\"linecolor\":\"white\",\"ticks\":\"\"},\"caxis\":{\"gridcolor\":\"white\",\"linecolor\":\"white\",\"ticks\":\"\"}},\"coloraxis\":{\"colorbar\":{\"outlinewidth\":0,\"ticks\":\"\"}},\"colorscale\":{\"sequential\":[[0.0,\"#0d0887\"],[0.1111111111111111,\"#46039f\"],[0.2222222222222222,\"#7201a8\"],[0.3333333333333333,\"#9c179e\"],[0.4444444444444444,\"#bd3786\"],[0.5555555555555556,\"#d8576b\"],[0.6666666666666666,\"#ed7953\"],[0.7777777777777778,\"#fb9f3a\"],[0.8888888888888888,\"#fdca26\"],[1.0,\"#f0f921\"]],\"sequentialminus\":[[0.0,\"#0d0887\"],[0.1111111111111111,\"#46039f\"],[0.2222222222222222,\"#7201a8\"],[0.3333333333333333,\"#9c179e\"],[0.4444444444444444,\"#bd3786\"],[0.5555555555555556,\"#d8576b\"],[0.6666666666666666,\"#ed7953\"],[0.7777777777777778,\"#fb9f3a\"],[0.8888888888888888,\"#fdca26\"],[1.0,\"#f0f921\"]],\"diverging\":[[0,\"#8e0152\"],[0.1,\"#c51b7d\"],[0.2,\"#de77ae\"],[0.3,\"#f1b6da\"],[0.4,\"#fde0ef\"],[0.5,\"#f7f7f7\"],[0.6,\"#e6f5d0\"],[0.7,\"#b8e186\"],[0.8,\"#7fbc41\"],[0.9,\"#4d9221\"],[1,\"#276419\"]]},\"xaxis\":{\"gridcolor\":\"white\",\"linecolor\":\"white\",\"ticks\":\"\",\"title\":{\"standoff\":15},\"zerolinecolor\":\"white\",\"automargin\":true,\"zerolinewidth\":2},\"yaxis\":{\"gridcolor\":\"white\",\"linecolor\":\"white\",\"ticks\":\"\",\"title\":{\"standoff\":15},\"zerolinecolor\":\"white\",\"automargin\":true,\"zerolinewidth\":2},\"scene\":{\"xaxis\":{\"backgroundcolor\":\"#E5ECF6\",\"gridcolor\":\"white\",\"linecolor\":\"white\",\"showbackground\":true,\"ticks\":\"\",\"zerolinecolor\":\"white\",\"gridwidth\":2},\"yaxis\":{\"backgroundcolor\":\"#E5ECF6\",\"gridcolor\":\"white\",\"linecolor\":\"white\",\"showbackground\":true,\"ticks\":\"\",\"zerolinecolor\":\"white\",\"gridwidth\":2},\"zaxis\":{\"backgroundcolor\":\"#E5ECF6\",\"gridcolor\":\"white\",\"linecolor\":\"white\",\"showbackground\":true,\"ticks\":\"\",\"zerolinecolor\":\"white\",\"gridwidth\":2}},\"shapedefaults\":{\"line\":{\"color\":\"#2a3f5f\"}},\"annotationdefaults\":{\"arrowcolor\":\"#2a3f5f\",\"arrowhead\":0,\"arrowwidth\":1},\"geo\":{\"bgcolor\":\"white\",\"landcolor\":\"#E5ECF6\",\"subunitcolor\":\"white\",\"showland\":true,\"showlakes\":true,\"lakecolor\":\"white\"},\"title\":{\"x\":0.05},\"mapbox\":{\"style\":\"light\"}}},\"xaxis\":{\"anchor\":\"y\",\"domain\":[0.0,1.0],\"title\":{\"text\":\"index\"}},\"yaxis\":{\"anchor\":\"x\",\"domain\":[0.0,1.0],\"title\":{\"text\":\"value\"}},\"legend\":{\"title\":{\"text\":\"variable\"},\"tracegroupgap\":0},\"title\":{\"text\":\"Flight Type Distribution in Ireland\"},\"barmode\":\"relative\"},                        {\"responsive\": true}                    ).then(function(){\n",
       "                            \n",
       "var gd = document.getElementById('d2cc7aa5-093c-40ec-8a8f-e6efbd549df8');\n",
       "var x = new MutationObserver(function (mutations, observer) {{\n",
       "        var display = window.getComputedStyle(gd).display;\n",
       "        if (!display || display === 'none') {{\n",
       "            console.log([gd, 'removed!']);\n",
       "            Plotly.purge(gd);\n",
       "            observer.disconnect();\n",
       "        }}\n",
       "}});\n",
       "\n",
       "// Listen for the removal of the full notebook cells\n",
       "var notebookContainer = gd.closest('#notebook-container');\n",
       "if (notebookContainer) {{\n",
       "    x.observe(notebookContainer, {childList: true});\n",
       "}}\n",
       "\n",
       "// Listen for the clearing of the current output cell\n",
       "var outputEl = gd.closest('.output');\n",
       "if (outputEl) {{\n",
       "    x.observe(outputEl, {childList: true});\n",
       "}}\n",
       "\n",
       "                        })                };                });            </script>        </div>"
      ]
     },
     "metadata": {},
     "output_type": "display_data"
    }
   ],
   "source": [
    "# 1. Efficient EDA\n",
    "# It's more efficient to view the info and describe outputs directly rather than storing them in variables\n",
    "print(\"LA Flights Dataset Info:\")\n",
    "la_flights_dataset.info()\n",
    "\n",
    "print(\"\\nLA Flights Dataset Describe:\")\n",
    "print(la_flights_dataset.describe())\n",
    "\n",
    "print(\"\\nIreland Dataset Info:\")\n",
    "combined_ireland_dataset.info()\n",
    "\n",
    "print(\"\\nIreland Dataset Describe:\")\n",
    "print(combined_ireland_dataset.describe())\n",
    "\n",
    "# 2. Identifying and Addressing Outliers\n",
    "# Using .clip() method for efficiency\n",
    "lower_bound_la, upper_bound_la = la_flights_dataset['Passenger_Count'].quantile([0.25, 0.75])\n",
    "IQR_la = upper_bound_la - lower_bound_la\n",
    "la_flights_filtered = la_flights_dataset.copy()\n",
    "la_flights_filtered['Passenger_Count'] = la_flights_filtered['Passenger_Count'].clip(lower=lower_bound_la - 1.5 * IQR_la, upper=upper_bound_la + 1.5 * IQR_la)\n",
    "\n",
    "# Similar process for Ireland dataset\n",
    "ireland_filtered = combined_ireland_dataset.copy()\n",
    "lower_bound_ireland, upper_bound_ireland = combined_ireland_dataset['VALUE'].quantile([0.25, 0.75])\n",
    "IQR_ireland = upper_bound_ireland - lower_bound_ireland\n",
    "ireland_filtered['VALUE'] = ireland_filtered['VALUE'].clip(lower=lower_bound_ireland - 1.5 * IQR_ireland, upper=upper_bound_ireland + 1.5 * IQR_ireland)\n",
    "\n",
    "# 3. Efficient Boxplot Visualization\n",
    "plt.figure(figsize=(12, 6))\n",
    "\n",
    "# Boxplot for LA Flights Dataset - Before and After Removing Outliers\n",
    "plt.subplot(1, 2, 1)\n",
    "sns.boxplot(y=la_flights_dataset['Passenger_Count'])\n",
    "plt.title('LA Flights - Before Removing Outliers')\n",
    "plt.ylabel('Passenger Count')\n",
    "\n",
    "plt.subplot(1, 2, 2)\n",
    "sns.boxplot(y=la_flights_filtered['Passenger_Count'])\n",
    "plt.title('LA Flights - After Removing Outliers')\n",
    "plt.ylabel('Passenger Count')\n",
    "plt.tight_layout()\n",
    "\n",
    "# Similar boxplot for Ireland dataset\n",
    "plt.figure(figsize=(12, 6))\n",
    "plt.subplot(1, 2, 1)\n",
    "sns.boxplot(y=ireland_filtered['VALUE'])\n",
    "plt.title('Ireland Dataset - Before Removing Outliers')\n",
    "plt.ylabel('Passenger Value')\n",
    "\n",
    "plt.subplot(1, 2, 2)\n",
    "sns.boxplot(y=ireland_filtered['VALUE'])\n",
    "plt.title('Ireland Dataset - After Removing Outliers')\n",
    "plt.ylabel('Passenger Value')\n",
    "plt.tight_layout()\n",
    "\n",
    "plt.show()\n",
    "\n",
    "# Efficient Aggregation and Visualization\n",
    "# Aggregating LA data on a yearly basis\n",
    "la_yearly = la_flights_filtered.groupby('Year')['Scaled Passenger Count'].mean()\n",
    "\n",
    "# Aggregating Ireland data on a yearly basis\n",
    "ireland_yearly = ireland_filtered.groupby('Year')['Scaled Passenger Millions'].mean()\n",
    "\n",
    "# Creating a combined DataFrame for comparison\n",
    "combined_yearly = pd.DataFrame({\n",
    "    'year': ireland_yearly.index,\n",
    "    'Passengers_Ireland': ireland_yearly.values,\n",
    "    'Passengers_LA': la_yearly.values \n",
    "})\n",
    "\n",
    "# Plotly Line Chart for Yearly Comparison\n",
    "fig = px.line(combined_yearly, x='year', y=['Passengers_Ireland', 'Passengers_LA'],\n",
    "              labels={'value': 'Total Passengers', 'variable': 'Location'},\n",
    "              title='Yearly Passenger Trends Comparison: Ireland vs LA (Scaled)')\n",
    "fig.show()\n",
    "\n",
    "# 6. Efficient Categorical Data Analysis\n",
    "# Summarizing and plotting flight types for both datasets\n",
    "ireland_flight_type = ireland_filtered['Flight Type'].value_counts()\n",
    "la_flight_type = la_flights_filtered['FlightType'].value_counts()\n",
    "\n",
    "plt.figure(figsize=(8, 4))\n",
    "\n",
    "# Ireland Flight Types\n",
    "plt.subplot(1, 2, 1)\n",
    "sns.barplot(x=ireland_flight_type.index, y=ireland_flight_type.values)\n",
    "plt.title('Ireland Flight Types')\n",
    "plt.xlabel('Flight Type')\n",
    "plt.ylabel('Count')\n",
    "\n",
    "# LA Flight Types\n",
    "plt.subplot(1, 2, 2)\n",
    "sns.barplot(x=la_flight_type.index, y=la_flight_type.values)\n",
    "plt.title('LA Flight Types')\n",
    "plt.xlabel('Flight Type')\n",
    "plt.ylabel('Count')\n",
    "\n",
    "plt.tight_layout()\n",
    "plt.show()\n",
    "\n",
    "# Visualizing Scaled Passenger Traffic\n",
    "plt.figure(figsize=(10, 5))\n",
    "plt.subplot(1, 2, 1)\n",
    "sns.boxplot(y=ireland_filtered['Scaled Passenger Millions'])\n",
    "plt.title('Ireland Passenger Traffic Distribution')\n",
    "plt.ylabel('Passenger Count (Thousands)')\n",
    "\n",
    "plt.subplot(1, 2, 2)\n",
    "sns.boxplot(y=la_flights_filtered['Scaled Passenger Count']*10)\n",
    "plt.title('LA Passenger Traffic Distribution')\n",
    "plt.ylabel('Passenger Count')\n",
    "\n",
    "plt.tight_layout()\n",
    "plt.show()\n",
    "\n",
    "# Flight Type Distribution in Ireland\n",
    "fig = px.bar(ireland_flight_type, title='Flight Type Distribution in Ireland')\n",
    "fig.show()"
   ]
  },
  {
   "cell_type": "code",
   "execution_count": 45,
   "id": "4cc150f3",
   "metadata": {},
   "outputs": [
    {
     "name": "stdout",
     "output_type": "stream",
     "text": [
      "Confidence Intervals Ireland: \n",
      "{'All Countries': (0.028981742844813526, 0.037331896438366714), 'Canada': (0.00021301671018591055, 0.0003006981444195854), 'England': (0.00993591878784514, 0.012715593387953276), 'Northern Ireland': (2.3881827988467025e-05, 3.504256204372194e-05), 'Ireland (domestic)': (0.0007112101504108933, 0.0010018025439702842)}\n",
      "\n",
      "Confidence Intervals LA: \n",
      "{'Domestic': (0.018866492537783275, 0.021929902320981673), 'International': (0.00868927549481021, 0.010103826873445687)}\n",
      "\n",
      "ANOVA Ireland: \n",
      "               sum_sq        df          F        PR(>F)\n",
      "C(Year)     13.401590      17.0  18.008141  6.820136e-55\n",
      "Residual  8088.537308  184770.0        NaN           NaN\n",
      "\n",
      "ANOVA LA: \n",
      "                     sum_sq      df            F  PR(>F)\n",
      "C(FlightType)  8.821102e+14     2.0  1990.074119     0.0\n",
      "Residual       4.450280e+14  2008.0          NaN     NaN\n",
      "\n",
      "Chi-Squared Ireland: \n",
      "(0.0, 1.0, 4, array([[20532., 20532., 20532.],\n",
      "       [20532., 20532., 20532.],\n",
      "       [20532., 20532., 20532.]]))\n",
      "\n",
      "Chi-Squared LA: \n",
      "(0.9482336924854489, 0.3301693035442399, 1, array([[566.35653904, 542.64346096],\n",
      "       [460.64346096, 441.35653904]]))\n",
      "\n",
      "T-Test Ireland: \n",
      "(-2.157141007971571, 0.031006463664438464)\n",
      "\n",
      "T-Test LA: \n",
      "(-1.7831271206793256, 0.07609389087300604)\n",
      "\n",
      "One-Sample T-Test LA: \n",
      "(-1.6660312505099015, 0.09835973492950284)\n",
      "\n",
      "Wilcoxon Test LA: \n",
      "(1749.0, 0.6008495302060612)\n",
      "\n"
     ]
    }
   ],
   "source": [
    "# STATISTIC ANALYSIS\n",
    "\n",
    "# For Ireland - Confidence Interval calculation for top countries\n",
    "top_countries = ireland_filtered['Country'].value_counts().head(5).index\n",
    "confidence_intervals_ireland = {}\n",
    "z_score = stats.norm.ppf(0.975)  # for a 95% confidence level\n",
    "\n",
    "for country in top_countries:\n",
    "    country_data = ireland_filtered[ireland_filtered['Country'] == country]['Scaled Passenger Millions']\n",
    "    mean, std_error = np.mean(country_data), stats.sem(country_data, nan_policy='omit')\n",
    "    margin_of_error = z_score * std_error\n",
    "    confidence_intervals_ireland[country] = (mean - margin_of_error, mean + margin_of_error)\n",
    "\n",
    "# For LA - Confidence Interval calculation for flight types\n",
    "flight_types = ['Domestic', 'International']\n",
    "confidence_intervals_la = {}\n",
    "\n",
    "for flight_type in flight_types:\n",
    "    flight_data = la_flights_dataset[la_flights_dataset['Domestic_International'] == flight_type]['Scaled Passenger Count']\n",
    "    mean, std_error = np.mean(flight_data), stats.sem(flight_data, nan_policy='omit')\n",
    "    margin_of_error = z_score * std_error\n",
    "    confidence_intervals_la[flight_type] = (mean - margin_of_error, mean + margin_of_error)\n",
    "\n",
    "# ANOVA for yearly trends in flight traffic - Ireland\n",
    "anova_model_ireland = ols('VALUE ~ C(Year)', data=ireland_filtered).fit()\n",
    "anova_results_ireland = sm.stats.anova_lm(anova_model_ireland, typ=2)\n",
    "\n",
    "# ANOVA for differences in passenger count among flight types - LA\n",
    "anova_model_la = ols('Passenger_Count ~ C(FlightType)', data=la_flights_dataset).fit()\n",
    "anova_results_la = sm.stats.anova_lm(anova_model_la, typ=2)\n",
    "\n",
    "# Chi-Squared Test for Ireland: 'Flight Type' vs 'Direction'\n",
    "contingency_table_ireland = pd.crosstab(ireland_filtered['Flight Type'], ireland_filtered['Direction'])\n",
    "chi2_ireland, p_ireland, dof_ireland, expected_ireland = chi2_contingency(contingency_table_ireland)\n",
    "\n",
    "# Chi-Squared Test for LA: 'Domestic_International' vs 'Arrival_Departure'\n",
    "contingency_table_la = pd.crosstab(la_flights_dataset['Domestic_International'], la_flights_dataset['Arrival_Departure'])\n",
    "chi2_la, p_la, dof_la, expected_la = chi2_contingency(contingency_table_la)\n",
    "\n",
    "# Independent Samples T-Test - Comparison between 2010 and 2015 for Ireland\n",
    "data_2010_ireland = ireland_filtered[ireland_filtered['Year'] == 2010]['VALUE']\n",
    "data_2015_ireland = ireland_filtered[ireland_filtered['Year'] == 2015]['VALUE']\n",
    "t_stat_ireland, p_value_ireland = stats.ttest_ind(data_2010_ireland, data_2015_ireland, equal_var=False)\n",
    "\n",
    "# Independent Samples T-Test - Comparison between 2010 and 2015 for LA\n",
    "data_2010_la = la_flights_dataset[la_flights_dataset['Year'] == 2010]['Passenger_Count']\n",
    "data_2015_la = la_flights_dataset[la_flights_dataset['Year'] == 2015]['Passenger_Count']\n",
    "t_stat_la, p_value_la = stats.ttest_ind(data_2010_la, data_2015_la, equal_var=False)\n",
    "\n",
    "# One-Sample T-Test for LA - 2010 vs Hypothesized Mean\n",
    "hypothesized_mean_la = 600000  # example value\n",
    "t_stat_one_sample_la, p_value_one_sample_la = stats.ttest_1samp(data_2010_la, hypothesized_mean_la)\n",
    "\n",
    "# Wilcoxon Signed-Rank Test for LA - Comparison between 2018 and 2019\n",
    "data_2018_la = la_flights_dataset[la_flights_dataset['Year'] == 2018]['Passenger_Count']\n",
    "data_2019_la = la_flights_dataset[la_flights_dataset['Year'] == 2019]['Passenger_Count']\n",
    "min_length_la = min(len(data_2018_la), len(data_2019_la))\n",
    "data_2018_la_sampled = data_2018_la.sample(n=min_length_la, random_state=1)\n",
    "data_2019_la_sampled = data_2019_la.sample(n=min_length_la, random_state=1)\n",
    "w_stat_la, p_value_wilcoxon_la = stats.wilcoxon(data_2018_la_sampled, data_2019_la_sampled)\n",
    "\n",
    "# Store the results in a dictionary for easy access and display\n",
    "results = {\n",
    "    'Confidence Intervals Ireland': confidence_intervals_ireland,\n",
    "    'Confidence Intervals LA': confidence_intervals_la,\n",
    "    'ANOVA Ireland': anova_results_ireland,\n",
    "    'ANOVA LA': anova_results_la,\n",
    "    'Chi-Squared Ireland': (chi2_ireland, p_ireland, dof_ireland, expected_ireland),\n",
    "    'Chi-Squared LA': (chi2_la, p_la, dof_la, expected_la),\n",
    "    'T-Test Ireland': (t_stat_ireland, p_value_ireland),\n",
    "    'T-Test LA': (t_stat_la, p_value_la),\n",
    "    'One-Sample T-Test LA': (t_stat_one_sample_la, p_value_one_sample_la),\n",
    "    'Wilcoxon Test LA': (w_stat_la, p_value_wilcoxon_la)\n",
    "}\n",
    "\n",
    "# Display results\n",
    "for key, value in results.items():\n",
    "    print(f\"{key}: \\n{value}\\n\")\n"
   ]
  },
  {
   "cell_type": "code",
   "execution_count": null,
   "id": "2a7b239b",
   "metadata": {},
   "outputs": [],
   "source": [
    "#MACHINE LEARNING BULDING AND TRAINING\n",
    "\n",
    "# Dropping unnecessary columns\n",
    "ireland_cleaned = ireland_filtered.drop(columns=[\"UNIT\"])\n",
    "\n",
    "# Aggregating data by year\n",
    "data_yearly = ireland_cleaned.groupby(['Year', 'Airports in Ireland', 'Country', 'Direction', 'Flight Type']).agg({'VALUE': 'sum', 'Passenger Millions': 'sum', 'Scaled Passenger Millions': 'sum'}).reset_index()\n",
    "\n",
    "# Encoding categorical variables\n",
    "encoder = OneHotEncoder(sparse_output=True)  # Use sparse_output for memory efficiency\n",
    "encoded_columns = encoder.fit_transform(data_yearly[['Airports in Ireland', 'Country', 'Direction', 'Flight Type']])\n",
    "encoded_df = pd.DataFrame.sparse.from_spmatrix(encoded_columns, columns=encoder.get_feature_names_out())\n",
    "\n",
    "# Merging the encoded columns with the original data\n",
    "data_prepared = pd.concat([data_yearly, encoded_df], axis=1).drop(['Airports in Ireland', 'Country', 'Direction', 'Flight Type'], axis=1)\n",
    "\n",
    "# Defining the features and target variable\n",
    "X = data_prepared.drop(['VALUE', 'Passenger Millions', 'Scaled Passenger Millions'], axis=1)\n",
    "y = data_prepared['Passenger Millions']\n",
    "\n",
    "# Splitting the dataset into training and testing sets\n",
    "X_train, X_test, y_train, y_test = train_test_split(X, y, test_size=0.20, random_state=42)\n",
    "\n",
    "# Initialize models\n",
    "models = {\n",
    "    \"Linear Regression\": LinearRegression(),\n",
    "    \"Random Forest Regressor\": RandomForestRegressor(random_state=42),\n",
    "    \"Gradient Boosting Regressor\": GradientBoostingRegressor(random_state=42),\n",
    "    \"Neural Network\": MLPRegressor(random_state=42)\n",
    "}\n",
    "\n",
    "# Function to train and evaluate models\n",
    "def train_evaluate_models(models, X_train, y_train, X_test, y_test):\n",
    "    model_performance = {}\n",
    "    for model_name, model in models.items():\n",
    "        model.fit(X_train, y_train)\n",
    "        y_pred = model.predict(X_test)\n",
    "        mse, mae = mean_squared_error(y_test, y_pred), mean_absolute_error(y_test, y_pred)\n",
    "        model_performance[model_name] = {'MSE': mse, 'RMSE': np.sqrt(mse), 'MAE': mae}\n",
    "    return model_performance\n",
    "\n",
    "model_performance = train_evaluate_models(models, X_train, y_train, X_test, y_test)\n",
    "\n",
    "# Hyperparameter tuning for Gradient Boosting Regressor\n",
    "param_grid_gbr = {'n_estimators': [50, 100, 150], 'learning_rate': [0.01, 0.1, 0.2], 'max_depth': [3, 4, 5]}\n",
    "grid_search_gbr = GridSearchCV(GradientBoostingRegressor(random_state=42), param_grid=param_grid_gbr, cv=3, n_jobs=-1, verbose=2, scoring='neg_mean_squared_error')\n",
    "grid_search_gbr.fit(X_train, y_train)\n",
    "best_params_gbr, best_score_gbr = grid_search_gbr.best_params_, grid_search_gbr.best_score_\n",
    "\n",
    "# Hyperparameter tuning for Random Forest Regressor\n",
    "param_distributions_rfr = {'n_estimators': randint(100, 1000), 'max_depth': randint(10, 100), 'min_samples_split': randint(2, 20), 'min_samples_leaf': randint(1, 20)}\n",
    "random_search_rfr = RandomizedSearchCV(RandomForestRegressor(random_state=42), param_distributions=param_distributions_rfr, n_iter=5, cv=5, verbose=2, random_state=42, n_jobs=-1)\n",
    "random_search_rfr.fit(X_train, y_train)\n",
    "best_params_rfr, best_score_rfr = random_search_rfr.best_params_, random_search_rfr.best_score_\n",
    "\n",
    "# Hyperparameter tuning for Neural Network with Pipeline\n",
    "pipeline_nn = Pipeline([('scaler', StandardScaler()), ('nn', MLPRegressor(random_state=42))])\n",
    "param_grid_nn = {'nn__hidden_layer_sizes': [(50,50,50), (50,100,50), (100,)], 'nn__activation': ['tanh', 'relu'], 'nn__solver': ['sgd', 'adam'], 'nn__alpha': [0.0001, 0.05], 'nn__learning_rate': ['constant','adaptive']}\n",
    "grid_search_nn = GridSearchCV(pipeline_nn, param_grid=param_grid_nn, n_jobs=-1, cv=3, scoring='neg_mean_squared_error', verbose=2)\n",
    "grid_search_nn.fit(X_train, y_train)\n",
    "best_params_nn, best_score_nn = grid_search_nn.best_params_, grid_search_nn.best_score_\n",
    "\n",
    "# Predicting with the best estimator from Neural Network\n",
    "y_pred_nn = grid_search_nn.predict(X_test)\n",
    "mse_nn, rmse_nn, mae_nn = mean_squared_error(y_test, y_pred_nn), np.sqrt(mean_squared_error(y_test, y_pred_nn)), mean_absolute_error(y_test, y_pred_nn)\n",
    "\n",
    "# Bokeh Visualization\n",
    "output_notebook()\n",
    "\n",
    "# Data\n",
    "models = ['Random Forest', 'Gradient Boosting', 'Neural Network']\n",
    "tuning = ['Before Tuning', 'After Tuning']\n",
    "metrics = ['MSE', 'RMSE', 'MAE']\n",
    "data = {'models': models,\n",
    "        'MSE_Before': [5.612700496991892e-09, 1.339954113112935e-08, 0.42458051830968135],\n",
    "        'MSE_After': [6.205090760614536e-09, 9.765209701455155e-09, 0.0020245364790739497],\n",
    "        'RMSE_Before': [7.491795844116344e-05, 0.0001157563869992898, 0.651598433323532],\n",
    "        'RMSE_After': [7.877239846935306e-05, 9.881907559502444e-05, 0.04499484947273354],\n",
    "        'MAE_Before': [3.328154154677827e-05, 7.481326086241598e-05, 0.6503566495043961],\n",
    "        'MAE_After': [3.802027503408869e-05, 6.10729539431655e-05, 0.04487710380099862]}\n",
    "\n",
    "# Preparing the data\n",
    "source = ColumnDataSource(data=data)\n",
    "\n",
    "# Creating the plot\n",
    "p = figure(x_range=models, outer_height=350, title=\"Model Performance Metrics Before and After Tuning\",\n",
    "           toolbar_location=None, tools=\"\")\n",
    "\n",
    "width = 0.2\n",
    "for idx, metric in enumerate(metrics):\n",
    "    p.vbar(x=dodge('models', -0.25 + idx * width, range=p.x_range), top=f'{metric}_Before', width=width, \n",
    "           source=source, color=\"#718dbf\", legend_label=f'{metric} Before')\n",
    "    p.vbar(x=dodge('models', -0.05 + idx * width, range=p.x_range), top=f'{metric}_After', width=width, \n",
    "           source=source, color=\"#e84d60\", legend_label=f'{metric} After')\n",
    "\n",
    "p.x_range.range_padding = 0.1\n",
    "p.xgrid.grid_line_color = None\n",
    "p.legend.location = \"top_left\"\n",
    "p.legend.orientation = \"horizontal\"\n",
    "\n",
    "show(p)"
   ]
  }
 ],
 "metadata": {
  "kernelspec": {
   "display_name": "Python 3 (ipykernel)",
   "language": "python",
   "name": "python3"
  },
  "language_info": {
   "codemirror_mode": {
    "name": "ipython",
    "version": 3
   },
   "file_extension": ".py",
   "mimetype": "text/x-python",
   "name": "python",
   "nbconvert_exporter": "python",
   "pygments_lexer": "ipython3",
   "version": "3.11.4"
  }
 },
 "nbformat": 4,
 "nbformat_minor": 5
}
