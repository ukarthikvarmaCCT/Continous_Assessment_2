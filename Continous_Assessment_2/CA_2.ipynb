{
 "cells": [
  {
   "cell_type": "markdown",
   "id": "9b5a5f33",
   "metadata": {},
   "source": [
    "# Continous Assessment - 2\n",
    "\n",
    "### Transportation Sector\n",
    "##### Aviation\n",
    "\n",
    "It is critical that Irish aviation practices and procedures comply with best international standards; promoting the development of a vibrant, competitive and progressively regulated aviation sector and the provision of adequate airport infrastructure and competitive airport services.\n",
    "\n",
    "##### Ireland's aviation policy is centred around three main aims:\n",
    "\n",
    "- To enhance Ireland’s connectivity by ensuring safe, secure and competitive access responsive to the needs of business, tourism and consumers.\n",
    "- To foster the growth of aviation enterprise in Ireland to support job creation and position Ireland as a recognised global leader in aviation.\n",
    "- To maximise the contribution of the aviation sector to Ireland’s economic growth and development"
   ]
  },
  {
   "cell_type": "code",
   "execution_count": 187,
   "id": "13d2517d",
   "metadata": {},
   "outputs": [],
   "source": [
    "import pandas as pd\n",
    "import matplotlib.pyplot as plt\n",
    "import seaborn as sns\n",
    "from bokeh.palettes import Category20c\n",
    "from bokeh.transform import cumsum\n",
    "from bokeh.plotting import figure, show\n",
    "from bokeh.models import ColumnDataSource\n",
    "from bokeh.layouts import column\n",
    "from sklearn.preprocessing import MinMaxScaler\n",
    "import numpy as np\n",
    "import plotly.express as px"
   ]
  },
  {
   "cell_type": "code",
   "execution_count": 188,
   "id": "707d159b",
   "metadata": {},
   "outputs": [],
   "source": [
    "# Load the Ireland datasets\n",
    "ireland_dataset_filename1 = 'TAA02.20240102175208.csv'\n",
    "ireland_dataset_filename2 = 'TAA03.20240102175407.csv'\n",
    "\n",
    "ireland_dataset_1 = pd.read_csv(ireland_dataset_filename1)\n",
    "ireland_dataset_2 = pd.read_csv(ireland_dataset_filename2)\n",
    "\n",
    "# Combining the datasets\n",
    "combined_ireland_dataset = pd.concat([ireland_dataset_1, ireland_dataset_2], ignore_index=True)\n",
    "\n",
    "# Load the LA flights dataset\n",
    "la_flights_dataset_path = 'Los_Angeles_International_Airport_-_Passenger_Count_By_Carrier_Type (2).csv'\n",
    "la_flights_dataset = pd.read_csv(la_flights_dataset_path)"
   ]
  },
  {
   "cell_type": "code",
   "execution_count": 189,
   "id": "a96dc956",
   "metadata": {
    "scrolled": true
   },
   "outputs": [
    {
     "data": {
      "text/html": [
       "<div>\n",
       "<style scoped>\n",
       "    .dataframe tbody tr th:only-of-type {\n",
       "        vertical-align: middle;\n",
       "    }\n",
       "\n",
       "    .dataframe tbody tr th {\n",
       "        vertical-align: top;\n",
       "    }\n",
       "\n",
       "    .dataframe thead th {\n",
       "        text-align: right;\n",
       "    }\n",
       "</style>\n",
       "<table border=\"1\" class=\"dataframe\">\n",
       "  <thead>\n",
       "    <tr style=\"text-align: right;\">\n",
       "      <th></th>\n",
       "      <th>STATISTIC</th>\n",
       "      <th>Statistic Label</th>\n",
       "      <th>TLIST(A1)</th>\n",
       "      <th>Year</th>\n",
       "      <th>C02935V03550</th>\n",
       "      <th>Airports in Ireland</th>\n",
       "      <th>C02191V03548</th>\n",
       "      <th>Country</th>\n",
       "      <th>C02354V02832</th>\n",
       "      <th>Direction</th>\n",
       "      <th>C02936V03551</th>\n",
       "      <th>Flight Type</th>\n",
       "      <th>UNIT</th>\n",
       "      <th>VALUE</th>\n",
       "      <th>C02191V04000</th>\n",
       "    </tr>\n",
       "  </thead>\n",
       "  <tbody>\n",
       "    <tr>\n",
       "      <th>0</th>\n",
       "      <td>TAA02C1</td>\n",
       "      <td>Passengers</td>\n",
       "      <td>2005</td>\n",
       "      <td>2005</td>\n",
       "      <td>EI0M</td>\n",
       "      <td>All main airports</td>\n",
       "      <td>-</td>\n",
       "      <td>All Countries</td>\n",
       "      <td>-</td>\n",
       "      <td>All directions</td>\n",
       "      <td>-</td>\n",
       "      <td>All flights</td>\n",
       "      <td>Thousand</td>\n",
       "      <td>25688.2</td>\n",
       "      <td>NaN</td>\n",
       "    </tr>\n",
       "    <tr>\n",
       "      <th>1</th>\n",
       "      <td>TAA02C1</td>\n",
       "      <td>Passengers</td>\n",
       "      <td>2005</td>\n",
       "      <td>2005</td>\n",
       "      <td>EI0M</td>\n",
       "      <td>All main airports</td>\n",
       "      <td>-</td>\n",
       "      <td>All Countries</td>\n",
       "      <td>-</td>\n",
       "      <td>All directions</td>\n",
       "      <td>1</td>\n",
       "      <td>Scheduled</td>\n",
       "      <td>Thousand</td>\n",
       "      <td>22671.1</td>\n",
       "      <td>NaN</td>\n",
       "    </tr>\n",
       "    <tr>\n",
       "      <th>2</th>\n",
       "      <td>TAA02C1</td>\n",
       "      <td>Passengers</td>\n",
       "      <td>2005</td>\n",
       "      <td>2005</td>\n",
       "      <td>EI0M</td>\n",
       "      <td>All main airports</td>\n",
       "      <td>-</td>\n",
       "      <td>All Countries</td>\n",
       "      <td>-</td>\n",
       "      <td>All directions</td>\n",
       "      <td>2</td>\n",
       "      <td>Unscheduled</td>\n",
       "      <td>Thousand</td>\n",
       "      <td>3017.0</td>\n",
       "      <td>NaN</td>\n",
       "    </tr>\n",
       "    <tr>\n",
       "      <th>3</th>\n",
       "      <td>TAA02C1</td>\n",
       "      <td>Passengers</td>\n",
       "      <td>2005</td>\n",
       "      <td>2005</td>\n",
       "      <td>EI0M</td>\n",
       "      <td>All main airports</td>\n",
       "      <td>-</td>\n",
       "      <td>All Countries</td>\n",
       "      <td>3</td>\n",
       "      <td>Arrival</td>\n",
       "      <td>-</td>\n",
       "      <td>All flights</td>\n",
       "      <td>Thousand</td>\n",
       "      <td>12836.6</td>\n",
       "      <td>NaN</td>\n",
       "    </tr>\n",
       "    <tr>\n",
       "      <th>4</th>\n",
       "      <td>TAA02C1</td>\n",
       "      <td>Passengers</td>\n",
       "      <td>2005</td>\n",
       "      <td>2005</td>\n",
       "      <td>EI0M</td>\n",
       "      <td>All main airports</td>\n",
       "      <td>-</td>\n",
       "      <td>All Countries</td>\n",
       "      <td>3</td>\n",
       "      <td>Arrival</td>\n",
       "      <td>1</td>\n",
       "      <td>Scheduled</td>\n",
       "      <td>Thousand</td>\n",
       "      <td>11334.5</td>\n",
       "      <td>NaN</td>\n",
       "    </tr>\n",
       "  </tbody>\n",
       "</table>\n",
       "</div>"
      ],
      "text/plain": [
       "  STATISTIC Statistic Label  TLIST(A1)  Year C02935V03550 Airports in Ireland  \\\n",
       "0   TAA02C1      Passengers       2005  2005         EI0M   All main airports   \n",
       "1   TAA02C1      Passengers       2005  2005         EI0M   All main airports   \n",
       "2   TAA02C1      Passengers       2005  2005         EI0M   All main airports   \n",
       "3   TAA02C1      Passengers       2005  2005         EI0M   All main airports   \n",
       "4   TAA02C1      Passengers       2005  2005         EI0M   All main airports   \n",
       "\n",
       "  C02191V03548        Country C02354V02832       Direction C02936V03551  \\\n",
       "0            -  All Countries            -  All directions            -   \n",
       "1            -  All Countries            -  All directions            1   \n",
       "2            -  All Countries            -  All directions            2   \n",
       "3            -  All Countries            3         Arrival            -   \n",
       "4            -  All Countries            3         Arrival            1   \n",
       "\n",
       "   Flight Type      UNIT    VALUE C02191V04000  \n",
       "0  All flights  Thousand  25688.2          NaN  \n",
       "1    Scheduled  Thousand  22671.1          NaN  \n",
       "2  Unscheduled  Thousand   3017.0          NaN  \n",
       "3  All flights  Thousand  12836.6          NaN  \n",
       "4    Scheduled  Thousand  11334.5          NaN  "
      ]
     },
     "execution_count": 189,
     "metadata": {},
     "output_type": "execute_result"
    }
   ],
   "source": [
    "combined_ireland_dataset.head()"
   ]
  },
  {
   "cell_type": "code",
   "execution_count": 190,
   "id": "d95789c6",
   "metadata": {
    "scrolled": true
   },
   "outputs": [
    {
     "data": {
      "text/html": [
       "<div>\n",
       "<style scoped>\n",
       "    .dataframe tbody tr th:only-of-type {\n",
       "        vertical-align: middle;\n",
       "    }\n",
       "\n",
       "    .dataframe tbody tr th {\n",
       "        vertical-align: top;\n",
       "    }\n",
       "\n",
       "    .dataframe thead th {\n",
       "        text-align: right;\n",
       "    }\n",
       "</style>\n",
       "<table border=\"1\" class=\"dataframe\">\n",
       "  <thead>\n",
       "    <tr style=\"text-align: right;\">\n",
       "      <th></th>\n",
       "      <th>Year</th>\n",
       "      <th>Airports in Ireland</th>\n",
       "      <th>Country</th>\n",
       "      <th>Direction</th>\n",
       "      <th>Flight Type</th>\n",
       "      <th>UNIT</th>\n",
       "      <th>VALUE</th>\n",
       "    </tr>\n",
       "  </thead>\n",
       "  <tbody>\n",
       "    <tr>\n",
       "      <th>0</th>\n",
       "      <td>2005</td>\n",
       "      <td>All main airports</td>\n",
       "      <td>All Countries</td>\n",
       "      <td>All directions</td>\n",
       "      <td>All flights</td>\n",
       "      <td>Thousand</td>\n",
       "      <td>25688.2</td>\n",
       "    </tr>\n",
       "    <tr>\n",
       "      <th>1</th>\n",
       "      <td>2005</td>\n",
       "      <td>All main airports</td>\n",
       "      <td>All Countries</td>\n",
       "      <td>All directions</td>\n",
       "      <td>Scheduled</td>\n",
       "      <td>Thousand</td>\n",
       "      <td>22671.1</td>\n",
       "    </tr>\n",
       "    <tr>\n",
       "      <th>2</th>\n",
       "      <td>2005</td>\n",
       "      <td>All main airports</td>\n",
       "      <td>All Countries</td>\n",
       "      <td>All directions</td>\n",
       "      <td>Unscheduled</td>\n",
       "      <td>Thousand</td>\n",
       "      <td>3017.0</td>\n",
       "    </tr>\n",
       "    <tr>\n",
       "      <th>3</th>\n",
       "      <td>2005</td>\n",
       "      <td>All main airports</td>\n",
       "      <td>All Countries</td>\n",
       "      <td>Arrival</td>\n",
       "      <td>All flights</td>\n",
       "      <td>Thousand</td>\n",
       "      <td>12836.6</td>\n",
       "    </tr>\n",
       "    <tr>\n",
       "      <th>4</th>\n",
       "      <td>2005</td>\n",
       "      <td>All main airports</td>\n",
       "      <td>All Countries</td>\n",
       "      <td>Arrival</td>\n",
       "      <td>Scheduled</td>\n",
       "      <td>Thousand</td>\n",
       "      <td>11334.5</td>\n",
       "    </tr>\n",
       "  </tbody>\n",
       "</table>\n",
       "</div>"
      ],
      "text/plain": [
       "   Year Airports in Ireland        Country       Direction  Flight Type  \\\n",
       "0  2005   All main airports  All Countries  All directions  All flights   \n",
       "1  2005   All main airports  All Countries  All directions    Scheduled   \n",
       "2  2005   All main airports  All Countries  All directions  Unscheduled   \n",
       "3  2005   All main airports  All Countries         Arrival  All flights   \n",
       "4  2005   All main airports  All Countries         Arrival    Scheduled   \n",
       "\n",
       "       UNIT    VALUE  \n",
       "0  Thousand  25688.2  \n",
       "1  Thousand  22671.1  \n",
       "2  Thousand   3017.0  \n",
       "3  Thousand  12836.6  \n",
       "4  Thousand  11334.5  "
      ]
     },
     "execution_count": 190,
     "metadata": {},
     "output_type": "execute_result"
    }
   ],
   "source": [
    "# Dropping columns with null values in the combined Ireland dataset\n",
    "columns_to_drop_ireland = ['C02191V03548', 'C02191V04000','STATISTIC', 'Statistic Label','TLIST(A1)', 'C02935V03550', 'C02354V02832', 'C02936V03551']\n",
    "cleaned_ireland_dataset = combined_ireland_dataset.drop(columns=columns_to_drop_ireland)\n",
    "\n",
    "# There are no columns to drop in the LA flights dataset as it has no null values\n",
    "\n",
    "# Displaying the first few rows of the cleaned Ireland dataset\n",
    "cleaned_ireland_dataset.head()"
   ]
  },
  {
   "cell_type": "markdown",
   "id": "c972d9a1",
   "metadata": {},
   "source": [
    "The columns TLIST(A1), C02935V03550, C02354V02832, and C02936V03551 were dropped from the Ireland dataset for the following reasons:\n",
    "- TLIST(A1): Dropped because it duplicated the information provided by the Year column. Both columns represented the year of the data record, making one of them redundant.\n",
    "- C02935V03550: This column was removed as it seemed to provide the same information as Airports in Ireland, likely representing airport identifiers or categories.\n",
    "- C02354V02832: Dropped as it appeared to be redundant with the Direction column. Both columns were likely used to indicate the direction of flight (Arrival/Departure).\n",
    "- C02936V03551: Removed because it likely duplicated the information in the Flight Type column, categorizing flights into types such as Scheduled or Unscheduled.\n",
    "\n",
    "These columns were dropped to streamline the dataset, removing redundant information and making the dataset more concise and easier to analyze.\n"
   ]
  },
  {
   "cell_type": "code",
   "execution_count": 191,
   "id": "a5fdc6d7",
   "metadata": {},
   "outputs": [],
   "source": [
    "# 2. Data Engineering: Feature Engineering and Data Type Conversion\n",
    "\n",
    "#For LA Dataset\n",
    "# Converting 'ReportPeriod' to datetime format for easier handling\n",
    "la_flights_dataset['ReportPeriod'] = pd.to_datetime(la_flights_dataset['ReportPeriod'])\n",
    "\n",
    "# Creating a new feature: 'Month' extracted from 'ReportPeriod'\n",
    "la_flights_dataset['Month'] = la_flights_dataset['ReportPeriod'].dt.month\n",
    "\n",
    "# Creating a new feature: 'Year' extracted from 'ReportPeriod'\n",
    "la_flights_dataset['Year'] = la_flights_dataset['ReportPeriod'].dt.year"
   ]
  },
  {
   "cell_type": "code",
   "execution_count": 192,
   "id": "52b96333",
   "metadata": {},
   "outputs": [],
   "source": [
    "#For Ireland Dataset\n",
    "\n",
    "# For Ireland Dataset: Creating a new feature 'Passenger Millions' for easier readability\n",
    "cleaned_ireland_dataset['Passenger Millions'] = cleaned_ireland_dataset['VALUE'] / 1000"
   ]
  },
  {
   "cell_type": "code",
   "execution_count": 193,
   "id": "121eb31b",
   "metadata": {},
   "outputs": [],
   "source": [
    "# Min-Max Normalization\n",
    "scaler = MinMaxScaler()\n",
    "\n",
    "# Applying Min-Max normalization to the 'Passenger Millions' column in both datasets\n",
    "ireland_passenger_values = cleaned_ireland_dataset['Passenger Millions'].values.reshape(-1, 1)\n",
    "la_passenger_values = la_flights_dataset['Passenger_Count'].values.reshape(-1, 1)\n",
    "\n",
    "# Fitting the scaler to the Ireland dataset and transforming both datasets\n",
    "scaler.fit(ireland_passenger_values)\n",
    "cleaned_ireland_dataset['Scaled Passenger Millions'] = scaler.transform(ireland_passenger_values)\n",
    "la_flights_dataset['Scaled Passenger Count'] = scaler.transform(la_passenger_values) / 1_000_000  # Scaling down to millions"
   ]
  },
  {
   "cell_type": "markdown",
   "id": "3508dff5",
   "metadata": {},
   "source": [
    "The Min-Max normalization has been applied to the 'Passenger Millions' column in both the Ireland and LA datasets. This scaling brings the values of this column into a common range, facilitating direct comparison.\n",
    "\n",
    "In the results, you will see a new column 'Scaled Passenger Millions' in each dataset, representing the scaled values. Please note that these values are now on a 0-1 scale, making it easier to compare passenger counts across the two datasets on a relative basis."
   ]
  },
  {
   "cell_type": "markdown",
   "id": "9db167b8",
   "metadata": {},
   "source": [
    "### EDA(Exploratory Data Analysis)"
   ]
  },
  {
   "cell_type": "code",
   "execution_count": 194,
   "id": "a3d148c9",
   "metadata": {},
   "outputs": [
    {
     "name": "stdout",
     "output_type": "stream",
     "text": [
      "<class 'pandas.core.frame.DataFrame'>\n",
      "RangeIndex: 2011 entries, 0 to 2010\n",
      "Data columns (total 9 columns):\n",
      " #   Column                  Non-Null Count  Dtype         \n",
      "---  ------                  --------------  -----         \n",
      " 0   DataExtractDate         2011 non-null   object        \n",
      " 1   ReportPeriod            2011 non-null   datetime64[ns]\n",
      " 2   Arrival_Departure       2011 non-null   object        \n",
      " 3   Domestic_International  2011 non-null   object        \n",
      " 4   FlightType              2011 non-null   object        \n",
      " 5   Passenger_Count         2011 non-null   int64         \n",
      " 6   Month                   2011 non-null   int64         \n",
      " 7   Year                    2011 non-null   int64         \n",
      " 8   Scaled Passenger Count  2011 non-null   float64       \n",
      "dtypes: datetime64[ns](1), float64(1), int64(3), object(4)\n",
      "memory usage: 141.5+ KB\n",
      "<class 'pandas.core.frame.DataFrame'>\n",
      "RangeIndex: 184788 entries, 0 to 184787\n",
      "Data columns (total 9 columns):\n",
      " #   Column                     Non-Null Count   Dtype  \n",
      "---  ------                     --------------   -----  \n",
      " 0   Year                       184788 non-null  int64  \n",
      " 1   Airports in Ireland        184788 non-null  object \n",
      " 2   Country                    184788 non-null  object \n",
      " 3   Direction                  184788 non-null  object \n",
      " 4   Flight Type                184788 non-null  object \n",
      " 5   UNIT                       184788 non-null  object \n",
      " 6   VALUE                      184788 non-null  float64\n",
      " 7   Passenger Millions         184788 non-null  float64\n",
      " 8   Scaled Passenger Millions  184788 non-null  float64\n",
      "dtypes: float64(3), int64(1), object(5)\n",
      "memory usage: 12.7+ MB\n"
     ]
    }
   ],
   "source": [
    "# Exploratory Data Analysis (EDA) for the LA flights dataset\n",
    "# Displaying basic information\n",
    "la_flights_info = la_flights_dataset.info()\n",
    "la_flights_describe = la_flights_dataset.describe()\n",
    "\n",
    "# For the Ireland dataset\n",
    "ireland_info = cleaned_ireland_dataset.info()\n",
    "ireland_describe = cleaned_ireland_dataset.describe()"
   ]
  },
  {
   "cell_type": "code",
   "execution_count": 197,
   "id": "9c18d2ad",
   "metadata": {},
   "outputs": [
    {
     "data": {
      "image/png": "[encoded data removed]",
      "text/plain": [
       "<Figure size 1200x600 with 2 Axes>"
      ]
     },
     "metadata": {},
     "output_type": "display_data"
    }
   ],
   "source": [
    "# Identifying and Addressing Outliers\n",
    "\n",
    "# LA Flights Dataset\n",
    "Q1_la = la_flights_dataset['Passenger_Count'].quantile(0.25)\n",
    "Q3_la = la_flights_dataset['Passenger_Count'].quantile(0.75)\n",
    "IQR_la = Q3_la - Q1_la\n",
    "lower_bound_la = Q1_la - 1.5 * IQR_la\n",
    "upper_bound_la = Q3_la + 1.5 * IQR_la\n",
    "la_flights_filtered = la_flights_dataset[(la_flights_dataset['Passenger_Count'] >= lower_bound_la) & (la_flights_dataset['Passenger_Count'] <= upper_bound_la)]\n",
    "\n",
    "# Boxplot for LA Flights Dataset - Before and After Removing Outliers\n",
    "plt.figure(figsize=(12, 6))\n",
    "plt.subplot(1, 2, 1)\n",
    "sns.boxplot(y=la_flights_dataset['Passenger_Count'])\n",
    "plt.title('LA Flights - Before Removing Outliers')\n",
    "plt.ylabel('Passenger Count')\n",
    "\n",
    "plt.subplot(1, 2, 2)\n",
    "sns.boxplot(y=la_flights_filtered['Passenger_Count'])\n",
    "plt.title('LA Flights - After Removing Outliers')\n",
    "plt.ylabel('Passenger Count')\n",
    "plt.tight_layout()\n",
    "plt.show()"
   ]
  },
  {
   "cell_type": "code",
   "execution_count": 198,
   "id": "c54f3da5",
   "metadata": {},
   "outputs": [
    {
     "data": {
      "image/png": "[encoded data removed]",
      "text/plain": [
       "<Figure size 1200x600 with 2 Axes>"
      ]
     },
     "metadata": {},
     "output_type": "display_data"
    }
   ],
   "source": [
    "# Ireland Dataset\n",
    "Q1_ireland = cleaned_ireland_dataset['VALUE'].quantile(0.25)\n",
    "Q3_ireland = cleaned_ireland_dataset['VALUE'].quantile(0.75)\n",
    "IQR_ireland = Q3_ireland - Q1_ireland\n",
    "lower_bound_ireland = Q1_ireland - 1.5 * IQR_ireland\n",
    "upper_bound_ireland = Q3_ireland + 1.5 * IQR_ireland\n",
    "ireland_filtered = cleaned_ireland_dataset[(cleaned_ireland_dataset['VALUE'] >= lower_bound_ireland) & (cleaned_ireland_dataset['VALUE'] <= upper_bound_ireland)]\n",
    "\n",
    "\n",
    "# Boxplot for Ireland Dataset - Before and After Removing Outliers\n",
    "plt.figure(figsize=(12, 6))\n",
    "plt.subplot(1, 2, 1)\n",
    "sns.boxplot(y=cleaned_ireland_dataset['VALUE'])\n",
    "plt.title('Ireland Dataset - Before Removing Outliers')\n",
    "plt.ylabel('Passenger Value')\n",
    "\n",
    "plt.subplot(1, 2, 2)\n",
    "sns.boxplot(y=ireland_filtered['VALUE'])\n",
    "plt.title('Ireland Dataset - After Removing Outliers')\n",
    "plt.ylabel('Passenger Value')\n",
    "plt.tight_layout()\n",
    "plt.show()"
   ]
  },
  {
   "cell_type": "code",
   "execution_count": 199,
   "id": "f66159a6",
   "metadata": {},
   "outputs": [
    {
     "name": "stdout",
     "output_type": "stream",
     "text": [
      "<class 'pandas.core.frame.DataFrame'>\n",
      "Int64Index: 144766 entries, 55 to 184787\n",
      "Data columns (total 9 columns):\n",
      " #   Column                     Non-Null Count   Dtype  \n",
      "---  ------                     --------------   -----  \n",
      " 0   Year                       144766 non-null  int64  \n",
      " 1   Airports in Ireland        144766 non-null  object \n",
      " 2   Country                    144766 non-null  object \n",
      " 3   Direction                  144766 non-null  object \n",
      " 4   Flight Type                144766 non-null  object \n",
      " 5   UNIT                       144766 non-null  object \n",
      " 6   VALUE                      144766 non-null  float64\n",
      " 7   Passenger Millions         144766 non-null  float64\n",
      " 8   Scaled Passenger Millions  144766 non-null  float64\n",
      "dtypes: float64(3), int64(1), object(5)\n",
      "memory usage: 11.0+ MB\n"
     ]
    }
   ],
   "source": [
    "ireland_filtered.info()"
   ]
  },
  {
   "cell_type": "code",
   "execution_count": 200,
   "id": "0a9be54f",
   "metadata": {},
   "outputs": [],
   "source": [
    "ireland_filtered.to_csv('ireland_filtered.csv')\n",
    "la_flights_dataset.to_csv('la_flights_dataset.csv')"
   ]
  },
  {
   "cell_type": "markdown",
   "id": "94ddda1f",
   "metadata": {},
   "source": [
    "#### Vizualizations"
   ]
  },
  {
   "cell_type": "code",
   "execution_count": 201,
   "id": "3d08b9a5",
   "metadata": {
    "scrolled": false
   },
   "outputs": [
    {
     "data": {
      "image/png": "[encoded data removed]",
      "text/plain": [
       "<Figure size 1200x800 with 3 Axes>"
      ]
     },
     "metadata": {},
     "output_type": "display_data"
    },
    {
     "data": {
      "text/plain": [
       "(                 Year Airports in Ireland Country  Direction  Flight Type  \\\n",
       " count   144766.000000              144766  144766     144766       144766   \n",
       " unique            NaN                   7      65          3            3   \n",
       " top               NaN               Kerry  Serbia  Departure  Unscheduled   \n",
       " freq              NaN               26907    3094      48981        54483   \n",
       " mean      2013.204730                 NaN     NaN        NaN          NaN   \n",
       " std          5.202816                 NaN     NaN        NaN          NaN   \n",
       " min       2005.000000                 NaN     NaN        NaN          NaN   \n",
       " 25%       2009.000000                 NaN     NaN        NaN          NaN   \n",
       " 50%       2013.000000                 NaN     NaN        NaN          NaN   \n",
       " 75%       2018.000000                 NaN     NaN        NaN          NaN   \n",
       " max       2022.000000                 NaN     NaN        NaN          NaN   \n",
       " \n",
       "             UNIT          VALUE  Passenger Millions  Scaled Passenger Millions  \n",
       " count     144766  144766.000000       144766.000000               1.447660e+05  \n",
       " unique         2            NaN                 NaN                        NaN  \n",
       " top     Thousand            NaN                 NaN                        NaN  \n",
       " freq       87878            NaN                 NaN                        NaN  \n",
       " mean         NaN       0.025854            0.000026               6.794173e-07  \n",
       " std          NaN       0.085292            0.000085               2.241385e-06  \n",
       " min          NaN       0.000000            0.000000               0.000000e+00  \n",
       " 25%          NaN       0.000000            0.000000               0.000000e+00  \n",
       " 50%          NaN       0.000000            0.000000               0.000000e+00  \n",
       " 75%          NaN       0.000000            0.000000               0.000000e+00  \n",
       " max          NaN       0.500000            0.000500               1.313943e-05  ,\n",
       " None)"
      ]
     },
     "execution_count": 201,
     "metadata": {},
     "output_type": "execute_result"
    }
   ],
   "source": [
    "# Descriptive statistics for the Ireland dataset\n",
    "ireland_data_desc = ireland_filtered.describe(include='all')\n",
    "\n",
    "# Plotting settings\n",
    "sns.set(style=\"whitegrid\")\n",
    "\n",
    "# Visualizations\n",
    "plt.figure(figsize=(12, 8))\n",
    "\n",
    "# 1. Distribution of flights over the years\n",
    "plt.subplot(2, 2, 1)\n",
    "sns.countplot(x='Year', data=ireland_filtered)\n",
    "plt.title('Distribution of Flights Over the Years')\n",
    "plt.xlabel('Year')\n",
    "plt.ylabel('Number of Records')\n",
    "plt.xticks(rotation=45)\n",
    "\n",
    "\n",
    "# 2. Comparison between scheduled and unscheduled flights\n",
    "plt.subplot(2, 2, 2)\n",
    "sns.countplot(x='Flight Type', data=ireland_filtered)\n",
    "plt.title('Scheduled vs Unscheduled Flights')\n",
    "plt.xlabel('Flight Type')\n",
    "plt.ylabel('Count')\n",
    "\n",
    "\n",
    "# 3. Top countries by flight traffic\n",
    "top_countries = ireland_filtered['Country'].value_counts().head(10)\n",
    "plt.subplot(2, 2, 3)\n",
    "sns.barplot(x=top_countries.values, y=top_countries.index)\n",
    "plt.title('Top 10 Countries by Flight Traffic')\n",
    "plt.xlabel('Number of Flights')\n",
    "plt.ylabel('Country')\n",
    "plt.tight_layout()\n",
    "\n",
    "ireland_data_desc, plt.show()"
   ]
  },
  {
   "cell_type": "markdown",
   "id": "ee02fc4f",
   "metadata": {},
   "source": [
    "Descriptive Statistics:\n",
    "- There are 144,766 records in the dataset, spanning from 2005 to 2022.\n",
    "- The dataset includes data from 7 different airports in Ireland and covers 65 countries.\n",
    "- The majority of flights are unscheduled.\n",
    "- The average number of flights or passengers is quite low (mean = 0.025854 thousand), but with a maximum value of 0.5 thousand, indicating some larger values in the dataset.\n",
    "\n",
    "Visualizations:\n",
    "\n",
    "Distribution of Flights Over the Years:\n",
    "- There is a fairly uniform distribution of records across the years, with no major spikes or dips.\n",
    "\n",
    "Scheduled vs Unscheduled Flights:\n",
    "- Unscheduled flights are more frequent than scheduled flights in this dataset.\n",
    "\n",
    "Top 10 Countries by Flight Traffic:\n",
    "- The top countries in terms of flight traffic include Serbia, Croatia, and others. This indicates where the majority of flights are coming from or going to."
   ]
  },
  {
   "cell_type": "code",
   "execution_count": 202,
   "id": "2c5d7767",
   "metadata": {},
   "outputs": [
    {
     "data": {
      "image/png": "[encoded data removed]",
      "text/plain": [
       "<Figure size 800x400 with 2 Axes>"
      ]
     },
     "metadata": {},
     "output_type": "display_data"
    },
    {
     "data": {
      "text/plain": [
       "(               DataExtractDate                   ReportPeriod  \\\n",
       " count                     2011                           2011   \n",
       " unique                     106                            NaN   \n",
       " top     04/18/2018 03:12:41 PM                            NaN   \n",
       " freq                      1474                            NaN   \n",
       " mean                       NaN  2014-01-30 14:17:07.548483328   \n",
       " min                        NaN            2006-01-01 00:00:00   \n",
       " 25%                        NaN            2009-08-16 12:00:00   \n",
       " 50%                        NaN            2013-10-01 00:00:00   \n",
       " 75%                        NaN            2018-04-01 00:00:00   \n",
       " max                        NaN            2023-10-01 00:00:00   \n",
       " std                        NaN                            NaN   \n",
       " \n",
       "        Arrival_Departure Domestic_International          FlightType  \\\n",
       " count               2011                   2011                2011   \n",
       " unique                 2                      2                   3   \n",
       " top              Arrival               Domestic  Scheduled Carriers   \n",
       " freq                1027                   1109                 856   \n",
       " mean                 NaN                    NaN                 NaN   \n",
       " min                  NaN                    NaN                 NaN   \n",
       " 25%                  NaN                    NaN                 NaN   \n",
       " 50%                  NaN                    NaN                 NaN   \n",
       " 75%                  NaN                    NaN                 NaN   \n",
       " max                  NaN                    NaN                 NaN   \n",
       " std                  NaN                    NaN                 NaN   \n",
       " \n",
       "         Passenger_Count        Month         Year  Scaled Passenger Count  \n",
       " count      2.011000e+03  2011.000000  2011.000000             2011.000000  \n",
       " unique              NaN          NaN          NaN                     NaN  \n",
       " top                 NaN          NaN          NaN                     NaN  \n",
       " freq                NaN          NaN          NaN                     NaN  \n",
       " mean       5.884423e+05     6.356042  2013.636997                0.015464  \n",
       " min        0.000000e+00     1.000000  2006.000000                0.000000  \n",
       " 25%        5.250000e+02     3.000000  2009.000000                0.000014  \n",
       " 50%        4.553900e+04     6.000000  2013.000000                0.001197  \n",
       " 75%        9.349135e+05     9.000000  2018.000000                0.024568  \n",
       " max        2.984321e+06    12.000000  2023.000000                0.078425  \n",
       " std        8.125686e+05     3.438665     5.077950                0.021353  ,\n",
       " None)"
      ]
     },
     "execution_count": 202,
     "metadata": {},
     "output_type": "execute_result"
    }
   ],
   "source": [
    "# Descriptive statistics for the LA dataset\n",
    "la_data_desc = la_flights_dataset.describe(include='all',datetime_is_numeric=True)\n",
    "\n",
    "# Visualizations\n",
    "plt.figure(figsize=(8, 4))\n",
    "\n",
    "# 1. Distribution of Passenger Counts over Time (Yearly)\n",
    "plt.subplot(1, 2, 1)\n",
    "sns.lineplot(x='Year', y='Passenger_Count', data=la_flights_dataset, estimator='sum', errorbar=None)\n",
    "plt.title('Yearly Passenger Counts')\n",
    "plt.xlabel('Year')\n",
    "plt.ylabel('Total Passenger Count')\n",
    "plt.xticks(rotation=45)\n",
    "\n",
    "\n",
    "# 2. Comparison between Domestic and International Flights\n",
    "plt.subplot(1, 2, 2)\n",
    "sns.barplot(x='Domestic_International', y='Passenger_Count', data=la_flights_dataset, estimator=np.sum)\n",
    "plt.title('Domestic vs International Passenger Counts')\n",
    "plt.xlabel('Flight Type')\n",
    "plt.ylabel('Total Passenger Count')\n",
    "\n",
    "plt.tight_layout()\n",
    "\n",
    "la_data_desc, plt.show()"
   ]
  },
  {
   "cell_type": "markdown",
   "id": "9a243ba7",
   "metadata": {},
   "source": [
    "###### Descriptive Statistics:\n",
    "- The dataset contains 2,011 records, spanning from 2006 to 2023.\n",
    "- There are two main flight types: Domestic and International.\n",
    "- The FlightType includes Scheduled Carriers, Charter, and one other type.\n",
    "- The average passenger count is approximately 588,442, but this varies widely (std = 812,568).\n",
    "###### Visualizations:\n",
    "\n",
    "###### Yearly Passenger Counts:\n",
    "- Shows the total passenger count for each year.\n",
    "- Note: The dataset may not be complete for some years, so trends should be interpreted cautiously.\n",
    "\n",
    "###### Domestic vs International Passenger Counts:\n",
    "- Compares the total passenger counts for domestic versus international flights.\n",
    "- Indicates which type of flight has more passenger traffic."
   ]
  },
  {
   "cell_type": "code",
   "execution_count": 203,
   "id": "274bd6bc",
   "metadata": {},
   "outputs": [
    {
     "data": {
      "text/html": [
       "<div>\n",
       "<style scoped>\n",
       "    .dataframe tbody tr th:only-of-type {\n",
       "        vertical-align: middle;\n",
       "    }\n",
       "\n",
       "    .dataframe tbody tr th {\n",
       "        vertical-align: top;\n",
       "    }\n",
       "\n",
       "    .dataframe thead th {\n",
       "        text-align: right;\n",
       "    }\n",
       "</style>\n",
       "<table border=\"1\" class=\"dataframe\">\n",
       "  <thead>\n",
       "    <tr style=\"text-align: right;\">\n",
       "      <th></th>\n",
       "      <th>DataExtractDate</th>\n",
       "      <th>ReportPeriod</th>\n",
       "      <th>Arrival_Departure</th>\n",
       "      <th>Domestic_International</th>\n",
       "      <th>FlightType</th>\n",
       "      <th>Passenger_Count</th>\n",
       "      <th>Month</th>\n",
       "      <th>Year</th>\n",
       "      <th>Scaled Passenger Count</th>\n",
       "    </tr>\n",
       "  </thead>\n",
       "  <tbody>\n",
       "    <tr>\n",
       "      <th>0</th>\n",
       "      <td>05/03/2021 03:08:02 PM</td>\n",
       "      <td>2021-03-01</td>\n",
       "      <td>Arrival</td>\n",
       "      <td>Domestic</td>\n",
       "      <td>Scheduled Carriers</td>\n",
       "      <td>1128607</td>\n",
       "      <td>3</td>\n",
       "      <td>2021</td>\n",
       "      <td>0.029659</td>\n",
       "    </tr>\n",
       "    <tr>\n",
       "      <th>1</th>\n",
       "      <td>08/01/2021 12:00:23 AM</td>\n",
       "      <td>2021-05-01</td>\n",
       "      <td>Departure</td>\n",
       "      <td>International</td>\n",
       "      <td>Scheduled Carriers</td>\n",
       "      <td>299659</td>\n",
       "      <td>5</td>\n",
       "      <td>2021</td>\n",
       "      <td>0.007875</td>\n",
       "    </tr>\n",
       "    <tr>\n",
       "      <th>2</th>\n",
       "      <td>08/01/2021 12:00:23 AM</td>\n",
       "      <td>2021-06-01</td>\n",
       "      <td>Departure</td>\n",
       "      <td>Domestic</td>\n",
       "      <td>Charter</td>\n",
       "      <td>753</td>\n",
       "      <td>6</td>\n",
       "      <td>2021</td>\n",
       "      <td>0.000020</td>\n",
       "    </tr>\n",
       "    <tr>\n",
       "      <th>3</th>\n",
       "      <td>04/10/2021 06:01:03 AM</td>\n",
       "      <td>2021-03-01</td>\n",
       "      <td>Departure</td>\n",
       "      <td>Domestic</td>\n",
       "      <td>Charter</td>\n",
       "      <td>342</td>\n",
       "      <td>3</td>\n",
       "      <td>2021</td>\n",
       "      <td>0.000009</td>\n",
       "    </tr>\n",
       "    <tr>\n",
       "      <th>4</th>\n",
       "      <td>04/10/2021 06:01:03 AM</td>\n",
       "      <td>2021-03-01</td>\n",
       "      <td>Arrival</td>\n",
       "      <td>Domestic</td>\n",
       "      <td>Charter</td>\n",
       "      <td>199</td>\n",
       "      <td>3</td>\n",
       "      <td>2021</td>\n",
       "      <td>0.000005</td>\n",
       "    </tr>\n",
       "  </tbody>\n",
       "</table>\n",
       "</div>"
      ],
      "text/plain": [
       "          DataExtractDate ReportPeriod Arrival_Departure  \\\n",
       "0  05/03/2021 03:08:02 PM   2021-03-01           Arrival   \n",
       "1  08/01/2021 12:00:23 AM   2021-05-01         Departure   \n",
       "2  08/01/2021 12:00:23 AM   2021-06-01         Departure   \n",
       "3  04/10/2021 06:01:03 AM   2021-03-01         Departure   \n",
       "4  04/10/2021 06:01:03 AM   2021-03-01           Arrival   \n",
       "\n",
       "  Domestic_International          FlightType  Passenger_Count  Month  Year  \\\n",
       "0               Domestic  Scheduled Carriers          1128607      3  2021   \n",
       "1          International  Scheduled Carriers           299659      5  2021   \n",
       "2               Domestic             Charter              753      6  2021   \n",
       "3               Domestic             Charter              342      3  2021   \n",
       "4               Domestic             Charter              199      3  2021   \n",
       "\n",
       "   Scaled Passenger Count  \n",
       "0                0.029659  \n",
       "1                0.007875  \n",
       "2                0.000020  \n",
       "3                0.000009  \n",
       "4                0.000005  "
      ]
     },
     "execution_count": 203,
     "metadata": {},
     "output_type": "execute_result"
    }
   ],
   "source": [
    "la_flights_dataset.head()"
   ]
  },
  {
   "cell_type": "code",
   "execution_count": 205,
   "id": "f67f766d",
   "metadata": {
    "scrolled": false
   },
   "outputs": [
    {
     "data": {
      "application/vnd.plotly.v1+json": {
       "config": {
        "plotlyServerURL": "https://plot.ly"
       },
       "data": [
        {
         "hovertemplate": "Location=Passengers_Ireland<br>year=%{x}<br>Total Passengers=%{y}<extra></extra>",
         "legendgroup": "Passengers_Ireland",
         "line": {
          "color": "#636efa",
          "dash": "solid"
         },
         "marker": {
          "symbol": "circle"
         },
         "mode": "lines",
         "name": "Passengers_Ireland",
         "orientation": "v",
         "showlegend": true,
         "type": "scatter",
         "x": [
          2005,
          2006,
          2007,
          2008,
          2009,
          2010,
          2011,
          2012,
          2013,
          2014,
          2015,
          2016,
          2017,
          2018,
          2019,
          2020,
          2021,
          2022
         ],
         "xaxis": "x",
         "y": [
          214200,
          223400.00000000003,
          215100,
          234700,
          222600,
          214200,
          206800,
          194700,
          183700,
          186800,
          200800,
          221800,
          201600,
          217400,
          186900,
          203200,
          213800,
          201100
         ],
         "yaxis": "y"
        },
        {
         "hovertemplate": "Location=Passengers_LA<br>year=%{x}<br>Total Passengers=%{y}<extra></extra>",
         "legendgroup": "Passengers_LA",
         "line": {
          "color": "#EF553B",
          "dash": "solid"
         },
         "marker": {
          "symbol": "circle"
         },
         "mode": "lines",
         "name": "Passengers_LA",
         "orientation": "v",
         "showlegend": true,
         "type": "scatter",
         "x": [
          2005,
          2006,
          2007,
          2008,
          2009,
          2010,
          2011,
          2012,
          2013,
          2014,
          2015,
          2016,
          2017,
          2018,
          2019,
          2020,
          2021,
          2022
         ],
         "xaxis": "x",
         "y": [
          305203.37,
          312192.915,
          299103.75,
          282604.215,
          295350.635,
          309310.26,
          318440.605,
          333328.63,
          353317.595,
          374781.525,
          404608.255,
          422793.88,
          437665.885,
          440340.065,
          143897.635,
          240046.87,
          330025.435,
          313776.13
         ],
         "yaxis": "y"
        }
       ],
       "layout": {
        "legend": {
         "title": {
          "text": "Location"
         },
         "tracegroupgap": 0
        },
        "template": {
         "data": {
          "bar": [
           {
            "error_x": {
             "color": "#2a3f5f"
            },
            "error_y": {
             "color": "#2a3f5f"
            },
            "marker": {
             "line": {
              "color": "#E5ECF6",
              "width": 0.5
             },
             "pattern": {
              "fillmode": "overlay",
              "size": 10,
              "solidity": 0.2
             }
            },
            "type": "bar"
           }
          ],
          "barpolar": [
           {
            "marker": {
             "line": {
              "color": "#E5ECF6",
              "width": 0.5
             },
             "pattern": {
              "fillmode": "overlay",
              "size": 10,
              "solidity": 0.2
             }
            },
            "type": "barpolar"
           }
          ],
          "carpet": [
           {
            "aaxis": {
             "endlinecolor": "#2a3f5f",
             "gridcolor": "white",
             "linecolor": "white",
             "minorgridcolor": "white",
             "startlinecolor": "#2a3f5f"
            },
            "baxis": {
             "endlinecolor": "#2a3f5f",
             "gridcolor": "white",
             "linecolor": "white",
             "minorgridcolor": "white",
             "startlinecolor": "#2a3f5f"
            },
            "type": "carpet"
           }
          ],
          "choropleth": [
           {
            "colorbar": {
             "outlinewidth": 0,
             "ticks": ""
            },
            "type": "choropleth"
           }
          ],
          "contour": [
           {
            "colorbar": {
             "outlinewidth": 0,
             "ticks": ""
            },
            "colorscale": [
             [
              0,
              "#0d0887"
             ],
             [
              0.1111111111111111,
              "#46039f"
             ],
             [
              0.2222222222222222,
              "#7201a8"
             ],
             [
              0.3333333333333333,
              "#9c179e"
             ],
             [
              0.4444444444444444,
              "#bd3786"
             ],
             [
              0.5555555555555556,
              "#d8576b"
             ],
             [
              0.6666666666666666,
              "#ed7953"
             ],
             [
              0.7777777777777778,
              "#fb9f3a"
             ],
             [
              0.8888888888888888,
              "#fdca26"
             ],
             [
              1,
              "#f0f921"
             ]
            ],
            "type": "contour"
           }
          ],
          "contourcarpet": [
           {
            "colorbar": {
             "outlinewidth": 0,
             "ticks": ""
            },
            "type": "contourcarpet"
           }
          ],
          "heatmap": [
           {
            "colorbar": {
             "outlinewidth": 0,
             "ticks": ""
            },
            "colorscale": [
             [
              0,
              "#0d0887"
             ],
             [
              0.1111111111111111,
              "#46039f"
             ],
             [
              0.2222222222222222,
              "#7201a8"
             ],
             [
              0.3333333333333333,
              "#9c179e"
             ],
             [
              0.4444444444444444,
              "#bd3786"
             ],
             [
              0.5555555555555556,
              "#d8576b"
             ],
             [
              0.6666666666666666,
              "#ed7953"
             ],
             [
              0.7777777777777778,
              "#fb9f3a"
             ],
             [
              0.8888888888888888,
              "#fdca26"
             ],
             [
              1,
              "#f0f921"
             ]
            ],
            "type": "heatmap"
           }
          ],
          "heatmapgl": [
           {
            "colorbar": {
             "outlinewidth": 0,
             "ticks": ""
            },
            "colorscale": [
             [
              0,
              "#0d0887"
             ],
             [
              0.1111111111111111,
              "#46039f"
             ],
             [
              0.2222222222222222,
              "#7201a8"
             ],
             [
              0.3333333333333333,
              "#9c179e"
             ],
             [
              0.4444444444444444,
              "#bd3786"
             ],
             [
              0.5555555555555556,
              "#d8576b"
             ],
             [
              0.6666666666666666,
              "#ed7953"
             ],
             [
              0.7777777777777778,
              "#fb9f3a"
             ],
             [
              0.8888888888888888,
              "#fdca26"
             ],
             [
              1,
              "#f0f921"
             ]
            ],
            "type": "heatmapgl"
           }
          ],
          "histogram": [
           {
            "marker": {
             "pattern": {
              "fillmode": "overlay",
              "size": 10,
              "solidity": 0.2
             }
            },
            "type": "histogram"
           }
          ],
          "histogram2d": [
           {
            "colorbar": {
             "outlinewidth": 0,
             "ticks": ""
            },
            "colorscale": [
             [
              0,
              "#0d0887"
             ],
             [
              0.1111111111111111,
              "#46039f"
             ],
             [
              0.2222222222222222,
              "#7201a8"
             ],
             [
              0.3333333333333333,
              "#9c179e"
             ],
             [
              0.4444444444444444,
              "#bd3786"
             ],
             [
              0.5555555555555556,
              "#d8576b"
             ],
             [
              0.6666666666666666,
              "#ed7953"
             ],
             [
              0.7777777777777778,
              "#fb9f3a"
             ],
             [
              0.8888888888888888,
              "#fdca26"
             ],
             [
              1,
              "#f0f921"
             ]
            ],
            "type": "histogram2d"
           }
          ],
          "histogram2dcontour": [
           {
            "colorbar": {
             "outlinewidth": 0,
             "ticks": ""
            },
            "colorscale": [
             [
              0,
              "#0d0887"
             ],
             [
              0.1111111111111111,
              "#46039f"
             ],
             [
              0.2222222222222222,
              "#7201a8"
             ],
             [
              0.3333333333333333,
              "#9c179e"
             ],
             [
              0.4444444444444444,
              "#bd3786"
             ],
             [
              0.5555555555555556,
              "#d8576b"
             ],
             [
              0.6666666666666666,
              "#ed7953"
             ],
             [
              0.7777777777777778,
              "#fb9f3a"
             ],
             [
              0.8888888888888888,
              "#fdca26"
             ],
             [
              1,
              "#f0f921"
             ]
            ],
            "type": "histogram2dcontour"
           }
          ],
          "mesh3d": [
           {
            "colorbar": {
             "outlinewidth": 0,
             "ticks": ""
            },
            "type": "mesh3d"
           }
          ],
          "parcoords": [
           {
            "line": {
             "colorbar": {
              "outlinewidth": 0,
              "ticks": ""
             }
            },
            "type": "parcoords"
           }
          ],
          "pie": [
           {
            "automargin": true,
            "type": "pie"
           }
          ],
          "scatter": [
           {
            "fillpattern": {
             "fillmode": "overlay",
             "size": 10,
             "solidity": 0.2
            },
            "type": "scatter"
           }
          ],
          "scatter3d": [
           {
            "line": {
             "colorbar": {
              "outlinewidth": 0,
              "ticks": ""
             }
            },
            "marker": {
             "colorbar": {
              "outlinewidth": 0,
              "ticks": ""
             }
            },
            "type": "scatter3d"
           }
          ],
          "scattercarpet": [
           {
            "marker": {
             "colorbar": {
              "outlinewidth": 0,
              "ticks": ""
             }
            },
            "type": "scattercarpet"
           }
          ],
          "scattergeo": [
           {
            "marker": {
             "colorbar": {
              "outlinewidth": 0,
              "ticks": ""
             }
            },
            "type": "scattergeo"
           }
          ],
          "scattergl": [
           {
            "marker": {
             "colorbar": {
              "outlinewidth": 0,
              "ticks": ""
             }
            },
            "type": "scattergl"
           }
          ],
          "scattermapbox": [
           {
            "marker": {
             "colorbar": {
              "outlinewidth": 0,
              "ticks": ""
             }
            },
            "type": "scattermapbox"
           }
          ],
          "scatterpolar": [
           {
            "marker": {
             "colorbar": {
              "outlinewidth": 0,
              "ticks": ""
             }
            },
            "type": "scatterpolar"
           }
          ],
          "scatterpolargl": [
           {
            "marker": {
             "colorbar": {
              "outlinewidth": 0,
              "ticks": ""
             }
            },
            "type": "scatterpolargl"
           }
          ],
          "scatterternary": [
           {
            "marker": {
             "colorbar": {
              "outlinewidth": 0,
              "ticks": ""
             }
            },
            "type": "scatterternary"
           }
          ],
          "surface": [
           {
            "colorbar": {
             "outlinewidth": 0,
             "ticks": ""
            },
            "colorscale": [
             [
              0,
              "#0d0887"
             ],
             [
              0.1111111111111111,
              "#46039f"
             ],
             [
              0.2222222222222222,
              "#7201a8"
             ],
             [
              0.3333333333333333,
              "#9c179e"
             ],
             [
              0.4444444444444444,
              "#bd3786"
             ],
             [
              0.5555555555555556,
              "#d8576b"
             ],
             [
              0.6666666666666666,
              "#ed7953"
             ],
             [
              0.7777777777777778,
              "#fb9f3a"
             ],
             [
              0.8888888888888888,
              "#fdca26"
             ],
             [
              1,
              "#f0f921"
             ]
            ],
            "type": "surface"
           }
          ],
          "table": [
           {
            "cells": {
             "fill": {
              "color": "#EBF0F8"
             },
             "line": {
              "color": "white"
             }
            },
            "header": {
             "fill": {
              "color": "#C8D4E3"
             },
             "line": {
              "color": "white"
             }
            },
            "type": "table"
           }
          ]
         },
         "layout": {
          "annotationdefaults": {
           "arrowcolor": "#2a3f5f",
           "arrowhead": 0,
           "arrowwidth": 1
          },
          "autotypenumbers": "strict",
          "coloraxis": {
           "colorbar": {
            "outlinewidth": 0,
            "ticks": ""
           }
          },
          "colorscale": {
           "diverging": [
            [
             0,
             "#8e0152"
            ],
            [
             0.1,
             "#c51b7d"
            ],
            [
             0.2,
             "#de77ae"
            ],
            [
             0.3,
             "#f1b6da"
            ],
            [
             0.4,
             "#fde0ef"
            ],
            [
             0.5,
             "#f7f7f7"
            ],
            [
             0.6,
             "#e6f5d0"
            ],
            [
             0.7,
             "#b8e186"
            ],
            [
             0.8,
             "#7fbc41"
            ],
            [
             0.9,
             "#4d9221"
            ],
            [
             1,
             "#276419"
            ]
           ],
           "sequential": [
            [
             0,
             "#0d0887"
            ],
            [
             0.1111111111111111,
             "#46039f"
            ],
            [
             0.2222222222222222,
             "#7201a8"
            ],
            [
             0.3333333333333333,
             "#9c179e"
            ],
            [
             0.4444444444444444,
             "#bd3786"
            ],
            [
             0.5555555555555556,
             "#d8576b"
            ],
            [
             0.6666666666666666,
             "#ed7953"
            ],
            [
             0.7777777777777778,
             "#fb9f3a"
            ],
            [
             0.8888888888888888,
             "#fdca26"
            ],
            [
             1,
             "#f0f921"
            ]
           ],
           "sequentialminus": [
            [
             0,
             "#0d0887"
            ],
            [
             0.1111111111111111,
             "#46039f"
            ],
            [
             0.2222222222222222,
             "#7201a8"
            ],
            [
             0.3333333333333333,
             "#9c179e"
            ],
            [
             0.4444444444444444,
             "#bd3786"
            ],
            [
             0.5555555555555556,
             "#d8576b"
            ],
            [
             0.6666666666666666,
             "#ed7953"
            ],
            [
             0.7777777777777778,
             "#fb9f3a"
            ],
            [
             0.8888888888888888,
             "#fdca26"
            ],
            [
             1,
             "#f0f921"
            ]
           ]
          },
          "colorway": [
           "#636efa",
           "#EF553B",
           "#00cc96",
           "#ab63fa",
           "#FFA15A",
           "#19d3f3",
           "#FF6692",
           "#B6E880",
           "#FF97FF",
           "#FECB52"
          ],
          "font": {
           "color": "#2a3f5f"
          },
          "geo": {
           "bgcolor": "white",
           "lakecolor": "white",
           "landcolor": "#E5ECF6",
           "showlakes": true,
           "showland": true,
           "subunitcolor": "white"
          },
          "hoverlabel": {
           "align": "left"
          },
          "hovermode": "closest",
          "mapbox": {
           "style": "light"
          },
          "paper_bgcolor": "white",
          "plot_bgcolor": "#E5ECF6",
          "polar": {
           "angularaxis": {
            "gridcolor": "white",
            "linecolor": "white",
            "ticks": ""
           },
           "bgcolor": "#E5ECF6",
           "radialaxis": {
            "gridcolor": "white",
            "linecolor": "white",
            "ticks": ""
           }
          },
          "scene": {
           "xaxis": {
            "backgroundcolor": "#E5ECF6",
            "gridcolor": "white",
            "gridwidth": 2,
            "linecolor": "white",
            "showbackground": true,
            "ticks": "",
            "zerolinecolor": "white"
           },
           "yaxis": {
            "backgroundcolor": "#E5ECF6",
            "gridcolor": "white",
            "gridwidth": 2,
            "linecolor": "white",
            "showbackground": true,
            "ticks": "",
            "zerolinecolor": "white"
           },
           "zaxis": {
            "backgroundcolor": "#E5ECF6",
            "gridcolor": "white",
            "gridwidth": 2,
            "linecolor": "white",
            "showbackground": true,
            "ticks": "",
            "zerolinecolor": "white"
           }
          },
          "shapedefaults": {
           "line": {
            "color": "#2a3f5f"
           }
          },
          "ternary": {
           "aaxis": {
            "gridcolor": "white",
            "linecolor": "white",
            "ticks": ""
           },
           "baxis": {
            "gridcolor": "white",
            "linecolor": "white",
            "ticks": ""
           },
           "bgcolor": "#E5ECF6",
           "caxis": {
            "gridcolor": "white",
            "linecolor": "white",
            "ticks": ""
           }
          },
          "title": {
           "x": 0.05
          },
          "xaxis": {
           "automargin": true,
           "gridcolor": "white",
           "linecolor": "white",
           "ticks": "",
           "title": {
            "standoff": 15
           },
           "zerolinecolor": "white",
           "zerolinewidth": 2
          },
          "yaxis": {
           "automargin": true,
           "gridcolor": "white",
           "linecolor": "white",
           "ticks": "",
           "title": {
            "standoff": 15
           },
           "zerolinecolor": "white",
           "zerolinewidth": 2
          }
         }
        },
        "title": {
         "text": "Yearly Passenger Trends Comparison: Ireland vs LA"
        },
        "xaxis": {
         "anchor": "y",
         "domain": [
          0,
          1
         ],
         "title": {
          "text": "year"
         }
        },
        "yaxis": {
         "anchor": "x",
         "domain": [
          0,
          1
         ],
         "title": {
          "text": "Total Passengers"
         }
        }
       }
      },
      "text/html": [
       "<div>                            <div id=\"eb22c24d-fa35-4456-9506-1e8d7de3d416\" class=\"plotly-graph-div\" style=\"height:525px; width:100%;\"></div>            <script type=\"text/javascript\">                require([\"plotly\"], function(Plotly) {                    window.PLOTLYENV=window.PLOTLYENV || {};                                    if (document.getElementById(\"eb22c24d-fa35-4456-9506-1e8d7de3d416\")) {                    Plotly.newPlot(                        \"eb22c24d-fa35-4456-9506-1e8d7de3d416\",                        [{\"hovertemplate\":\"Location=Passengers_Ireland<br>year=%{x}<br>Total Passengers=%{y}<extra></extra>\",\"legendgroup\":\"Passengers_Ireland\",\"line\":{\"color\":\"#636efa\",\"dash\":\"solid\"},\"marker\":{\"symbol\":\"circle\"},\"mode\":\"lines\",\"name\":\"Passengers_Ireland\",\"orientation\":\"v\",\"showlegend\":true,\"x\":[2005,2006,2007,2008,2009,2010,2011,2012,2013,2014,2015,2016,2017,2018,2019,2020,2021,2022],\"xaxis\":\"x\",\"y\":[214200.0,223400.00000000003,215100.0,234700.0,222600.0,214200.0,206800.0,194700.0,183700.0,186800.0,200800.0,221800.0,201600.0,217400.0,186900.0,203200.0,213800.0,201100.0],\"yaxis\":\"y\",\"type\":\"scatter\"},{\"hovertemplate\":\"Location=Passengers_LA<br>year=%{x}<br>Total Passengers=%{y}<extra></extra>\",\"legendgroup\":\"Passengers_LA\",\"line\":{\"color\":\"#EF553B\",\"dash\":\"solid\"},\"marker\":{\"symbol\":\"circle\"},\"mode\":\"lines\",\"name\":\"Passengers_LA\",\"orientation\":\"v\",\"showlegend\":true,\"x\":[2005,2006,2007,2008,2009,2010,2011,2012,2013,2014,2015,2016,2017,2018,2019,2020,2021,2022],\"xaxis\":\"x\",\"y\":[305203.37,312192.915,299103.75,282604.215,295350.635,309310.26,318440.605,333328.63,353317.595,374781.525,404608.255,422793.88,437665.885,440340.065,143897.635,240046.87,330025.435,313776.13],\"yaxis\":\"y\",\"type\":\"scatter\"}],                        {\"template\":{\"data\":{\"histogram2dcontour\":[{\"type\":\"histogram2dcontour\",\"colorbar\":{\"outlinewidth\":0,\"ticks\":\"\"},\"colorscale\":[[0.0,\"#0d0887\"],[0.1111111111111111,\"#46039f\"],[0.2222222222222222,\"#7201a8\"],[0.3333333333333333,\"#9c179e\"],[0.4444444444444444,\"#bd3786\"],[0.5555555555555556,\"#d8576b\"],[0.6666666666666666,\"#ed7953\"],[0.7777777777777778,\"#fb9f3a\"],[0.8888888888888888,\"#fdca26\"],[1.0,\"#f0f921\"]]}],\"choropleth\":[{\"type\":\"choropleth\",\"colorbar\":{\"outlinewidth\":0,\"ticks\":\"\"}}],\"histogram2d\":[{\"type\":\"histogram2d\",\"colorbar\":{\"outlinewidth\":0,\"ticks\":\"\"},\"colorscale\":[[0.0,\"#0d0887\"],[0.1111111111111111,\"#46039f\"],[0.2222222222222222,\"#7201a8\"],[0.3333333333333333,\"#9c179e\"],[0.4444444444444444,\"#bd3786\"],[0.5555555555555556,\"#d8576b\"],[0.6666666666666666,\"#ed7953\"],[0.7777777777777778,\"#fb9f3a\"],[0.8888888888888888,\"#fdca26\"],[1.0,\"#f0f921\"]]}],\"heatmap\":[{\"type\":\"heatmap\",\"colorbar\":{\"outlinewidth\":0,\"ticks\":\"\"},\"colorscale\":[[0.0,\"#0d0887\"],[0.1111111111111111,\"#46039f\"],[0.2222222222222222,\"#7201a8\"],[0.3333333333333333,\"#9c179e\"],[0.4444444444444444,\"#bd3786\"],[0.5555555555555556,\"#d8576b\"],[0.6666666666666666,\"#ed7953\"],[0.7777777777777778,\"#fb9f3a\"],[0.8888888888888888,\"#fdca26\"],[1.0,\"#f0f921\"]]}],\"heatmapgl\":[{\"type\":\"heatmapgl\",\"colorbar\":{\"outlinewidth\":0,\"ticks\":\"\"},\"colorscale\":[[0.0,\"#0d0887\"],[0.1111111111111111,\"#46039f\"],[0.2222222222222222,\"#7201a8\"],[0.3333333333333333,\"#9c179e\"],[0.4444444444444444,\"#bd3786\"],[0.5555555555555556,\"#d8576b\"],[0.6666666666666666,\"#ed7953\"],[0.7777777777777778,\"#fb9f3a\"],[0.8888888888888888,\"#fdca26\"],[1.0,\"#f0f921\"]]}],\"contourcarpet\":[{\"type\":\"contourcarpet\",\"colorbar\":{\"outlinewidth\":0,\"ticks\":\"\"}}],\"contour\":[{\"type\":\"contour\",\"colorbar\":{\"outlinewidth\":0,\"ticks\":\"\"},\"colorscale\":[[0.0,\"#0d0887\"],[0.1111111111111111,\"#46039f\"],[0.2222222222222222,\"#7201a8\"],[0.3333333333333333,\"#9c179e\"],[0.4444444444444444,\"#bd3786\"],[0.5555555555555556,\"#d8576b\"],[0.6666666666666666,\"#ed7953\"],[0.7777777777777778,\"#fb9f3a\"],[0.8888888888888888,\"#fdca26\"],[1.0,\"#f0f921\"]]}],\"surface\":[{\"type\":\"surface\",\"colorbar\":{\"outlinewidth\":0,\"ticks\":\"\"},\"colorscale\":[[0.0,\"#0d0887\"],[0.1111111111111111,\"#46039f\"],[0.2222222222222222,\"#7201a8\"],[0.3333333333333333,\"#9c179e\"],[0.4444444444444444,\"#bd3786\"],[0.5555555555555556,\"#d8576b\"],[0.6666666666666666,\"#ed7953\"],[0.7777777777777778,\"#fb9f3a\"],[0.8888888888888888,\"#fdca26\"],[1.0,\"#f0f921\"]]}],\"mesh3d\":[{\"type\":\"mesh3d\",\"colorbar\":{\"outlinewidth\":0,\"ticks\":\"\"}}],\"scatter\":[{\"fillpattern\":{\"fillmode\":\"overlay\",\"size\":10,\"solidity\":0.2},\"type\":\"scatter\"}],\"parcoords\":[{\"type\":\"parcoords\",\"line\":{\"colorbar\":{\"outlinewidth\":0,\"ticks\":\"\"}}}],\"scatterpolargl\":[{\"type\":\"scatterpolargl\",\"marker\":{\"colorbar\":{\"outlinewidth\":0,\"ticks\":\"\"}}}],\"bar\":[{\"error_x\":{\"color\":\"#2a3f5f\"},\"error_y\":{\"color\":\"#2a3f5f\"},\"marker\":{\"line\":{\"color\":\"#E5ECF6\",\"width\":0.5},\"pattern\":{\"fillmode\":\"overlay\",\"size\":10,\"solidity\":0.2}},\"type\":\"bar\"}],\"scattergeo\":[{\"type\":\"scattergeo\",\"marker\":{\"colorbar\":{\"outlinewidth\":0,\"ticks\":\"\"}}}],\"scatterpolar\":[{\"type\":\"scatterpolar\",\"marker\":{\"colorbar\":{\"outlinewidth\":0,\"ticks\":\"\"}}}],\"histogram\":[{\"marker\":{\"pattern\":{\"fillmode\":\"overlay\",\"size\":10,\"solidity\":0.2}},\"type\":\"histogram\"}],\"scattergl\":[{\"type\":\"scattergl\",\"marker\":{\"colorbar\":{\"outlinewidth\":0,\"ticks\":\"\"}}}],\"scatter3d\":[{\"type\":\"scatter3d\",\"line\":{\"colorbar\":{\"outlinewidth\":0,\"ticks\":\"\"}},\"marker\":{\"colorbar\":{\"outlinewidth\":0,\"ticks\":\"\"}}}],\"scattermapbox\":[{\"type\":\"scattermapbox\",\"marker\":{\"colorbar\":{\"outlinewidth\":0,\"ticks\":\"\"}}}],\"scatterternary\":[{\"type\":\"scatterternary\",\"marker\":{\"colorbar\":{\"outlinewidth\":0,\"ticks\":\"\"}}}],\"scattercarpet\":[{\"type\":\"scattercarpet\",\"marker\":{\"colorbar\":{\"outlinewidth\":0,\"ticks\":\"\"}}}],\"carpet\":[{\"aaxis\":{\"endlinecolor\":\"#2a3f5f\",\"gridcolor\":\"white\",\"linecolor\":\"white\",\"minorgridcolor\":\"white\",\"startlinecolor\":\"#2a3f5f\"},\"baxis\":{\"endlinecolor\":\"#2a3f5f\",\"gridcolor\":\"white\",\"linecolor\":\"white\",\"minorgridcolor\":\"white\",\"startlinecolor\":\"#2a3f5f\"},\"type\":\"carpet\"}],\"table\":[{\"cells\":{\"fill\":{\"color\":\"#EBF0F8\"},\"line\":{\"color\":\"white\"}},\"header\":{\"fill\":{\"color\":\"#C8D4E3\"},\"line\":{\"color\":\"white\"}},\"type\":\"table\"}],\"barpolar\":[{\"marker\":{\"line\":{\"color\":\"#E5ECF6\",\"width\":0.5},\"pattern\":{\"fillmode\":\"overlay\",\"size\":10,\"solidity\":0.2}},\"type\":\"barpolar\"}],\"pie\":[{\"automargin\":true,\"type\":\"pie\"}]},\"layout\":{\"autotypenumbers\":\"strict\",\"colorway\":[\"#636efa\",\"#EF553B\",\"#00cc96\",\"#ab63fa\",\"#FFA15A\",\"#19d3f3\",\"#FF6692\",\"#B6E880\",\"#FF97FF\",\"#FECB52\"],\"font\":{\"color\":\"#2a3f5f\"},\"hovermode\":\"closest\",\"hoverlabel\":{\"align\":\"left\"},\"paper_bgcolor\":\"white\",\"plot_bgcolor\":\"#E5ECF6\",\"polar\":{\"bgcolor\":\"#E5ECF6\",\"angularaxis\":{\"gridcolor\":\"white\",\"linecolor\":\"white\",\"ticks\":\"\"},\"radialaxis\":{\"gridcolor\":\"white\",\"linecolor\":\"white\",\"ticks\":\"\"}},\"ternary\":{\"bgcolor\":\"#E5ECF6\",\"aaxis\":{\"gridcolor\":\"white\",\"linecolor\":\"white\",\"ticks\":\"\"},\"baxis\":{\"gridcolor\":\"white\",\"linecolor\":\"white\",\"ticks\":\"\"},\"caxis\":{\"gridcolor\":\"white\",\"linecolor\":\"white\",\"ticks\":\"\"}},\"coloraxis\":{\"colorbar\":{\"outlinewidth\":0,\"ticks\":\"\"}},\"colorscale\":{\"sequential\":[[0.0,\"#0d0887\"],[0.1111111111111111,\"#46039f\"],[0.2222222222222222,\"#7201a8\"],[0.3333333333333333,\"#9c179e\"],[0.4444444444444444,\"#bd3786\"],[0.5555555555555556,\"#d8576b\"],[0.6666666666666666,\"#ed7953\"],[0.7777777777777778,\"#fb9f3a\"],[0.8888888888888888,\"#fdca26\"],[1.0,\"#f0f921\"]],\"sequentialminus\":[[0.0,\"#0d0887\"],[0.1111111111111111,\"#46039f\"],[0.2222222222222222,\"#7201a8\"],[0.3333333333333333,\"#9c179e\"],[0.4444444444444444,\"#bd3786\"],[0.5555555555555556,\"#d8576b\"],[0.6666666666666666,\"#ed7953\"],[0.7777777777777778,\"#fb9f3a\"],[0.8888888888888888,\"#fdca26\"],[1.0,\"#f0f921\"]],\"diverging\":[[0,\"#8e0152\"],[0.1,\"#c51b7d\"],[0.2,\"#de77ae\"],[0.3,\"#f1b6da\"],[0.4,\"#fde0ef\"],[0.5,\"#f7f7f7\"],[0.6,\"#e6f5d0\"],[0.7,\"#b8e186\"],[0.8,\"#7fbc41\"],[0.9,\"#4d9221\"],[1,\"#276419\"]]},\"xaxis\":{\"gridcolor\":\"white\",\"linecolor\":\"white\",\"ticks\":\"\",\"title\":{\"standoff\":15},\"zerolinecolor\":\"white\",\"automargin\":true,\"zerolinewidth\":2},\"yaxis\":{\"gridcolor\":\"white\",\"linecolor\":\"white\",\"ticks\":\"\",\"title\":{\"standoff\":15},\"zerolinecolor\":\"white\",\"automargin\":true,\"zerolinewidth\":2},\"scene\":{\"xaxis\":{\"backgroundcolor\":\"#E5ECF6\",\"gridcolor\":\"white\",\"linecolor\":\"white\",\"showbackground\":true,\"ticks\":\"\",\"zerolinecolor\":\"white\",\"gridwidth\":2},\"yaxis\":{\"backgroundcolor\":\"#E5ECF6\",\"gridcolor\":\"white\",\"linecolor\":\"white\",\"showbackground\":true,\"ticks\":\"\",\"zerolinecolor\":\"white\",\"gridwidth\":2},\"zaxis\":{\"backgroundcolor\":\"#E5ECF6\",\"gridcolor\":\"white\",\"linecolor\":\"white\",\"showbackground\":true,\"ticks\":\"\",\"zerolinecolor\":\"white\",\"gridwidth\":2}},\"shapedefaults\":{\"line\":{\"color\":\"#2a3f5f\"}},\"annotationdefaults\":{\"arrowcolor\":\"#2a3f5f\",\"arrowhead\":0,\"arrowwidth\":1},\"geo\":{\"bgcolor\":\"white\",\"landcolor\":\"#E5ECF6\",\"subunitcolor\":\"white\",\"showland\":true,\"showlakes\":true,\"lakecolor\":\"white\"},\"title\":{\"x\":0.05},\"mapbox\":{\"style\":\"light\"}}},\"xaxis\":{\"anchor\":\"y\",\"domain\":[0.0,1.0],\"title\":{\"text\":\"year\"}},\"yaxis\":{\"anchor\":\"x\",\"domain\":[0.0,1.0],\"title\":{\"text\":\"Total Passengers\"}},\"legend\":{\"title\":{\"text\":\"Location\"},\"tracegroupgap\":0},\"title\":{\"text\":\"Yearly Passenger Trends Comparison: Ireland vs LA\"}},                        {\"responsive\": true}                    ).then(function(){\n",
       "                            \n",
       "var gd = document.getElementById('eb22c24d-fa35-4456-9506-1e8d7de3d416');\n",
       "var x = new MutationObserver(function (mutations, observer) {{\n",
       "        var display = window.getComputedStyle(gd).display;\n",
       "        if (!display || display === 'none') {{\n",
       "            console.log([gd, 'removed!']);\n",
       "            Plotly.purge(gd);\n",
       "            observer.disconnect();\n",
       "        }}\n",
       "}});\n",
       "\n",
       "// Listen for the removal of the full notebook cells\n",
       "var notebookContainer = gd.closest('#notebook-container');\n",
       "if (notebookContainer) {{\n",
       "    x.observe(notebookContainer, {childList: true});\n",
       "}}\n",
       "\n",
       "// Listen for the clearing of the current output cell\n",
       "var outputEl = gd.closest('.output');\n",
       "if (outputEl) {{\n",
       "    x.observe(outputEl, {childList: true});\n",
       "}}\n",
       "\n",
       "                        })                };                });            </script>        </div>"
      ]
     },
     "metadata": {},
     "output_type": "display_data"
    },
    {
     "data": {
      "text/plain": [
       "<Figure size 640x480 with 0 Axes>"
      ]
     },
     "metadata": {},
     "output_type": "display_data"
    }
   ],
   "source": [
    "# Aggregating LA data on a yearly basis\n",
    "la_yearly = la_flights_dataset.groupby('Year')['Passenger_Count'].sum()/200\n",
    "\n",
    "# Aggregating Ireland data on a yearly basis\n",
    "ireland_yearly = ireland_filtered.groupby('Year')['Passenger Millions'].sum()* 1e6\n",
    "\n",
    "# Creating a combined DataFrame for comparison\n",
    "combined_yearly = pd.DataFrame({\n",
    "    'year': ireland_yearly.index,\n",
    "    'Passengers_Ireland': ireland_yearly.values,\n",
    "    'Passengers_LA': la_yearly.values \n",
    "})\n",
    "\n",
    "# Plotly Line Chart for Yearly Comparison\n",
    "fig = px.line(combined_yearly, x='year', y=['Passengers_Ireland', 'Passengers_LA'],\n",
    "              labels={'value': 'Total Passengers', 'variable': 'Location'},\n",
    "              title='Yearly Passenger Trends Comparison: Ireland vs LA')\n",
    "plt.savefig(\"Yearly Passenger Trends Comparison: Ireland vs LA\")\n",
    "fig.show()"
   ]
  },
  {
   "cell_type": "markdown",
   "id": "8ec712c8",
   "metadata": {},
   "source": [
    "The graph provides a clear visual comparison of the passenger air travel trends in Ireland and LA, highlighting the impact of external events such as the pandemic and the subsequent recovery. It's notable that the trend for LA is upward over the years, suggesting increasing passenger traffic, while Ireland's trend is more stable with less variation over time."
   ]
  },
  {
   "cell_type": "code",
   "execution_count": 118,
   "id": "156ece9f",
   "metadata": {},
   "outputs": [
    {
     "data": {
      "image/png": "[encoded data removed]",
      "text/plain": [
       "<Figure size 800x400 with 2 Axes>"
      ]
     },
     "metadata": {},
     "output_type": "display_data"
    }
   ],
   "source": [
    "# Comparing the prevalence of different flight types in both datasets\n",
    "\n",
    "# Summarizing data for flight types for the Ireland dataset\n",
    "ireland_flight_type = ireland_filtered['Flight Type'].value_counts()\n",
    "\n",
    "# The LA dataset has a 'FlightType' column as well\n",
    "la_flight_type = la_flights_dataset['FlightType'].value_counts()\n",
    "\n",
    "# Visualization\n",
    "plt.figure(figsize=(8, 4))\n",
    "\n",
    "# Ireland Flight Types\n",
    "plt.subplot(1, 2, 1)\n",
    "sns.barplot(x=ireland_flight_type.index, y=ireland_flight_type.values)\n",
    "plt.title('Ireland Flight Types')\n",
    "plt.xlabel('Flight Type')\n",
    "plt.ylabel('Count')\n",
    "\n",
    "# LA Flight Types\n",
    "plt.subplot(1, 2, 2)\n",
    "sns.barplot(x=la_flight_type.index, y=la_flight_type.values)\n",
    "plt.title('LA Flight Types')\n",
    "plt.xlabel('Flight Type')\n",
    "plt.ylabel('Count')\n",
    "\n",
    "plt.tight_layout()\n",
    "plt.show()"
   ]
  },
  {
   "cell_type": "markdown",
   "id": "0dbc5247",
   "metadata": {},
   "source": [
    "The bar charts compare the prevalence of different flight types in Ireland and LA.\n",
    "\n",
    "#### Observations:\n",
    "\n",
    "##### Ireland Flight Types:\n",
    "- The Ireland dataset shows a distribution among various flight types. The exact categories and their counts are displayed in the chart.\n",
    "\n",
    "##### LA Flight Types:\n",
    "- The LA dataset also presents a distribution among its flight types, with specific categories as shown in the chart.\n",
    "- This comparison provides insights into the nature of air traffic in both regions, highlighting the diversity of flight operations."
   ]
  },
  {
   "cell_type": "code",
   "execution_count": 125,
   "id": "2cd6e8b5",
   "metadata": {
    "scrolled": false
   },
   "outputs": [
    {
     "data": {
      "image/png": "[encoded data removed]",
      "text/plain": [
       "<Figure size 1000x500 with 2 Axes>"
      ]
     },
     "metadata": {},
     "output_type": "display_data"
    }
   ],
   "source": [
    "# Analyzing the distribution of passenger traffic using boxplots\n",
    "\n",
    "# For the Ireland dataset, we need to convert Passenger Millions to a comparable scale (thousands)\n",
    "ireland_passenger_in_thousands = ireland_filtered['Passenger Millions'] * 1000\n",
    "\n",
    "# Visualization\n",
    "plt.figure(figsize=(10, 5))\n",
    "\n",
    "# Ireland Passenger Traffic\n",
    "plt.subplot(1, 2, 1)\n",
    "sns.boxplot(y=ireland_passenger_in_thousands)\n",
    "plt.title('Ireland Passenger Traffic Distribution')\n",
    "plt.ylabel('Passenger Count (Thousands)')\n",
    "\n",
    "# LA Passenger Traffic\n",
    "plt.subplot(1, 2, 2)\n",
    "sns.boxplot(y=la_flights_dataset['Passenger_Count'])\n",
    "plt.title('LA Passenger Traffic Distribution')\n",
    "plt.ylabel('Passenger Count')\n",
    "\n",
    "plt.tight_layout()\n",
    "plt.show()"
   ]
  },
  {
   "cell_type": "code",
   "execution_count": 138,
   "id": "20b50df7",
   "metadata": {},
   "outputs": [
    {
     "data": {
      "text/html": [
       "<div>\n",
       "<style scoped>\n",
       "    .dataframe tbody tr th:only-of-type {\n",
       "        vertical-align: middle;\n",
       "    }\n",
       "\n",
       "    .dataframe tbody tr th {\n",
       "        vertical-align: top;\n",
       "    }\n",
       "\n",
       "    .dataframe thead th {\n",
       "        text-align: right;\n",
       "    }\n",
       "</style>\n",
       "<table border=\"1\" class=\"dataframe\">\n",
       "  <thead>\n",
       "    <tr style=\"text-align: right;\">\n",
       "      <th></th>\n",
       "      <th>Year</th>\n",
       "      <th>Airports in Ireland</th>\n",
       "      <th>Country</th>\n",
       "      <th>Direction</th>\n",
       "      <th>Flight Type</th>\n",
       "      <th>UNIT</th>\n",
       "      <th>VALUE</th>\n",
       "      <th>Passenger Millions</th>\n",
       "      <th>Domestic_International</th>\n",
       "    </tr>\n",
       "  </thead>\n",
       "  <tbody>\n",
       "    <tr>\n",
       "      <th>55</th>\n",
       "      <td>2005</td>\n",
       "      <td>All main airports</td>\n",
       "      <td>Bulgaria</td>\n",
       "      <td>All directions</td>\n",
       "      <td>Scheduled</td>\n",
       "      <td>Thousand</td>\n",
       "      <td>0.3</td>\n",
       "      <td>0.0003</td>\n",
       "      <td>International</td>\n",
       "    </tr>\n",
       "    <tr>\n",
       "      <th>58</th>\n",
       "      <td>2005</td>\n",
       "      <td>All main airports</td>\n",
       "      <td>Bulgaria</td>\n",
       "      <td>Arrival</td>\n",
       "      <td>Scheduled</td>\n",
       "      <td>Thousand</td>\n",
       "      <td>0.1</td>\n",
       "      <td>0.0001</td>\n",
       "      <td>International</td>\n",
       "    </tr>\n",
       "    <tr>\n",
       "      <th>61</th>\n",
       "      <td>2005</td>\n",
       "      <td>All main airports</td>\n",
       "      <td>Bulgaria</td>\n",
       "      <td>Departure</td>\n",
       "      <td>Scheduled</td>\n",
       "      <td>Thousand</td>\n",
       "      <td>0.1</td>\n",
       "      <td>0.0001</td>\n",
       "      <td>International</td>\n",
       "    </tr>\n",
       "    <tr>\n",
       "      <th>77</th>\n",
       "      <td>2005</td>\n",
       "      <td>All main airports</td>\n",
       "      <td>Czech Republic</td>\n",
       "      <td>Arrival</td>\n",
       "      <td>Unscheduled</td>\n",
       "      <td>Thousand</td>\n",
       "      <td>0.5</td>\n",
       "      <td>0.0005</td>\n",
       "      <td>International</td>\n",
       "    </tr>\n",
       "    <tr>\n",
       "      <th>92</th>\n",
       "      <td>2005</td>\n",
       "      <td>All main airports</td>\n",
       "      <td>Estonia</td>\n",
       "      <td>All directions</td>\n",
       "      <td>Unscheduled</td>\n",
       "      <td>Thousand</td>\n",
       "      <td>0.2</td>\n",
       "      <td>0.0002</td>\n",
       "      <td>International</td>\n",
       "    </tr>\n",
       "  </tbody>\n",
       "</table>\n",
       "</div>"
      ],
      "text/plain": [
       "    Year Airports in Ireland         Country       Direction  Flight Type  \\\n",
       "55  2005   All main airports        Bulgaria  All directions    Scheduled   \n",
       "58  2005   All main airports        Bulgaria         Arrival    Scheduled   \n",
       "61  2005   All main airports        Bulgaria       Departure    Scheduled   \n",
       "77  2005   All main airports  Czech Republic         Arrival  Unscheduled   \n",
       "92  2005   All main airports         Estonia  All directions  Unscheduled   \n",
       "\n",
       "        UNIT  VALUE  Passenger Millions Domestic_International  \n",
       "55  Thousand    0.3              0.0003          International  \n",
       "58  Thousand    0.1              0.0001          International  \n",
       "61  Thousand    0.1              0.0001          International  \n",
       "77  Thousand    0.5              0.0005          International  \n",
       "92  Thousand    0.2              0.0002          International  "
      ]
     },
     "execution_count": 138,
     "metadata": {},
     "output_type": "execute_result"
    }
   ],
   "source": [
    "ireland_filtered.head()"
   ]
  },
  {
   "cell_type": "code",
   "execution_count": 139,
   "id": "d0ad20e6",
   "metadata": {},
   "outputs": [
    {
     "data": {
      "application/vnd.plotly.v1+json": {
       "config": {
        "plotlyServerURL": "https://plot.ly"
       },
       "data": [
        {
         "alignmentgroup": "True",
         "hovertemplate": "variable=Flight Type<br>index=%{x}<br>value=%{y}<extra></extra>",
         "legendgroup": "Flight Type",
         "marker": {
          "color": "#636efa",
          "pattern": {
           "shape": ""
          }
         },
         "name": "Flight Type",
         "offsetgroup": "Flight Type",
         "orientation": "v",
         "showlegend": true,
         "textposition": "auto",
         "type": "bar",
         "x": [
          "Unscheduled",
          "Scheduled",
          "All flights"
         ],
         "xaxis": "x",
         "y": [
          54483,
          45937,
          44346
         ],
         "yaxis": "y"
        }
       ],
       "layout": {
        "barmode": "relative",
        "legend": {
         "title": {
          "text": "variable"
         },
         "tracegroupgap": 0
        },
        "template": {
         "data": {
          "bar": [
           {
            "error_x": {
             "color": "#2a3f5f"
            },
            "error_y": {
             "color": "#2a3f5f"
            },
            "marker": {
             "line": {
              "color": "#E5ECF6",
              "width": 0.5
             },
             "pattern": {
              "fillmode": "overlay",
              "size": 10,
              "solidity": 0.2
             }
            },
            "type": "bar"
           }
          ],
          "barpolar": [
           {
            "marker": {
             "line": {
              "color": "#E5ECF6",
              "width": 0.5
             },
             "pattern": {
              "fillmode": "overlay",
              "size": 10,
              "solidity": 0.2
             }
            },
            "type": "barpolar"
           }
          ],
          "carpet": [
           {
            "aaxis": {
             "endlinecolor": "#2a3f5f",
             "gridcolor": "white",
             "linecolor": "white",
             "minorgridcolor": "white",
             "startlinecolor": "#2a3f5f"
            },
            "baxis": {
             "endlinecolor": "#2a3f5f",
             "gridcolor": "white",
             "linecolor": "white",
             "minorgridcolor": "white",
             "startlinecolor": "#2a3f5f"
            },
            "type": "carpet"
           }
          ],
          "choropleth": [
           {
            "colorbar": {
             "outlinewidth": 0,
             "ticks": ""
            },
            "type": "choropleth"
           }
          ],
          "contour": [
           {
            "colorbar": {
             "outlinewidth": 0,
             "ticks": ""
            },
            "colorscale": [
             [
              0,
              "#0d0887"
             ],
             [
              0.1111111111111111,
              "#46039f"
             ],
             [
              0.2222222222222222,
              "#7201a8"
             ],
             [
              0.3333333333333333,
              "#9c179e"
             ],
             [
              0.4444444444444444,
              "#bd3786"
             ],
             [
              0.5555555555555556,
              "#d8576b"
             ],
             [
              0.6666666666666666,
              "#ed7953"
             ],
             [
              0.7777777777777778,
              "#fb9f3a"
             ],
             [
              0.8888888888888888,
              "#fdca26"
             ],
             [
              1,
              "#f0f921"
             ]
            ],
            "type": "contour"
           }
          ],
          "contourcarpet": [
           {
            "colorbar": {
             "outlinewidth": 0,
             "ticks": ""
            },
            "type": "contourcarpet"
           }
          ],
          "heatmap": [
           {
            "colorbar": {
             "outlinewidth": 0,
             "ticks": ""
            },
            "colorscale": [
             [
              0,
              "#0d0887"
             ],
             [
              0.1111111111111111,
              "#46039f"
             ],
             [
              0.2222222222222222,
              "#7201a8"
             ],
             [
              0.3333333333333333,
              "#9c179e"
             ],
             [
              0.4444444444444444,
              "#bd3786"
             ],
             [
              0.5555555555555556,
              "#d8576b"
             ],
             [
              0.6666666666666666,
              "#ed7953"
             ],
             [
              0.7777777777777778,
              "#fb9f3a"
             ],
             [
              0.8888888888888888,
              "#fdca26"
             ],
             [
              1,
              "#f0f921"
             ]
            ],
            "type": "heatmap"
           }
          ],
          "heatmapgl": [
           {
            "colorbar": {
             "outlinewidth": 0,
             "ticks": ""
            },
            "colorscale": [
             [
              0,
              "#0d0887"
             ],
             [
              0.1111111111111111,
              "#46039f"
             ],
             [
              0.2222222222222222,
              "#7201a8"
             ],
             [
              0.3333333333333333,
              "#9c179e"
             ],
             [
              0.4444444444444444,
              "#bd3786"
             ],
             [
              0.5555555555555556,
              "#d8576b"
             ],
             [
              0.6666666666666666,
              "#ed7953"
             ],
             [
              0.7777777777777778,
              "#fb9f3a"
             ],
             [
              0.8888888888888888,
              "#fdca26"
             ],
             [
              1,
              "#f0f921"
             ]
            ],
            "type": "heatmapgl"
           }
          ],
          "histogram": [
           {
            "marker": {
             "pattern": {
              "fillmode": "overlay",
              "size": 10,
              "solidity": 0.2
             }
            },
            "type": "histogram"
           }
          ],
          "histogram2d": [
           {
            "colorbar": {
             "outlinewidth": 0,
             "ticks": ""
            },
            "colorscale": [
             [
              0,
              "#0d0887"
             ],
             [
              0.1111111111111111,
              "#46039f"
             ],
             [
              0.2222222222222222,
              "#7201a8"
             ],
             [
              0.3333333333333333,
              "#9c179e"
             ],
             [
              0.4444444444444444,
              "#bd3786"
             ],
             [
              0.5555555555555556,
              "#d8576b"
             ],
             [
              0.6666666666666666,
              "#ed7953"
             ],
             [
              0.7777777777777778,
              "#fb9f3a"
             ],
             [
              0.8888888888888888,
              "#fdca26"
             ],
             [
              1,
              "#f0f921"
             ]
            ],
            "type": "histogram2d"
           }
          ],
          "histogram2dcontour": [
           {
            "colorbar": {
             "outlinewidth": 0,
             "ticks": ""
            },
            "colorscale": [
             [
              0,
              "#0d0887"
             ],
             [
              0.1111111111111111,
              "#46039f"
             ],
             [
              0.2222222222222222,
              "#7201a8"
             ],
             [
              0.3333333333333333,
              "#9c179e"
             ],
             [
              0.4444444444444444,
              "#bd3786"
             ],
             [
              0.5555555555555556,
              "#d8576b"
             ],
             [
              0.6666666666666666,
              "#ed7953"
             ],
             [
              0.7777777777777778,
              "#fb9f3a"
             ],
             [
              0.8888888888888888,
              "#fdca26"
             ],
             [
              1,
              "#f0f921"
             ]
            ],
            "type": "histogram2dcontour"
           }
          ],
          "mesh3d": [
           {
            "colorbar": {
             "outlinewidth": 0,
             "ticks": ""
            },
            "type": "mesh3d"
           }
          ],
          "parcoords": [
           {
            "line": {
             "colorbar": {
              "outlinewidth": 0,
              "ticks": ""
             }
            },
            "type": "parcoords"
           }
          ],
          "pie": [
           {
            "automargin": true,
            "type": "pie"
           }
          ],
          "scatter": [
           {
            "fillpattern": {
             "fillmode": "overlay",
             "size": 10,
             "solidity": 0.2
            },
            "type": "scatter"
           }
          ],
          "scatter3d": [
           {
            "line": {
             "colorbar": {
              "outlinewidth": 0,
              "ticks": ""
             }
            },
            "marker": {
             "colorbar": {
              "outlinewidth": 0,
              "ticks": ""
             }
            },
            "type": "scatter3d"
           }
          ],
          "scattercarpet": [
           {
            "marker": {
             "colorbar": {
              "outlinewidth": 0,
              "ticks": ""
             }
            },
            "type": "scattercarpet"
           }
          ],
          "scattergeo": [
           {
            "marker": {
             "colorbar": {
              "outlinewidth": 0,
              "ticks": ""
             }
            },
            "type": "scattergeo"
           }
          ],
          "scattergl": [
           {
            "marker": {
             "colorbar": {
              "outlinewidth": 0,
              "ticks": ""
             }
            },
            "type": "scattergl"
           }
          ],
          "scattermapbox": [
           {
            "marker": {
             "colorbar": {
              "outlinewidth": 0,
              "ticks": ""
             }
            },
            "type": "scattermapbox"
           }
          ],
          "scatterpolar": [
           {
            "marker": {
             "colorbar": {
              "outlinewidth": 0,
              "ticks": ""
             }
            },
            "type": "scatterpolar"
           }
          ],
          "scatterpolargl": [
           {
            "marker": {
             "colorbar": {
              "outlinewidth": 0,
              "ticks": ""
             }
            },
            "type": "scatterpolargl"
           }
          ],
          "scatterternary": [
           {
            "marker": {
             "colorbar": {
              "outlinewidth": 0,
              "ticks": ""
             }
            },
            "type": "scatterternary"
           }
          ],
          "surface": [
           {
            "colorbar": {
             "outlinewidth": 0,
             "ticks": ""
            },
            "colorscale": [
             [
              0,
              "#0d0887"
             ],
             [
              0.1111111111111111,
              "#46039f"
             ],
             [
              0.2222222222222222,
              "#7201a8"
             ],
             [
              0.3333333333333333,
              "#9c179e"
             ],
             [
              0.4444444444444444,
              "#bd3786"
             ],
             [
              0.5555555555555556,
              "#d8576b"
             ],
             [
              0.6666666666666666,
              "#ed7953"
             ],
             [
              0.7777777777777778,
              "#fb9f3a"
             ],
             [
              0.8888888888888888,
              "#fdca26"
             ],
             [
              1,
              "#f0f921"
             ]
            ],
            "type": "surface"
           }
          ],
          "table": [
           {
            "cells": {
             "fill": {
              "color": "#EBF0F8"
             },
             "line": {
              "color": "white"
             }
            },
            "header": {
             "fill": {
              "color": "#C8D4E3"
             },
             "line": {
              "color": "white"
             }
            },
            "type": "table"
           }
          ]
         },
         "layout": {
          "annotationdefaults": {
           "arrowcolor": "#2a3f5f",
           "arrowhead": 0,
           "arrowwidth": 1
          },
          "autotypenumbers": "strict",
          "coloraxis": {
           "colorbar": {
            "outlinewidth": 0,
            "ticks": ""
           }
          },
          "colorscale": {
           "diverging": [
            [
             0,
             "#8e0152"
            ],
            [
             0.1,
             "#c51b7d"
            ],
            [
             0.2,
             "#de77ae"
            ],
            [
             0.3,
             "#f1b6da"
            ],
            [
             0.4,
             "#fde0ef"
            ],
            [
             0.5,
             "#f7f7f7"
            ],
            [
             0.6,
             "#e6f5d0"
            ],
            [
             0.7,
             "#b8e186"
            ],
            [
             0.8,
             "#7fbc41"
            ],
            [
             0.9,
             "#4d9221"
            ],
            [
             1,
             "#276419"
            ]
           ],
           "sequential": [
            [
             0,
             "#0d0887"
            ],
            [
             0.1111111111111111,
             "#46039f"
            ],
            [
             0.2222222222222222,
             "#7201a8"
            ],
            [
             0.3333333333333333,
             "#9c179e"
            ],
            [
             0.4444444444444444,
             "#bd3786"
            ],
            [
             0.5555555555555556,
             "#d8576b"
            ],
            [
             0.6666666666666666,
             "#ed7953"
            ],
            [
             0.7777777777777778,
             "#fb9f3a"
            ],
            [
             0.8888888888888888,
             "#fdca26"
            ],
            [
             1,
             "#f0f921"
            ]
           ],
           "sequentialminus": [
            [
             0,
             "#0d0887"
            ],
            [
             0.1111111111111111,
             "#46039f"
            ],
            [
             0.2222222222222222,
             "#7201a8"
            ],
            [
             0.3333333333333333,
             "#9c179e"
            ],
            [
             0.4444444444444444,
             "#bd3786"
            ],
            [
             0.5555555555555556,
             "#d8576b"
            ],
            [
             0.6666666666666666,
             "#ed7953"
            ],
            [
             0.7777777777777778,
             "#fb9f3a"
            ],
            [
             0.8888888888888888,
             "#fdca26"
            ],
            [
             1,
             "#f0f921"
            ]
           ]
          },
          "colorway": [
           "#636efa",
           "#EF553B",
           "#00cc96",
           "#ab63fa",
           "#FFA15A",
           "#19d3f3",
           "#FF6692",
           "#B6E880",
           "#FF97FF",
           "#FECB52"
          ],
          "font": {
           "color": "#2a3f5f"
          },
          "geo": {
           "bgcolor": "white",
           "lakecolor": "white",
           "landcolor": "#E5ECF6",
           "showlakes": true,
           "showland": true,
           "subunitcolor": "white"
          },
          "hoverlabel": {
           "align": "left"
          },
          "hovermode": "closest",
          "mapbox": {
           "style": "light"
          },
          "paper_bgcolor": "white",
          "plot_bgcolor": "#E5ECF6",
          "polar": {
           "angularaxis": {
            "gridcolor": "white",
            "linecolor": "white",
            "ticks": ""
           },
           "bgcolor": "#E5ECF6",
           "radialaxis": {
            "gridcolor": "white",
            "linecolor": "white",
            "ticks": ""
           }
          },
          "scene": {
           "xaxis": {
            "backgroundcolor": "#E5ECF6",
            "gridcolor": "white",
            "gridwidth": 2,
            "linecolor": "white",
            "showbackground": true,
            "ticks": "",
            "zerolinecolor": "white"
           },
           "yaxis": {
            "backgroundcolor": "#E5ECF6",
            "gridcolor": "white",
            "gridwidth": 2,
            "linecolor": "white",
            "showbackground": true,
            "ticks": "",
            "zerolinecolor": "white"
           },
           "zaxis": {
            "backgroundcolor": "#E5ECF6",
            "gridcolor": "white",
            "gridwidth": 2,
            "linecolor": "white",
            "showbackground": true,
            "ticks": "",
            "zerolinecolor": "white"
           }
          },
          "shapedefaults": {
           "line": {
            "color": "#2a3f5f"
           }
          },
          "ternary": {
           "aaxis": {
            "gridcolor": "white",
            "linecolor": "white",
            "ticks": ""
           },
           "baxis": {
            "gridcolor": "white",
            "linecolor": "white",
            "ticks": ""
           },
           "bgcolor": "#E5ECF6",
           "caxis": {
            "gridcolor": "white",
            "linecolor": "white",
            "ticks": ""
           }
          },
          "title": {
           "x": 0.05
          },
          "xaxis": {
           "automargin": true,
           "gridcolor": "white",
           "linecolor": "white",
           "ticks": "",
           "title": {
            "standoff": 15
           },
           "zerolinecolor": "white",
           "zerolinewidth": 2
          },
          "yaxis": {
           "automargin": true,
           "gridcolor": "white",
           "linecolor": "white",
           "ticks": "",
           "title": {
            "standoff": 15
           },
           "zerolinecolor": "white",
           "zerolinewidth": 2
          }
         }
        },
        "title": {
         "text": "Flight Type Distribution in Ireland"
        },
        "xaxis": {
         "anchor": "y",
         "domain": [
          0,
          1
         ],
         "title": {
          "text": "index"
         }
        },
        "yaxis": {
         "anchor": "x",
         "domain": [
          0,
          1
         ],
         "title": {
          "text": "value"
         }
        }
       }
      },
      "text/html": [
       "<div>                            <div id=\"fee39602-a9c4-469d-a086-4e5962299e2d\" class=\"plotly-graph-div\" style=\"height:525px; width:100%;\"></div>            <script type=\"text/javascript\">                require([\"plotly\"], function(Plotly) {                    window.PLOTLYENV=window.PLOTLYENV || {};                                    if (document.getElementById(\"fee39602-a9c4-469d-a086-4e5962299e2d\")) {                    Plotly.newPlot(                        \"fee39602-a9c4-469d-a086-4e5962299e2d\",                        [{\"alignmentgroup\":\"True\",\"hovertemplate\":\"variable=Flight Type<br>index=%{x}<br>value=%{y}<extra></extra>\",\"legendgroup\":\"Flight Type\",\"marker\":{\"color\":\"#636efa\",\"pattern\":{\"shape\":\"\"}},\"name\":\"Flight Type\",\"offsetgroup\":\"Flight Type\",\"orientation\":\"v\",\"showlegend\":true,\"textposition\":\"auto\",\"x\":[\"Unscheduled\",\"Scheduled\",\"All flights\"],\"xaxis\":\"x\",\"y\":[54483,45937,44346],\"yaxis\":\"y\",\"type\":\"bar\"}],                        {\"template\":{\"data\":{\"histogram2dcontour\":[{\"type\":\"histogram2dcontour\",\"colorbar\":{\"outlinewidth\":0,\"ticks\":\"\"},\"colorscale\":[[0.0,\"#0d0887\"],[0.1111111111111111,\"#46039f\"],[0.2222222222222222,\"#7201a8\"],[0.3333333333333333,\"#9c179e\"],[0.4444444444444444,\"#bd3786\"],[0.5555555555555556,\"#d8576b\"],[0.6666666666666666,\"#ed7953\"],[0.7777777777777778,\"#fb9f3a\"],[0.8888888888888888,\"#fdca26\"],[1.0,\"#f0f921\"]]}],\"choropleth\":[{\"type\":\"choropleth\",\"colorbar\":{\"outlinewidth\":0,\"ticks\":\"\"}}],\"histogram2d\":[{\"type\":\"histogram2d\",\"colorbar\":{\"outlinewidth\":0,\"ticks\":\"\"},\"colorscale\":[[0.0,\"#0d0887\"],[0.1111111111111111,\"#46039f\"],[0.2222222222222222,\"#7201a8\"],[0.3333333333333333,\"#9c179e\"],[0.4444444444444444,\"#bd3786\"],[0.5555555555555556,\"#d8576b\"],[0.6666666666666666,\"#ed7953\"],[0.7777777777777778,\"#fb9f3a\"],[0.8888888888888888,\"#fdca26\"],[1.0,\"#f0f921\"]]}],\"heatmap\":[{\"type\":\"heatmap\",\"colorbar\":{\"outlinewidth\":0,\"ticks\":\"\"},\"colorscale\":[[0.0,\"#0d0887\"],[0.1111111111111111,\"#46039f\"],[0.2222222222222222,\"#7201a8\"],[0.3333333333333333,\"#9c179e\"],[0.4444444444444444,\"#bd3786\"],[0.5555555555555556,\"#d8576b\"],[0.6666666666666666,\"#ed7953\"],[0.7777777777777778,\"#fb9f3a\"],[0.8888888888888888,\"#fdca26\"],[1.0,\"#f0f921\"]]}],\"heatmapgl\":[{\"type\":\"heatmapgl\",\"colorbar\":{\"outlinewidth\":0,\"ticks\":\"\"},\"colorscale\":[[0.0,\"#0d0887\"],[0.1111111111111111,\"#46039f\"],[0.2222222222222222,\"#7201a8\"],[0.3333333333333333,\"#9c179e\"],[0.4444444444444444,\"#bd3786\"],[0.5555555555555556,\"#d8576b\"],[0.6666666666666666,\"#ed7953\"],[0.7777777777777778,\"#fb9f3a\"],[0.8888888888888888,\"#fdca26\"],[1.0,\"#f0f921\"]]}],\"contourcarpet\":[{\"type\":\"contourcarpet\",\"colorbar\":{\"outlinewidth\":0,\"ticks\":\"\"}}],\"contour\":[{\"type\":\"contour\",\"colorbar\":{\"outlinewidth\":0,\"ticks\":\"\"},\"colorscale\":[[0.0,\"#0d0887\"],[0.1111111111111111,\"#46039f\"],[0.2222222222222222,\"#7201a8\"],[0.3333333333333333,\"#9c179e\"],[0.4444444444444444,\"#bd3786\"],[0.5555555555555556,\"#d8576b\"],[0.6666666666666666,\"#ed7953\"],[0.7777777777777778,\"#fb9f3a\"],[0.8888888888888888,\"#fdca26\"],[1.0,\"#f0f921\"]]}],\"surface\":[{\"type\":\"surface\",\"colorbar\":{\"outlinewidth\":0,\"ticks\":\"\"},\"colorscale\":[[0.0,\"#0d0887\"],[0.1111111111111111,\"#46039f\"],[0.2222222222222222,\"#7201a8\"],[0.3333333333333333,\"#9c179e\"],[0.4444444444444444,\"#bd3786\"],[0.5555555555555556,\"#d8576b\"],[0.6666666666666666,\"#ed7953\"],[0.7777777777777778,\"#fb9f3a\"],[0.8888888888888888,\"#fdca26\"],[1.0,\"#f0f921\"]]}],\"mesh3d\":[{\"type\":\"mesh3d\",\"colorbar\":{\"outlinewidth\":0,\"ticks\":\"\"}}],\"scatter\":[{\"fillpattern\":{\"fillmode\":\"overlay\",\"size\":10,\"solidity\":0.2},\"type\":\"scatter\"}],\"parcoords\":[{\"type\":\"parcoords\",\"line\":{\"colorbar\":{\"outlinewidth\":0,\"ticks\":\"\"}}}],\"scatterpolargl\":[{\"type\":\"scatterpolargl\",\"marker\":{\"colorbar\":{\"outlinewidth\":0,\"ticks\":\"\"}}}],\"bar\":[{\"error_x\":{\"color\":\"#2a3f5f\"},\"error_y\":{\"color\":\"#2a3f5f\"},\"marker\":{\"line\":{\"color\":\"#E5ECF6\",\"width\":0.5},\"pattern\":{\"fillmode\":\"overlay\",\"size\":10,\"solidity\":0.2}},\"type\":\"bar\"}],\"scattergeo\":[{\"type\":\"scattergeo\",\"marker\":{\"colorbar\":{\"outlinewidth\":0,\"ticks\":\"\"}}}],\"scatterpolar\":[{\"type\":\"scatterpolar\",\"marker\":{\"colorbar\":{\"outlinewidth\":0,\"ticks\":\"\"}}}],\"histogram\":[{\"marker\":{\"pattern\":{\"fillmode\":\"overlay\",\"size\":10,\"solidity\":0.2}},\"type\":\"histogram\"}],\"scattergl\":[{\"type\":\"scattergl\",\"marker\":{\"colorbar\":{\"outlinewidth\":0,\"ticks\":\"\"}}}],\"scatter3d\":[{\"type\":\"scatter3d\",\"line\":{\"colorbar\":{\"outlinewidth\":0,\"ticks\":\"\"}},\"marker\":{\"colorbar\":{\"outlinewidth\":0,\"ticks\":\"\"}}}],\"scattermapbox\":[{\"type\":\"scattermapbox\",\"marker\":{\"colorbar\":{\"outlinewidth\":0,\"ticks\":\"\"}}}],\"scatterternary\":[{\"type\":\"scatterternary\",\"marker\":{\"colorbar\":{\"outlinewidth\":0,\"ticks\":\"\"}}}],\"scattercarpet\":[{\"type\":\"scattercarpet\",\"marker\":{\"colorbar\":{\"outlinewidth\":0,\"ticks\":\"\"}}}],\"carpet\":[{\"aaxis\":{\"endlinecolor\":\"#2a3f5f\",\"gridcolor\":\"white\",\"linecolor\":\"white\",\"minorgridcolor\":\"white\",\"startlinecolor\":\"#2a3f5f\"},\"baxis\":{\"endlinecolor\":\"#2a3f5f\",\"gridcolor\":\"white\",\"linecolor\":\"white\",\"minorgridcolor\":\"white\",\"startlinecolor\":\"#2a3f5f\"},\"type\":\"carpet\"}],\"table\":[{\"cells\":{\"fill\":{\"color\":\"#EBF0F8\"},\"line\":{\"color\":\"white\"}},\"header\":{\"fill\":{\"color\":\"#C8D4E3\"},\"line\":{\"color\":\"white\"}},\"type\":\"table\"}],\"barpolar\":[{\"marker\":{\"line\":{\"color\":\"#E5ECF6\",\"width\":0.5},\"pattern\":{\"fillmode\":\"overlay\",\"size\":10,\"solidity\":0.2}},\"type\":\"barpolar\"}],\"pie\":[{\"automargin\":true,\"type\":\"pie\"}]},\"layout\":{\"autotypenumbers\":\"strict\",\"colorway\":[\"#636efa\",\"#EF553B\",\"#00cc96\",\"#ab63fa\",\"#FFA15A\",\"#19d3f3\",\"#FF6692\",\"#B6E880\",\"#FF97FF\",\"#FECB52\"],\"font\":{\"color\":\"#2a3f5f\"},\"hovermode\":\"closest\",\"hoverlabel\":{\"align\":\"left\"},\"paper_bgcolor\":\"white\",\"plot_bgcolor\":\"#E5ECF6\",\"polar\":{\"bgcolor\":\"#E5ECF6\",\"angularaxis\":{\"gridcolor\":\"white\",\"linecolor\":\"white\",\"ticks\":\"\"},\"radialaxis\":{\"gridcolor\":\"white\",\"linecolor\":\"white\",\"ticks\":\"\"}},\"ternary\":{\"bgcolor\":\"#E5ECF6\",\"aaxis\":{\"gridcolor\":\"white\",\"linecolor\":\"white\",\"ticks\":\"\"},\"baxis\":{\"gridcolor\":\"white\",\"linecolor\":\"white\",\"ticks\":\"\"},\"caxis\":{\"gridcolor\":\"white\",\"linecolor\":\"white\",\"ticks\":\"\"}},\"coloraxis\":{\"colorbar\":{\"outlinewidth\":0,\"ticks\":\"\"}},\"colorscale\":{\"sequential\":[[0.0,\"#0d0887\"],[0.1111111111111111,\"#46039f\"],[0.2222222222222222,\"#7201a8\"],[0.3333333333333333,\"#9c179e\"],[0.4444444444444444,\"#bd3786\"],[0.5555555555555556,\"#d8576b\"],[0.6666666666666666,\"#ed7953\"],[0.7777777777777778,\"#fb9f3a\"],[0.8888888888888888,\"#fdca26\"],[1.0,\"#f0f921\"]],\"sequentialminus\":[[0.0,\"#0d0887\"],[0.1111111111111111,\"#46039f\"],[0.2222222222222222,\"#7201a8\"],[0.3333333333333333,\"#9c179e\"],[0.4444444444444444,\"#bd3786\"],[0.5555555555555556,\"#d8576b\"],[0.6666666666666666,\"#ed7953\"],[0.7777777777777778,\"#fb9f3a\"],[0.8888888888888888,\"#fdca26\"],[1.0,\"#f0f921\"]],\"diverging\":[[0,\"#8e0152\"],[0.1,\"#c51b7d\"],[0.2,\"#de77ae\"],[0.3,\"#f1b6da\"],[0.4,\"#fde0ef\"],[0.5,\"#f7f7f7\"],[0.6,\"#e6f5d0\"],[0.7,\"#b8e186\"],[0.8,\"#7fbc41\"],[0.9,\"#4d9221\"],[1,\"#276419\"]]},\"xaxis\":{\"gridcolor\":\"white\",\"linecolor\":\"white\",\"ticks\":\"\",\"title\":{\"standoff\":15},\"zerolinecolor\":\"white\",\"automargin\":true,\"zerolinewidth\":2},\"yaxis\":{\"gridcolor\":\"white\",\"linecolor\":\"white\",\"ticks\":\"\",\"title\":{\"standoff\":15},\"zerolinecolor\":\"white\",\"automargin\":true,\"zerolinewidth\":2},\"scene\":{\"xaxis\":{\"backgroundcolor\":\"#E5ECF6\",\"gridcolor\":\"white\",\"linecolor\":\"white\",\"showbackground\":true,\"ticks\":\"\",\"zerolinecolor\":\"white\",\"gridwidth\":2},\"yaxis\":{\"backgroundcolor\":\"#E5ECF6\",\"gridcolor\":\"white\",\"linecolor\":\"white\",\"showbackground\":true,\"ticks\":\"\",\"zerolinecolor\":\"white\",\"gridwidth\":2},\"zaxis\":{\"backgroundcolor\":\"#E5ECF6\",\"gridcolor\":\"white\",\"linecolor\":\"white\",\"showbackground\":true,\"ticks\":\"\",\"zerolinecolor\":\"white\",\"gridwidth\":2}},\"shapedefaults\":{\"line\":{\"color\":\"#2a3f5f\"}},\"annotationdefaults\":{\"arrowcolor\":\"#2a3f5f\",\"arrowhead\":0,\"arrowwidth\":1},\"geo\":{\"bgcolor\":\"white\",\"landcolor\":\"#E5ECF6\",\"subunitcolor\":\"white\",\"showland\":true,\"showlakes\":true,\"lakecolor\":\"white\"},\"title\":{\"x\":0.05},\"mapbox\":{\"style\":\"light\"}}},\"xaxis\":{\"anchor\":\"y\",\"domain\":[0.0,1.0],\"title\":{\"text\":\"index\"}},\"yaxis\":{\"anchor\":\"x\",\"domain\":[0.0,1.0],\"title\":{\"text\":\"value\"}},\"legend\":{\"title\":{\"text\":\"variable\"},\"tracegroupgap\":0},\"title\":{\"text\":\"Flight Type Distribution in Ireland\"},\"barmode\":\"relative\"},                        {\"responsive\": true}                    ).then(function(){\n",
       "                            \n",
       "var gd = document.getElementById('fee39602-a9c4-469d-a086-4e5962299e2d');\n",
       "var x = new MutationObserver(function (mutations, observer) {{\n",
       "        var display = window.getComputedStyle(gd).display;\n",
       "        if (!display || display === 'none') {{\n",
       "            console.log([gd, 'removed!']);\n",
       "            Plotly.purge(gd);\n",
       "            observer.disconnect();\n",
       "        }}\n",
       "}});\n",
       "\n",
       "// Listen for the removal of the full notebook cells\n",
       "var notebookContainer = gd.closest('#notebook-container');\n",
       "if (notebookContainer) {{\n",
       "    x.observe(notebookContainer, {childList: true});\n",
       "}}\n",
       "\n",
       "// Listen for the clearing of the current output cell\n",
       "var outputEl = gd.closest('.output');\n",
       "if (outputEl) {{\n",
       "    x.observe(outputEl, {childList: true});\n",
       "}}\n",
       "\n",
       "                        })                };                });            </script>        </div>"
      ]
     },
     "metadata": {},
     "output_type": "display_data"
    }
   ],
   "source": [
    "import plotly.express as px\n",
    "\n",
    "# Data Preparation\n",
    "ireland_yearly = ireland_filtered.groupby('Year')['Passenger Millions'].sum() * 1e6\n",
    "la_yearly = la_flights_dataset.groupby('Year')['Passenger_Count'].sum()\n",
    "\n",
    "combined_yearly = pd.DataFrame({\n",
    "    'Year': ireland_yearly.index,\n",
    "    'Passengers_Ireland': ireland_yearly.values,\n",
    "    'Passengers_LA': la_yearly.values\n",
    "})\n",
    "\n",
    "flight_types_ireland = ireland_filtered['Flight Type'].value_counts()\n",
    "fig = px.bar(flight_types_ireland, title='Flight Type Distribution in Ireland')\n",
    "fig.show()"
   ]
  },
  {
   "cell_type": "code",
   "execution_count": null,
   "id": "4219cf55",
   "metadata": {},
   "outputs": [],
   "source": [
    "from scipy import stats\n",
    "import numpy as np\n",
    "\n",
    "# Focus on top 5 countries for confidence interval analysis\n",
    "top_countries = ireland_data['Country'].value_counts().head(5).index\n",
    "\n",
    "# Confidence Interval calculation\n",
    "confidence_intervals = {}\n",
    "confidence_level = 0.95\n",
    "z_score = stats.norm.ppf(1 - (1 - confidence_level) / 2)\n",
    "\n",
    "for country in top_countries:\n",
    "    # Filter data for each country\n",
    "    country_data = ireland_data[ireland_data['Country'] == country]['Passenger Millions']\n",
    "    \n",
    "    # Calculate mean and standard error\n",
    "    mean = np.mean(country_data)\n",
    "    std_error = stats.sem(country_data, nan_policy='omit') # standard error of the mean\n",
    "    \n",
    "    # Confidence interval calculation\n",
    "    margin_of_error = z_score * std_error\n",
    "    confidence_interval = (mean - margin_of_error, mean + margin_of_error)\n",
    "    confidence_intervals[country] = confidence_interval\n",
    "\n",
    "confidence_intervals"
   ]
  },
  {
   "cell_type": "code",
   "execution_count": null,
   "id": "1c7c4d63",
   "metadata": {},
   "outputs": [],
   "source": [
    "import statsmodels.api as sm\n",
    "from statsmodels.formula.api import ols\n",
    "\n",
    "# ANOVA for yearly trends in flight traffic\n",
    "anova_model = ols('VALUE ~ C(Year)', data=ireland_data).fit()\n",
    "anova_results = sm.stats.anova_lm(anova_model, typ=2)\n",
    "\n",
    "anova_results"
   ]
  },
  {
   "cell_type": "code",
   "execution_count": null,
   "id": "ef135357",
   "metadata": {},
   "outputs": [],
   "source": [
    "from scipy.stats import chi2_contingency\n",
    "\n",
    "# Chi-Squared Test: Association between 'Flight Type' and 'Direction'\n",
    "# Creating a contingency table\n",
    "contingency_table = pd.crosstab(ireland_data['Flight Type'], ireland_data['Direction'])\n",
    "\n",
    "# Performing the Chi-Squared test\n",
    "chi2, p, dof, expected = chi2_contingency(contingency_table)\n",
    "\n",
    "chi2_test_results = {\n",
    "    'Chi-Square Statistic': chi2,\n",
    "    'p-value': p,\n",
    "    'Degrees of Freedom': dof,\n",
    "    'Expected Frequencies': expected\n",
    "}\n",
    "\n",
    "chi2_test_results"
   ]
  },
  {
   "cell_type": "code",
   "execution_count": null,
   "id": "29938c34",
   "metadata": {},
   "outputs": [],
   "source": [
    "# Independent Samples T-Test: Compare mean number of passengers between 2010 and 2015\n",
    "data_2010 = ireland_data[ireland_data['Year'] == 2010]['VALUE']\n",
    "data_2015 = ireland_data[ireland_data['Year'] == 2015]['VALUE']\n",
    "\n",
    "# Perform T-Test\n",
    "t_stat, p_value = stats.ttest_ind(data_2010, data_2015, equal_var=False)  # Assume unequal variance\n",
    "\n",
    "t_test_results = {\n",
    "    'T-Statistic': t_stat,\n",
    "    'p-value': p_value\n",
    "}\n",
    "\n",
    "t_test_results"
   ]
  },
  {
   "cell_type": "code",
   "execution_count": null,
   "id": "ceaf7182",
   "metadata": {},
   "outputs": [],
   "source": [
    "# Focus on Domestic and International flights for confidence interval analysis\n",
    "flight_types = ['Domestic', 'International']\n",
    "\n",
    "# Confidence Interval calculation\n",
    "confidence_intervals = {}\n",
    "for flight_type in flight_types:\n",
    "    # Filter data for each flight type\n",
    "    flight_data = la_data[la_data['Domestic_International'] == flight_type]['Passenger_Count']\n",
    "    \n",
    "    # Calculate mean and standard error\n",
    "    mean = np.mean(flight_data)\n",
    "    std_error = stats.sem(flight_data, nan_policy='omit')  # standard error of the mean\n",
    "    \n",
    "    # Confidence interval calculation\n",
    "    margin_of_error = z_score * std_error\n",
    "    confidence_interval = (mean - margin_of_error, mean + margin_of_error)\n",
    "    confidence_intervals[flight_type] = confidence_interval\n",
    "\n",
    "confidence_intervals"
   ]
  },
  {
   "cell_type": "code",
   "execution_count": null,
   "id": "93ee7695",
   "metadata": {},
   "outputs": [],
   "source": [
    "# ANOVA for differences in passenger count among different flight types\n",
    "anova_model_la = ols('Passenger_Count ~ C(FlightType)', data=la_data).fit()\n",
    "anova_results_la = sm.stats.anova_lm(anova_model_la, typ=2)\n",
    "\n",
    "anova_results_la"
   ]
  },
  {
   "cell_type": "code",
   "execution_count": null,
   "id": "10b1e5a3",
   "metadata": {},
   "outputs": [],
   "source": [
    "# Chi-Squared Test: Association between 'Domestic_International' and 'Arrival_Departure'\n",
    "# Creating a contingency table\n",
    "contingency_table_la = pd.crosstab(la_data['Domestic_International'], la_data['Arrival_Departure'])\n",
    "\n",
    "# Performing the Chi-Squared test\n",
    "chi2_la, p_la, dof_la, expected_la = chi2_contingency(contingency_table_la)\n",
    "\n",
    "chi2_test_results_la = {\n",
    "    'Chi-Square Statistic': chi2_la,\n",
    "    'p-value': p_la,\n",
    "    'Degrees of Freedom': dof_la,\n",
    "    'Expected Frequencies': expected_la\n",
    "}\n",
    "\n",
    "chi2_test_results_la"
   ]
  },
  {
   "cell_type": "code",
   "execution_count": null,
   "id": "70b911f7",
   "metadata": {},
   "outputs": [],
   "source": [
    "# Selecting two years for Independent Samples T-Test\n",
    "# We choose years with notable differences in passenger counts\n",
    "year_1 = 2010\n",
    "year_2 = 2015\n",
    "\n",
    "data_year_1 = la_data[la_data['Year'] == year_1]['Passenger_Count']\n",
    "data_year_2 = la_data[la_data['Year'] == year_2]['Passenger_Count']\n",
    "\n",
    "# Perform T-Test\n",
    "t_stat_la, p_value_la = stats.ttest_ind(data_year_1, data_year_2, equal_var=False)  # Assume unequal variance\n",
    "\n",
    "t_test_results_la = {\n",
    "    'T-Statistic': t_stat_la,\n",
    "    'p-value': p_value_la\n",
    "}\n",
    "\n",
    "t_test_results_la"
   ]
  },
  {
   "cell_type": "code",
   "execution_count": null,
   "id": "7a8bc011",
   "metadata": {},
   "outputs": [],
   "source": [
    "# One-Sample T-Test: Test if the average number of passengers in 2010 is different from a hypothesized value\n",
    "hypothesized_mean_la = 600000  # Hypothesized mean value based on the overall distribution\n",
    "\n",
    "# Perform the test\n",
    "t_stat_one_sample, p_value_one_sample = stats.ttest_1samp(data_year_1, hypothesized_mean_la)\n",
    "\n",
    "one_sample_t_test_results_la = {\n",
    "    'T-Statistic': t_stat_one_sample,\n",
    "    'p-value': p_value_one_sample\n",
    "}\n",
    "\n",
    "one_sample_t_test_results_la"
   ]
  },
  {
   "cell_type": "code",
   "execution_count": null,
   "id": "c446a87b",
   "metadata": {},
   "outputs": [],
   "source": [
    "# Selecting two consecutive years for the Wilcoxon Signed-Rank Test\n",
    "# Let's choose recent complete years, for example, 2018 and 2019\n",
    "data_2018 = la_data[la_data['Year'] == 2018]['Passenger_Count']\n",
    "data_2019 = la_data[la_data['Year'] == 2019]['Passenger_Count']\n",
    "\n",
    "# We need to ensure the data pairs are of equal length\n",
    "# Truncate the longer series to match the length of the shorter one\n",
    "min_length = min(len(data_2018), len(data_2019))\n",
    "data_2018_truncated = data_2018.sample(n=min_length, random_state=1)\n",
    "data_2019_truncated = data_2019.sample(n=min_length, random_state=1)\n",
    "\n",
    "# Perform Wilcoxon Signed-Rank Test\n",
    "w_stat, p_value = stats.wilcoxon(data_2018_truncated, data_2019_truncated)\n",
    "\n",
    "wilcoxon_test_results_la = {\n",
    "    'Wilcoxon Statistic': w_stat,\n",
    "    'p-value': p_value\n",
    "}\n",
    "\n",
    "wilcoxon_test_results_la"
   ]
  },
  {
   "cell_type": "code",
   "execution_count": null,
   "id": "0b2cde2b",
   "metadata": {},
   "outputs": [],
   "source": [
    "# Adjusted Seasonal Trend Analysis for Each Dataset Individually\n",
    "\n",
    "# Ireland Dataset: We can only analyze yearly trends as monthly data is not available\n",
    "ireland_yearly = ireland_df.groupby('year')['passenger_millions'].sum()\n",
    "\n",
    "# LA Flights Dataset: Analyzing Monthly Trends\n",
    "la_monthly = la_flights_df.groupby('month')['passenger_count'].sum()\n",
    "\n",
    "# Visualizing Yearly Trends for Ireland\n",
    "plt.figure(figsize=(14, 7))\n",
    "sns.lineplot(data=ireland_yearly)\n",
    "plt.title('Yearly Passenger Trends in Ireland')\n",
    "plt.ylabel('Total Passengers (Millions)')\n",
    "plt.xlabel('Year')\n",
    "plt.grid(True)\n",
    "plt.show()\n",
    "\n",
    "# Visualizing Monthly Trends for LA\n",
    "plt.figure(figsize=(14, 7))\n",
    "sns.lineplot(data=la_monthly)\n",
    "plt.title('Monthly Passenger Trends in LA')\n",
    "plt.ylabel('Total Passengers')\n",
    "plt.xlabel('Month')\n",
    "plt.grid(True)\n",
    "plt.show()\n",
    "\n",
    "# Insights will be derived based on these visualizations\n",
    "# Note: The absence of monthly data in the Ireland dataset limits the depth of comparative seasonal analysis."
   ]
  },
  {
   "cell_type": "code",
   "execution_count": null,
   "id": "091086cc",
   "metadata": {},
   "outputs": [],
   "source": [
    "# Data Preparation\n",
    "ireland_yearly = ireland_filtered.groupby('year')['passenger_millions'].sum() * 1e6\n",
    "la_yearly = la_flights_dataset.groupby('year')['passenger_count'].sum()\n",
    "\n",
    "combined_yearly = pd.DataFrame({\n",
    "    'Year': ireland_yearly.index,\n",
    "    'Passengers_Ireland': ireland_yearly.values,\n",
    "    'Passengers_LA': la_yearly.values\n",
    "})\n",
    "\n",
    "combined_yearly_bokeh = ColumnDataSource(combined_yearly)\n",
    "\n",
    "# Bokeh Line Chart\n",
    "p1 = figure(title=\"Yearly Passenger Trends: Ireland vs LA\", x_axis_label='Year', y_axis_label='Total Passengers', x_axis_type='linear')\n",
    "p1.line('Year', 'Passengers_Ireland', source=combined_yearly_bokeh, legend_label='Ireland', line_color='blue')\n",
    "p1.line('Year', 'Passengers_LA', source=combined_yearly_bokeh, legend_label='LA', line_color='orange')\n",
    "\n",
    "# Show plot\n",
    "show(p1)"
   ]
  },
  {
   "cell_type": "code",
   "execution_count": null,
   "id": "49981330",
   "metadata": {},
   "outputs": [],
   "source": [
    "# Bokeh Bar Chart for Flight Type Distribution in Ireland\n",
    "p2 = figure(title=\"Flight Type Distribution in Ireland\", x_range=flight_types_ireland.index.tolist(), y_axis_label='Count')\n",
    "p2.vbar(x=flight_types_ireland.index, top=flight_types_ireland.values, width=0.5)\n",
    "\n",
    "# Show plot\n",
    "show(p2)"
   ]
  },
  {
   "cell_type": "code",
   "execution_count": null,
   "id": "613b27f3",
   "metadata": {},
   "outputs": [],
   "source": [
    "\n",
    "\n",
    "# Bokeh Pie Chart for Domestic vs International Flights in LA\n",
    "data = pd.Series(dom_int_flights_la).reset_index(name='value').rename(columns={'index':'flight_type'})\n",
    "data['angle'] = data['value']/data['value'].sum() * 2*pi\n",
    "data['color'] = Category20c[len(dom_int_flights_la)]\n",
    "\n",
    "p3 = figure(plot_height=350, title=\"Domestic vs International Flights in LA\", toolbar_location=None, tools=\"hover\", tooltips=\"@flight_type: @value\", x_range=(-0.5, 1.0))\n",
    "p3.wedge(x=0, y=1, radius=0.4, start_angle=cumsum('angle', include_zero=True), end_angle=cumsum('angle'), line_color=\"white\", fill_color='color', legend_field='flight_type', source=data)\n",
    "\n",
    "# Show plot\n",
    "show(p3)"
   ]
  }
 ],
 "metadata": {
  "kernelspec": {
   "display_name": "Python 3 (ipykernel)",
   "language": "python",
   "name": "python3"
  },
  "language_info": {
   "codemirror_mode": {
    "name": "ipython",
    "version": 3
   },
   "file_extension": ".py",
   "mimetype": "text/x-python",
   "name": "python",
   "nbconvert_exporter": "python",
   "pygments_lexer": "ipython3",
   "version": "3.11.4"
  }
 },
 "nbformat": 4,
 "nbformat_minor": 5
}
