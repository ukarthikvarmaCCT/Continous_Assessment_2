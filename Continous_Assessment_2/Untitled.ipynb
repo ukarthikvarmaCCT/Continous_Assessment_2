{
 "cells": [
  {
   "cell_type": "code",
   "execution_count": null,
   "id": "ebd368e5",
   "metadata": {},
   "outputs": [],
   "source": [
    "import pandas as pd\n",
    "import matplotlib.pyplot as plt\n",
    "import seaborn as sns\n",
    "from bokeh.palettes import Category20c\n",
    "from bokeh.transform import cumsum\n",
    "from bokeh.plotting import figure, show\n",
    "from bokeh.models import ColumnDataSource\n",
    "from bokeh.layouts import column\n",
    "from sklearn.preprocessing import MinMaxScaler\n",
    "import numpy as np\n",
    "import plotly.express as px\n",
    "# Load the Ireland datasets\n",
    "ireland_dataset_filename1 = 'TAA02.20240102175208.csv'\n",
    "ireland_dataset_filename2 = 'TAA03.20240102175407.csv'\n",
    "\n",
    "ireland_dataset_1 = pd.read_csv(ireland_dataset_filename1)\n",
    "ireland_dataset_2 = pd.read_csv(ireland_dataset_filename2)\n",
    "\n",
    "# Combining the datasets\n",
    "combined_ireland_dataset = pd.concat([ireland_dataset_1, ireland_dataset_2], ignore_index=True)\n",
    "\n",
    "# Load the LA flights dataset\n",
    "la_flights_dataset_path = 'Los_Angeles_International_Airport_-_Passenger_Count_By_Carrier_Type (2).csv'\n",
    "la_flights_dataset = pd.read_csv(la_flights_dataset_path)\n",
    "\n",
    "# Dropping columns with null values in the combined Ireland dataset\n",
    "columns_to_drop_ireland = ['C02191V03548', 'C02191V04000','STATISTIC', 'Statistic Label','TLIST(A1)', 'C02935V03550', 'C02354V02832', 'C02936V03551']\n",
    "cleaned_ireland_dataset = combined_ireland_dataset.drop(columns=columns_to_drop_ireland)\n",
    "\n",
    "# For Ireland Dataset: Creating a new feature 'Passenger Millions' for easier readability\n",
    "cleaned_ireland_dataset['Passenger Millions'] = cleaned_ireland_dataset['VALUE'] / 1000\n",
    "\n",
    "# Converting 'ReportPeriod' to datetime format in LA dataset for easier handling\n",
    "la_flights_dataset['ReportPeriod'] = pd.to_datetime(la_flights_dataset['ReportPeriod'])\n",
    "\n",
    "# Creating new features 'Month' and 'Year' extracted from 'ReportPeriod' in LA dataset\n",
    "la_flights_dataset['Month'] = la_flights_dataset['ReportPeriod'].dt.month\n",
    "la_flights_dataset['Year'] = la_flights_dataset['ReportPeriod'].dt.year\n",
    "\n",
    "# Min-Max Normalization\n",
    "scaler = MinMaxScaler()\n",
    "\n",
    "# Applying Min-Max normalization to the 'Passenger Millions' column in both datasets\n",
    "ireland_passenger_values = cleaned_ireland_dataset['Passenger Millions'].values.reshape(-1, 1)\n",
    "la_passenger_values = la_flights_dataset['Passenger_Count'].values.reshape(-1, 1)\n",
    "\n",
    "# Fitting the scaler to the Ireland dataset and transforming both datasets\n",
    "scaler.fit(ireland_passenger_values)\n",
    "cleaned_ireland_dataset['Scaled Passenger Millions'] = scaler.transform(ireland_passenger_values)\n",
    "la_flights_dataset['Scaled Passenger Count'] = scaler.transform(la_passenger_values) / 1_000_000  # Scaling down to millions\n",
    "\n",
    "# [Continue with your existing code for analysis and visualization]\n",
    "\n",
    "# ...\n",
    "\n"
   ]
  }
 ],
 "metadata": {
  "kernelspec": {
   "display_name": "Python 3 (ipykernel)",
   "language": "python",
   "name": "python3"
  },
  "language_info": {
   "codemirror_mode": {
    "name": "ipython",
    "version": 3
   },
   "file_extension": ".py",
   "mimetype": "text/x-python",
   "name": "python",
   "nbconvert_exporter": "python",
   "pygments_lexer": "ipython3",
   "version": "3.11.4"
  }
 },
 "nbformat": 4,
 "nbformat_minor": 5
}
